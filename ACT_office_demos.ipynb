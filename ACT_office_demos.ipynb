{
  "nbformat": 4,
  "nbformat_minor": 0,
  "metadata": {
    "colab": {
      "provenance": [],
      "authorship_tag": "ABX9TyOO3IRWtl3J9FnY4n27lX3Z",
      "include_colab_link": true
    },
    "kernelspec": {
      "name": "python3",
      "display_name": "Python 3"
    },
    "language_info": {
      "name": "python"
    }
  },
  "cells": [
    {
      "cell_type": "markdown",
      "metadata": {
        "id": "view-in-github",
        "colab_type": "text"
      },
      "source": [
        "<a href=\"https://colab.research.google.com/github/pranavkantgaur/training_materials/blob/master/ACT_office_demos.ipynb\" target=\"_parent\"><img src=\"https://colab.research.google.com/assets/colab-badge.svg\" alt=\"Open In Colab\"/></a>"
      ]
    },
    {
      "cell_type": "code",
      "source": [
        "# Common Imports\n",
        "import numpy as np\n",
        "import matplotlib.pyplot as plt\n",
        "import time\n",
        "import random"
      ],
      "metadata": {
        "id": "Oli8pc5AKGXu"
      },
      "execution_count": 2,
      "outputs": []
    },
    {
      "cell_type": "markdown",
      "source": [
        "##Lecture 1: Naive Monte Carlo Simulation\n",
        "\n",
        "Objective: Implement a serial neutron absorption simulator."
      ],
      "metadata": {
        "id": "a3CZuC_YKNFO"
      }
    },
    {
      "cell_type": "code",
      "source": [
        "def simulate_serial(N=10000, p_abs=0.01, max_steps=100):\n",
        "    absorbed = 0\n",
        "    for _ in range(N):\n",
        "        for _ in range(max_steps):\n",
        "            if random.random() < p_abs:\n",
        "                absorbed += 1\n",
        "                break\n",
        "    return absorbed\n",
        "\n",
        "# Runtime and accuracy test\n",
        "start = time.time()\n",
        "result = simulate_serial(10000)  # Smaller N for quick demo\n",
        "print(f\"Absorbed: {result} | Time: {time.time() - start:.2f}s\")"
      ],
      "metadata": {
        "colab": {
          "base_uri": "https://localhost:8080/"
        },
        "id": "YICFiNoKKIrk",
        "outputId": "e1ebb45a-97a0-4159-b3cc-b361334bf2b5"
      },
      "execution_count": 3,
      "outputs": [
        {
          "output_type": "stream",
          "name": "stdout",
          "text": [
            "Absorbed: 6341 | Time: 0.17s\n"
          ]
        }
      ]
    },
    {
      "cell_type": "markdown",
      "source": [
        "Explanation:\n",
        "\n",
        "    Each neutron is simulated independently with a loop-in-loop structure.\n",
        "\n",
        "    p_abs=0.01 means a 1% chance of absorption per step.\n",
        "\n"
      ],
      "metadata": {
        "id": "GC4X5djyKSrU"
      }
    },
    {
      "cell_type": "markdown",
      "source": [
        "## C++ version"
      ],
      "metadata": {
        "id": "IdRY3eX1fGV1"
      }
    },
    {
      "cell_type": "code",
      "source": [
        "%%shell\n",
        "cat << 'EOF' > neutron.cpp\n",
        "#include <iostream>\n",
        "#include <random>\n",
        "#include <chrono>\n",
        "\n",
        "int simulate_cpp(int N=10000, double p_abs=0.01, int max_steps=100) {\n",
        "    std::random_device rd;\n",
        "    std::mt19937 gen(rd());\n",
        "    std::uniform_real_distribution<> dis(0.0, 1.0);\n",
        "\n",
        "    int absorbed = 0;\n",
        "    for (int i = 0; i < N; ++i) {\n",
        "        for (int step = 0; step < max_steps; ++step) {\n",
        "            if (dis(gen) < p_abs) {\n",
        "                absorbed++;\n",
        "                break;\n",
        "            }\n",
        "        }\n",
        "    }\n",
        "    return absorbed;\n",
        "}\n",
        "\n",
        "int main() {\n",
        "    auto start = std::chrono::high_resolution_clock::now();\n",
        "    int result = simulate_cpp();\n",
        "    auto end = std::chrono::high_resolution_clock::now();\n",
        "    std::chrono::duration<double> elapsed = end - start;\n",
        "    std::cout << \"C++ Result: \" << result\n",
        "              << \" | Time: \" << elapsed.count() << \"s\\n\";\n",
        "    return 0;\n",
        "}\n",
        "EOF"
      ],
      "metadata": {
        "colab": {
          "base_uri": "https://localhost:8080/"
        },
        "id": "piP50WlRpBzK",
        "outputId": "df82bc36-793d-488d-f17c-74a26806774f"
      },
      "execution_count": 4,
      "outputs": [
        {
          "output_type": "execute_result",
          "data": {
            "text/plain": []
          },
          "metadata": {},
          "execution_count": 4
        }
      ]
    },
    {
      "cell_type": "code",
      "source": [
        "%%shell\n",
        "# Compile C++ code with optimizations\n",
        "g++ -O3 -o neutron_simulation neutron.cpp\n",
        "./neutron_simulation"
      ],
      "metadata": {
        "colab": {
          "base_uri": "https://localhost:8080/"
        },
        "id": "KSgxQdpKpH5u",
        "outputId": "f2f60965-838b-4ee6-d014-578dc8c7b3e0"
      },
      "execution_count": 5,
      "outputs": [
        {
          "output_type": "stream",
          "name": "stdout",
          "text": [
            "C++ Result: 6362 | Time: 0.0132403s\n"
          ]
        },
        {
          "output_type": "execute_result",
          "data": {
            "text/plain": []
          },
          "metadata": {},
          "execution_count": 5
        }
      ]
    },
    {
      "cell_type": "markdown",
      "source": [
        "## Time profile serial implementation"
      ],
      "metadata": {
        "id": "HR7RFVzzfKiB"
      }
    },
    {
      "cell_type": "code",
      "source": [
        "import cProfile\n",
        "\n",
        "def simulate_serial(N=10000, p_abs=0.01, max_steps=100):\n",
        "    absorbed = 0\n",
        "    for _ in range(N):\n",
        "        for _ in range(max_steps):\n",
        "            if random.random() < p_abs:\n",
        "                absorbed += 1\n",
        "                break\n",
        "    return absorbed\n",
        "\n",
        "# Profile function\n",
        "cProfile.run('simulate_serial(10000)', sort='cumulative')"
      ],
      "metadata": {
        "colab": {
          "base_uri": "https://localhost:8080/"
        },
        "id": "dHQjeFAqqQUL",
        "outputId": "638c8b4f-e90c-4321-b173-167c76bd4799"
      },
      "execution_count": 6,
      "outputs": [
        {
          "output_type": "stream",
          "name": "stdout",
          "text": [
            "         635155 function calls in 0.178 seconds\n",
            "\n",
            "   Ordered by: cumulative time\n",
            "\n",
            "   ncalls  tottime  percall  cumtime  percall filename:lineno(function)\n",
            "        1    0.000    0.000    0.178    0.178 {built-in method builtins.exec}\n",
            "        1    0.000    0.000    0.178    0.178 <string>:1(<module>)\n",
            "        1    0.133    0.133    0.178    0.178 <ipython-input-6-1fb315fcf3de>:3(simulate_serial)\n",
            "   635151    0.045    0.000    0.045    0.000 {method 'random' of '_random.Random' objects}\n",
            "        1    0.000    0.000    0.000    0.000 {method 'disable' of '_lsprof.Profiler' objects}\n",
            "\n",
            "\n"
          ]
        }
      ]
    },
    {
      "cell_type": "markdown",
      "source": [
        "### Line by line profiling"
      ],
      "metadata": {
        "id": "IJya8MfqfWbV"
      }
    },
    {
      "cell_type": "code",
      "source": [
        "!pip install line_profiler"
      ],
      "metadata": {
        "colab": {
          "base_uri": "https://localhost:8080/"
        },
        "id": "Wvvpt-Z-sWPe",
        "outputId": "7f0835e8-2ed0-4d7c-fb9e-8783a389a203"
      },
      "execution_count": 7,
      "outputs": [
        {
          "output_type": "stream",
          "name": "stdout",
          "text": [
            "Collecting line_profiler\n",
            "  Downloading line_profiler-4.2.0-cp311-cp311-manylinux_2_17_x86_64.manylinux2014_x86_64.whl.metadata (34 kB)\n",
            "Downloading line_profiler-4.2.0-cp311-cp311-manylinux_2_17_x86_64.manylinux2014_x86_64.whl (750 kB)\n",
            "\u001b[2K   \u001b[90m━━━━━━━━━━━━━━━━━━━━━━━━━━━━━━━━━━━━━━━━\u001b[0m \u001b[32m750.2/750.2 kB\u001b[0m \u001b[31m12.3 MB/s\u001b[0m eta \u001b[36m0:00:00\u001b[0m\n",
            "\u001b[?25hInstalling collected packages: line_profiler\n",
            "Successfully installed line_profiler-4.2.0\n"
          ]
        }
      ]
    },
    {
      "cell_type": "code",
      "source": [
        "# Add this to your notebook\n",
        "%load_ext line_profiler\n",
        "\n",
        "def simulate_serial(N=10_000, p_abs=0.01, max_steps=100):\n",
        "    absorbed = 0\n",
        "    for _ in range(N):\n",
        "        for _ in range(max_steps):\n",
        "            if random.random() < p_abs:\n",
        "                absorbed += 1\n",
        "                break\n",
        "    return absorbed\n",
        "\n",
        "# Explicitly add the decorator (Colab workaround)\n",
        "from line_profiler import LineProfiler\n",
        "lp = LineProfiler()\n",
        "lp_wrapper = lp(simulate_serial)"
      ],
      "metadata": {
        "id": "UJiBogassYIL"
      },
      "execution_count": 8,
      "outputs": []
    },
    {
      "cell_type": "code",
      "source": [
        "# Execute with profiling\n",
        "result = lp_wrapper()\n",
        "lp.print_stats()"
      ],
      "metadata": {
        "colab": {
          "base_uri": "https://localhost:8080/"
        },
        "id": "7Jg3xUlKsdyA",
        "outputId": "003f8b0a-d81d-4cd4-8a24-d11e1333089c"
      },
      "execution_count": 9,
      "outputs": [
        {
          "output_type": "stream",
          "name": "stdout",
          "text": [
            "Timer unit: 1e-09 s\n",
            "\n",
            "Total time: 0.515393 s\n",
            "File: <ipython-input-8-46150dfae621>\n",
            "Function: simulate_serial at line 4\n",
            "\n",
            "Line #      Hits         Time  Per Hit   % Time  Line Contents\n",
            "==============================================================\n",
            "     4                                           def simulate_serial(N=10_000, p_abs=0.01, max_steps=100):\n",
            "     5         1        988.0    988.0      0.0      absorbed = 0\n",
            "     6     10001    3178235.0    317.8      0.6      for _ in range(N):\n",
            "     7    637560  186472329.0    292.5     36.2          for _ in range(max_steps):\n",
            "     8    633922  321429461.0    507.0     62.4              if random.random() < p_abs:\n",
            "     9      6362    2384516.0    374.8      0.5                  absorbed += 1\n",
            "    10      6362    1926060.0    302.7      0.4                  break\n",
            "    11         1       1325.0   1325.0      0.0      return absorbed\n",
            "\n"
          ]
        }
      ]
    },
    {
      "cell_type": "markdown",
      "source": [
        "Assignment:\n",
        "1. Read specification of `random` module -- which probabolity distributions are supported? Also, comment on which one to use when.\n",
        "2. What are range() objects in python?\n",
        "3. How to improve the runtime performance without resorting to parallelization/vectorization?\n",
        "   1. What is the penalty of `if` statement on overall performance? How to prevent that?\n",
        "4. What does the `pip` command do? List steps. What are its alternatives?\n",
        "5. How `cProfile.run('simulate_serial(10000)', sort='cumulative')` works?\n",
        "6. Explain the working of:\n",
        "\n",
        "\n",
        "```\n",
        "from line_profiler import LineProfiler\n",
        "lp = LineProfiler()\n",
        "lp_wrapper = lp(simulate_serial)\n",
        "result = lp_wrapper()\n",
        "lp.print_stats()\n",
        "```\n",
        "\n",
        "\n"
      ],
      "metadata": {
        "id": "1Kdy0oktp2YM"
      }
    },
    {
      "cell_type": "markdown",
      "source": [
        "## Lecture 2: Vectorized Implementation\n",
        "\n",
        "Objective: Optimize using array operations."
      ],
      "metadata": {
        "id": "MMVTA1EhKXRm"
      }
    },
    {
      "cell_type": "markdown",
      "source": [
        "# READ:https://chat.deepseek.com/a/chat/s/5ab04fdf-3e96-4ed6-87c2-513d4a518ae4"
      ],
      "metadata": {
        "id": "Rn_Uku1gV3Oi"
      }
    },
    {
      "cell_type": "markdown",
      "source": [
        "### With Numpy"
      ],
      "metadata": {
        "id": "t6BCxgKcuyu8"
      }
    },
    {
      "cell_type": "code",
      "source": [
        "import numpy as np\n",
        "from line_profiler import LineProfiler\n",
        "from memory_profiler import profile\n",
        "\n",
        "# Vectorized simulation\n",
        "def simulate_numpy(N=10_000, p_abs=0.01, max_steps=100):\n",
        "    # Generate all random numbers at once\n",
        "    steps = np.random.rand(N, max_steps)  # Shape: (N, max_steps)\n",
        "\n",
        "    # Check absorption per neutron (any step < p_abs)\n",
        "    absorbed = np.any(steps < p_abs, axis=1).sum()\n",
        "\n",
        "    return absorbed\n",
        "\n",
        "# Line-level runtime profiling\n",
        "lp = LineProfiler()\n",
        "lp.add_function(simulate_numpy) # Add the function to be profiled\n",
        "lp_wrapper = lp(simulate_numpy) # Wrap the function using lp\n",
        "\n",
        "# Execute with profiling, this will call the wrapped function\n",
        "result = lp_wrapper(N=10_000, p_abs=0.01, max_steps=100)\n",
        "\n",
        "# Print line profiling stats\n",
        "lp.print_stats()\n",
        "\n",
        "# Print memory profiling results (will be printed to the console)"
      ],
      "metadata": {
        "colab": {
          "base_uri": "https://localhost:8080/"
        },
        "id": "nLgyudVLKaFi",
        "outputId": "c167880c-89fd-4d7c-df1b-32c2c6125600"
      },
      "execution_count": null,
      "outputs": [
        {
          "output_type": "stream",
          "name": "stdout",
          "text": [
            "Timer unit: 1e-09 s\n",
            "\n",
            "Total time: 0.0124622 s\n",
            "File: <ipython-input-23-639abaf06017>\n",
            "Function: simulate_numpy at line 6\n",
            "\n",
            "Line #      Hits         Time  Per Hit   % Time  Line Contents\n",
            "==============================================================\n",
            "     6                                           def simulate_numpy(N=10_000, p_abs=0.01, max_steps=100):\n",
            "     7                                               # Generate all random numbers at once\n",
            "     8         1   10791134.0    1e+07     86.6      steps = np.random.rand(N, max_steps)  # Shape: (N, max_steps)\n",
            "     9                                               \n",
            "    10                                               # Check absorption per neutron (any step < p_abs)\n",
            "    11         1    1670348.0    2e+06     13.4      absorbed = np.any(steps < p_abs, axis=1).sum()\n",
            "    12                                               \n",
            "    13         1        748.0    748.0      0.0      return absorbed\n",
            "\n"
          ]
        }
      ]
    },
    {
      "cell_type": "code",
      "source": [
        "%%writefile my_script.py\n",
        "import numpy as np\n",
        "\n",
        "def simulate_numpy(N=10_000, p_abs=0.01, max_steps=100):\n",
        "    # Generate all random numbers at once\n",
        "    steps = np.random.rand(N, max_steps)  # Shape: (N, max_steps)\n",
        "\n",
        "    # Check absorption per neutron (any step < p_abs)\n",
        "    absorbed = np.any(steps < p_abs, axis=1).sum()\n",
        "\n",
        "    return absorbed"
      ],
      "metadata": {
        "colab": {
          "base_uri": "https://localhost:8080/"
        },
        "id": "SeHYWJvUxNq4",
        "outputId": "56ad26d7-70e8-4939-c3f4-49a0101b6a68"
      },
      "execution_count": null,
      "outputs": [
        {
          "output_type": "stream",
          "name": "stdout",
          "text": [
            "Writing my_script.py\n"
          ]
        }
      ]
    },
    {
      "cell_type": "markdown",
      "source": [
        "## C++ version"
      ],
      "metadata": {
        "id": "VwqFzcs2u50N"
      }
    },
    {
      "cell_type": "code",
      "source": [
        "%%shell\n",
        "cat << 'EOF' > neutron_vectorized.cpp\n",
        "#include <iostream>\n",
        "#include <vector>\n",
        "#include <random>\n",
        "#include <chrono>\n",
        "#include <algorithm>\n",
        "\n",
        "int simulate_cpp_vectorized(int N=10000, double p_abs=0.01, int max_steps=100) {\n",
        "    std::random_device rd;\n",
        "    std::mt19937 gen(rd());\n",
        "    std::uniform_real_distribution<> dis(0.0, 1.0);\n",
        "\n",
        "    std::vector<bool> absorbed(N, false);  // Vectorized absorption flags\n",
        "\n",
        "    for (int i = 0; i < N; ++i) {\n",
        "        for (int step = 0; step < max_steps; ++step) {\n",
        "            if (dis(gen) < p_abs) {\n",
        "                absorbed[i] = true;\n",
        "                break;\n",
        "            }\n",
        "        }\n",
        "    }\n",
        "\n",
        "    return std::count(absorbed.begin(), absorbed.end(), true);\n",
        "}\n",
        "\n",
        "int main() {\n",
        "    auto start = std::chrono::high_resolution_clock::now();\n",
        "    int result = simulate_cpp_vectorized();\n",
        "    auto end = std::chrono::high_resolution_clock::now();\n",
        "    std::chrono::duration<double> elapsed = end - start;\n",
        "\n",
        "    std::cout << \"C++ Vectorized Result: \" << result\n",
        "              << \" | Time: \" << elapsed.count() << \"s\\n\";\n",
        "    return 0;\n",
        "}\n",
        "EOF\n",
        "\n",
        "g++ -O3 -o neutron_vectorized neutron_vectorized.cpp && ./neutron_vectorized"
      ],
      "metadata": {
        "colab": {
          "base_uri": "https://localhost:8080/"
        },
        "id": "dKO--Pigu7jo",
        "outputId": "7e383d3e-bf95-4142-89b0-6f60a3ded47b"
      },
      "execution_count": null,
      "outputs": [
        {
          "output_type": "stream",
          "name": "stdout",
          "text": [
            "C++ Vectorized Result: 6274 | Time: 0.0123285s\n"
          ]
        },
        {
          "output_type": "execute_result",
          "data": {
            "text/plain": []
          },
          "metadata": {},
          "execution_count": 18
        }
      ]
    },
    {
      "cell_type": "markdown",
      "source": [
        "## Memory profiling"
      ],
      "metadata": {
        "id": "pE9LTRRkf_3W"
      }
    },
    {
      "cell_type": "code",
      "source": [
        "from my_script import simulate_numpy\n",
        "from memory_profiler import profile\n",
        "\n",
        "# Memory profiling (run separately)\n",
        "%mprun -f simulate_numpy simulate_numpy(100000)"
      ],
      "metadata": {
        "colab": {
          "base_uri": "https://localhost:8080/"
        },
        "id": "N6N8VGjZw80s",
        "outputId": "a7f3dd2a-70c8-46ea-9373-20a90bcfb311"
      },
      "execution_count": null,
      "outputs": [
        {
          "output_type": "stream",
          "name": "stdout",
          "text": [
            "\n"
          ]
        }
      ]
    },
    {
      "cell_type": "markdown",
      "source": [
        "Assignment:\n",
        "\n",
        "1. How to reduce the memory usage of the vectorized version?\n",
        "2. Why `absorbed` did not take memory?"
      ],
      "metadata": {
        "id": "w-yFV7jVKdvK"
      }
    },
    {
      "cell_type": "markdown",
      "source": [
        "## Lecture 3: Multiprocessing Parallelization\n",
        "\n",
        "Objective: Distribute work across CPU cores."
      ],
      "metadata": {
        "id": "DvzAxbSLKfD0"
      }
    },
    {
      "cell_type": "code",
      "source": [
        "from multiprocessing import Pool\n",
        "\n",
        "def simulate_neutron(args):\n",
        "    p_abs, max_steps = args\n",
        "    for _ in range(max_steps):\n",
        "        if random.random() < p_abs:\n",
        "            return 1\n",
        "    return 0\n",
        "\n",
        "def simulate_parallel(N=10_000, p_abs=0.01, max_steps=100):\n",
        "    with Pool(2) as pool:  # Use 4 cores\n",
        "        results = pool.map(simulate_neutron, [(p_abs, max_steps)] * N)\n",
        "    return sum(results)\n",
        "start = time.time()\n",
        "print(\"Parallel Result:\", simulate_parallel())\n",
        "print(f\"Parallel Time: {time.time() - start:.4f}s\")"
      ],
      "metadata": {
        "colab": {
          "base_uri": "https://localhost:8080/"
        },
        "id": "OjVVkZS9KhV-",
        "outputId": "4716fee4-581c-46df-9a0b-cca95327fc35"
      },
      "execution_count": null,
      "outputs": [
        {
          "output_type": "stream",
          "name": "stdout",
          "text": [
            "Parallel Result: 6328\n",
            "Parallel Time: 0.0978s\n"
          ]
        }
      ]
    },
    {
      "cell_type": "markdown",
      "source": [
        "Explanation:\n",
        "\n",
        "    Pool.map splits N neutrons across workers.\n",
        "\n",
        "    Each neutron simulation is independent (embarrassingly parallel).\n",
        "\n",
        "Assignment:\n",
        "\n",
        "    Benchmark performance for Pool(2) vs. Pool(8) on Google Colab."
      ],
      "metadata": {
        "id": "WmXGzd3JKjeY"
      }
    },
    {
      "cell_type": "markdown",
      "source": [
        "## Lecture 4: GPU Acceleration with CuPy\n",
        "\n",
        "Objective: Offload computation to GPU."
      ],
      "metadata": {
        "id": "ddg6ZFbWKmHs"
      }
    },
    {
      "cell_type": "code",
      "source": [
        "!apt-get update\n",
        "!apt-get install -y --no-install-recommends cuda-drivers\n",
        "\n",
        "# Check driver version to confirm update\n",
        "!nvidia-smi"
      ],
      "metadata": {
        "colab": {
          "base_uri": "https://localhost:8080/"
        },
        "id": "2N5TKADzU2s8",
        "outputId": "b78aa7ea-c4bd-4204-9f64-e1ce78187ea3"
      },
      "execution_count": null,
      "outputs": [
        {
          "output_type": "stream",
          "name": "stdout",
          "text": [
            "\r0% [Working]\r            \rGet:1 https://cloud.r-project.org/bin/linux/ubuntu jammy-cran40/ InRelease [3,632 B]\n",
            "\r0% [Connecting to archive.ubuntu.com (91.189.91.82)] [Connecting to security.ubuntu.com (185.125.190\r0% [Connecting to archive.ubuntu.com (91.189.91.82)] [Connecting to security.ubuntu.com (185.125.190\r                                                                                                    \rGet:2 https://developer.download.nvidia.com/compute/cuda/repos/ubuntu2204/x86_64  InRelease [1,581 B]\n",
            "Hit:3 http://archive.ubuntu.com/ubuntu jammy InRelease\n",
            "Get:4 https://r2u.stat.illinois.edu/ubuntu jammy InRelease [6,555 B]\n",
            "Get:5 http://archive.ubuntu.com/ubuntu jammy-updates InRelease [128 kB]\n",
            "Get:6 http://security.ubuntu.com/ubuntu jammy-security InRelease [129 kB]\n",
            "Get:7 http://archive.ubuntu.com/ubuntu jammy-backports InRelease [127 kB]\n",
            "Get:8 https://developer.download.nvidia.com/compute/cuda/repos/ubuntu2204/x86_64  Packages [1,381 kB]\n",
            "Hit:9 https://ppa.launchpadcontent.net/deadsnakes/ppa/ubuntu jammy InRelease\n",
            "Hit:10 https://ppa.launchpadcontent.net/graphics-drivers/ppa/ubuntu jammy InRelease\n",
            "Get:11 https://r2u.stat.illinois.edu/ubuntu jammy/main all Packages [8,784 kB]\n",
            "Hit:12 https://ppa.launchpadcontent.net/ubuntugis/ppa/ubuntu jammy InRelease\n",
            "Get:13 http://archive.ubuntu.com/ubuntu jammy-updates/main amd64 Packages [3,043 kB]\n",
            "Get:14 http://archive.ubuntu.com/ubuntu jammy-updates/universe amd64 Packages [1,538 kB]\n",
            "Get:15 http://archive.ubuntu.com/ubuntu jammy-updates/multiverse amd64 Packages [55.7 kB]\n",
            "Get:16 http://archive.ubuntu.com/ubuntu jammy-updates/restricted amd64 Packages [4,041 kB]\n",
            "Get:17 https://r2u.stat.illinois.edu/ubuntu jammy/main amd64 Packages [2,686 kB]\n",
            "Get:18 http://archive.ubuntu.com/ubuntu jammy-backports/universe amd64 Packages [35.2 kB]\n",
            "Get:19 http://security.ubuntu.com/ubuntu jammy-security/universe amd64 Packages [1,239 kB]\n",
            "Get:20 http://security.ubuntu.com/ubuntu jammy-security/main amd64 Packages [2,733 kB]\n",
            "Get:21 http://security.ubuntu.com/ubuntu jammy-security/multiverse amd64 Packages [47.7 kB]\n",
            "Get:22 http://security.ubuntu.com/ubuntu jammy-security/restricted amd64 Packages [3,884 kB]\n",
            "Fetched 29.9 MB in 4s (8,182 kB/s)\n",
            "Reading package lists... Done\n",
            "W: Skipping acquire of configured file 'main/source/Sources' as repository 'https://r2u.stat.illinois.edu/ubuntu jammy InRelease' does not seem to provide it (sources.list entry misspelt?)\n",
            "Reading package lists... Done\n",
            "Building dependency tree... Done\n",
            "Reading state information... Done\n",
            "The following additional packages will be installed:\n",
            "  cpp-12 cuda-drivers-570 dctrl-tools dkms gcc-12 keyboard-configuration libasan8 libfontenc1\n",
            "  libgcc-12-dev liblocale-gettext-perl libnvidia-cfg1-570 libnvidia-common-570\n",
            "  libnvidia-compute-570 libnvidia-decode-570 libnvidia-encode-570 libnvidia-extra-570\n",
            "  libnvidia-fbc1-570 libnvidia-gl-570 libtsan2 libxcvt0 libxfont2 libxkbfile1\n",
            "  nvidia-compute-utils-570 nvidia-dkms-570 nvidia-driver-570 nvidia-firmware-570-570.124.06\n",
            "  nvidia-kernel-common-570 nvidia-kernel-source-570 nvidia-modprobe nvidia-utils-570 udev\n",
            "  x11-xkb-utils xserver-common xserver-xorg-core xserver-xorg-video-nvidia-570\n",
            "Suggested packages:\n",
            "  gcc-12-locales cpp-12-doc debtags menu gcc-12-multilib gcc-12-doc xfonts-100dpi | xfonts-75dpi\n",
            "  xfonts-scalable\n",
            "Recommended packages:\n",
            "  fakeroot switcheroo-control nvidia-settings libnvidia-compute-570:i386 libnvidia-decode-570:i386\n",
            "  libnvidia-encode-570:i386 libnvidia-fbc1-570:i386 libnvidia-gl-570:i386 systemd-hwe-hwdb\n",
            "  xfonts-base xcvt\n",
            "The following NEW packages will be installed:\n",
            "  cpp-12 cuda-drivers cuda-drivers-570 dctrl-tools dkms gcc-12 keyboard-configuration libasan8\n",
            "  libfontenc1 libgcc-12-dev liblocale-gettext-perl libnvidia-cfg1-570 libnvidia-common-570\n",
            "  libnvidia-compute-570 libnvidia-decode-570 libnvidia-encode-570 libnvidia-extra-570\n",
            "  libnvidia-fbc1-570 libnvidia-gl-570 libtsan2 libxcvt0 libxfont2 libxkbfile1\n",
            "  nvidia-compute-utils-570 nvidia-dkms-570 nvidia-driver-570 nvidia-firmware-570-570.124.06\n",
            "  nvidia-kernel-common-570 nvidia-kernel-source-570 nvidia-modprobe nvidia-utils-570 udev\n",
            "  x11-xkb-utils xserver-common xserver-xorg-core xserver-xorg-video-nvidia-570\n",
            "0 upgraded, 36 newly installed, 0 to remove and 37 not upgraded.\n",
            "Need to get 394 MB of archives.\n",
            "After this operation, 1,158 MB of additional disk space will be used.\n",
            "Get:1 http://archive.ubuntu.com/ubuntu jammy/main amd64 liblocale-gettext-perl amd64 1.07-4build3 [17.1 kB]\n",
            "Get:2 http://archive.ubuntu.com/ubuntu jammy/main amd64 keyboard-configuration all 1.205ubuntu3 [206 kB]\n",
            "Get:3 http://archive.ubuntu.com/ubuntu jammy-updates/main amd64 cpp-12 amd64 12.3.0-1ubuntu1~22.04 [10.8 MB]\n",
            "Get:4 https://developer.download.nvidia.com/compute/cuda/repos/ubuntu2204/x86_64  libnvidia-common-570 570.124.06-0ubuntu1 [15.9 kB]\n",
            "Get:5 http://archive.ubuntu.com/ubuntu jammy-updates/main amd64 libasan8 amd64 12.3.0-1ubuntu1~22.04 [2,442 kB]\n",
            "Get:6 http://archive.ubuntu.com/ubuntu jammy-updates/main amd64 libtsan2 amd64 12.3.0-1ubuntu1~22.04 [2,477 kB]\n",
            "Get:7 http://archive.ubuntu.com/ubuntu jammy-updates/main amd64 libgcc-12-dev amd64 12.3.0-1ubuntu1~22.04 [2,618 kB]\n",
            "Get:8 http://archive.ubuntu.com/ubuntu jammy-updates/main amd64 gcc-12 amd64 12.3.0-1ubuntu1~22.04 [21.7 MB]\n",
            "Get:9 https://developer.download.nvidia.com/compute/cuda/repos/ubuntu2204/x86_64  libnvidia-gl-570 570.124.06-0ubuntu1 [162 MB]\n",
            "Get:10 http://archive.ubuntu.com/ubuntu jammy/main amd64 dctrl-tools amd64 2.24-3build2 [66.9 kB]\n",
            "Get:11 http://archive.ubuntu.com/ubuntu jammy-updates/main amd64 dkms all 2.8.7-2ubuntu2.2 [70.1 kB]\n",
            "Get:12 http://archive.ubuntu.com/ubuntu jammy-updates/main amd64 udev amd64 249.11-0ubuntu3.12 [1,557 kB]\n",
            "Get:13 http://archive.ubuntu.com/ubuntu jammy/main amd64 libxkbfile1 amd64 1:1.1.0-1build3 [71.8 kB]\n",
            "Get:14 http://archive.ubuntu.com/ubuntu jammy/main amd64 x11-xkb-utils amd64 7.7+5build4 [172 kB]\n",
            "Get:15 http://archive.ubuntu.com/ubuntu jammy-updates/main amd64 xserver-common all 2:21.1.4-2ubuntu1.7~22.04.13 [29.1 kB]\n",
            "Get:16 http://archive.ubuntu.com/ubuntu jammy/main amd64 libxcvt0 amd64 0.1.1-3 [5,494 B]\n",
            "Get:17 http://archive.ubuntu.com/ubuntu jammy/main amd64 libfontenc1 amd64 1:1.1.4-1build3 [14.7 kB]\n",
            "Get:18 http://archive.ubuntu.com/ubuntu jammy/main amd64 libxfont2 amd64 1:2.0.5-1build1 [94.5 kB]\n",
            "Get:19 http://archive.ubuntu.com/ubuntu jammy-updates/main amd64 xserver-xorg-core amd64 2:21.1.4-2ubuntu1.7~22.04.13 [1,477 kB]\n",
            "Get:20 https://developer.download.nvidia.com/compute/cuda/repos/ubuntu2204/x86_64  nvidia-kernel-source-570 570.124.06-0ubuntu1 [73.2 MB]\n",
            "Get:21 https://developer.download.nvidia.com/compute/cuda/repos/ubuntu2204/x86_64  nvidia-firmware-570-570.124.06 570.124.06-0ubuntu1 [64.5 MB]\n",
            "Get:22 https://developer.download.nvidia.com/compute/cuda/repos/ubuntu2204/x86_64  nvidia-modprobe 570.124.06-0ubuntu1 [14.9 kB]\n",
            "Get:23 https://developer.download.nvidia.com/compute/cuda/repos/ubuntu2204/x86_64  nvidia-kernel-common-570 570.124.06-0ubuntu1 [98.6 kB]\n",
            "Get:24 https://developer.download.nvidia.com/compute/cuda/repos/ubuntu2204/x86_64  nvidia-dkms-570 570.124.06-0ubuntu1 [14.9 kB]\n",
            "Get:25 https://developer.download.nvidia.com/compute/cuda/repos/ubuntu2204/x86_64  libnvidia-decode-570 570.124.06-0ubuntu1 [2,434 kB]\n",
            "Get:26 https://developer.download.nvidia.com/compute/cuda/repos/ubuntu2204/x86_64  libnvidia-compute-570 570.124.06-0ubuntu1 [44.1 MB]\n",
            "Get:27 https://developer.download.nvidia.com/compute/cuda/repos/ubuntu2204/x86_64  libnvidia-extra-570 570.124.06-0ubuntu1 [72.7 kB]\n",
            "Get:28 https://developer.download.nvidia.com/compute/cuda/repos/ubuntu2204/x86_64  nvidia-compute-utils-570 570.124.06-0ubuntu1 [109 kB]\n",
            "Get:29 https://developer.download.nvidia.com/compute/cuda/repos/ubuntu2204/x86_64  libnvidia-encode-570 570.124.06-0ubuntu1 [105 kB]\n",
            "Get:30 https://developer.download.nvidia.com/compute/cuda/repos/ubuntu2204/x86_64  nvidia-utils-570 570.124.06-0ubuntu1 [521 kB]\n",
            "Get:31 https://developer.download.nvidia.com/compute/cuda/repos/ubuntu2204/x86_64  libnvidia-cfg1-570 570.124.06-0ubuntu1 [145 kB]\n",
            "Get:32 https://developer.download.nvidia.com/compute/cuda/repos/ubuntu2204/x86_64  xserver-xorg-video-nvidia-570 570.124.06-0ubuntu1 [1,694 kB]\n",
            "Get:33 https://developer.download.nvidia.com/compute/cuda/repos/ubuntu2204/x86_64  libnvidia-fbc1-570 570.124.06-0ubuntu1 [98.2 kB]\n",
            "Get:34 https://developer.download.nvidia.com/compute/cuda/repos/ubuntu2204/x86_64  nvidia-driver-570 570.124.06-0ubuntu1 [491 kB]\n",
            "Get:35 https://developer.download.nvidia.com/compute/cuda/repos/ubuntu2204/x86_64  cuda-drivers-570 570.124.06-0ubuntu1 [2,554 B]\n",
            "Get:36 https://developer.download.nvidia.com/compute/cuda/repos/ubuntu2204/x86_64  cuda-drivers 570.124.06-0ubuntu1 [2,502 B]\n",
            "Fetched 394 MB in 12s (31.9 MB/s)\n",
            "Extracting templates from packages: 100%\n",
            "Preconfiguring packages ...\n",
            "Selecting previously unselected package liblocale-gettext-perl.\n",
            "(Reading database ... 126209 files and directories currently installed.)\n",
            "Preparing to unpack .../00-liblocale-gettext-perl_1.07-4build3_amd64.deb ...\n",
            "Unpacking liblocale-gettext-perl (1.07-4build3) ...\n",
            "Selecting previously unselected package keyboard-configuration.\n",
            "Preparing to unpack .../01-keyboard-configuration_1.205ubuntu3_all.deb ...\n",
            "Unpacking keyboard-configuration (1.205ubuntu3) ...\n",
            "Selecting previously unselected package cpp-12.\n",
            "Preparing to unpack .../02-cpp-12_12.3.0-1ubuntu1~22.04_amd64.deb ...\n",
            "Unpacking cpp-12 (12.3.0-1ubuntu1~22.04) ...\n",
            "Selecting previously unselected package libasan8:amd64.\n",
            "Preparing to unpack .../03-libasan8_12.3.0-1ubuntu1~22.04_amd64.deb ...\n",
            "Unpacking libasan8:amd64 (12.3.0-1ubuntu1~22.04) ...\n",
            "Selecting previously unselected package libtsan2:amd64.\n",
            "Preparing to unpack .../04-libtsan2_12.3.0-1ubuntu1~22.04_amd64.deb ...\n",
            "Unpacking libtsan2:amd64 (12.3.0-1ubuntu1~22.04) ...\n",
            "Selecting previously unselected package libgcc-12-dev:amd64.\n",
            "Preparing to unpack .../05-libgcc-12-dev_12.3.0-1ubuntu1~22.04_amd64.deb ...\n",
            "Unpacking libgcc-12-dev:amd64 (12.3.0-1ubuntu1~22.04) ...\n",
            "Selecting previously unselected package gcc-12.\n",
            "Preparing to unpack .../06-gcc-12_12.3.0-1ubuntu1~22.04_amd64.deb ...\n",
            "Unpacking gcc-12 (12.3.0-1ubuntu1~22.04) ...\n",
            "Selecting previously unselected package dctrl-tools.\n",
            "Preparing to unpack .../07-dctrl-tools_2.24-3build2_amd64.deb ...\n",
            "Unpacking dctrl-tools (2.24-3build2) ...\n",
            "Selecting previously unselected package dkms.\n",
            "Preparing to unpack .../08-dkms_2.8.7-2ubuntu2.2_all.deb ...\n",
            "Unpacking dkms (2.8.7-2ubuntu2.2) ...\n",
            "Selecting previously unselected package udev.\n",
            "Preparing to unpack .../09-udev_249.11-0ubuntu3.12_amd64.deb ...\n",
            "Unpacking udev (249.11-0ubuntu3.12) ...\n",
            "Selecting previously unselected package libnvidia-common-570.\n",
            "Preparing to unpack .../10-libnvidia-common-570_570.124.06-0ubuntu1_all.deb ...\n",
            "Unpacking libnvidia-common-570 (570.124.06-0ubuntu1) ...\n",
            "Selecting previously unselected package libnvidia-gl-570:amd64.\n",
            "Preparing to unpack .../11-libnvidia-gl-570_570.124.06-0ubuntu1_amd64.deb ...\n",
            "dpkg-query: no packages found matching libnvidia-gl-535\n",
            "Unpacking libnvidia-gl-570:amd64 (570.124.06-0ubuntu1) ...\n",
            "Selecting previously unselected package nvidia-kernel-source-570.\n",
            "Preparing to unpack .../12-nvidia-kernel-source-570_570.124.06-0ubuntu1_amd64.deb ...\n",
            "Unpacking nvidia-kernel-source-570 (570.124.06-0ubuntu1) ...\n",
            "Selecting previously unselected package nvidia-firmware-570-570.124.06.\n",
            "Preparing to unpack .../13-nvidia-firmware-570-570.124.06_570.124.06-0ubuntu1_amd64.deb ...\n",
            "Unpacking nvidia-firmware-570-570.124.06 (570.124.06-0ubuntu1) ...\n",
            "Selecting previously unselected package nvidia-modprobe.\n",
            "Preparing to unpack .../14-nvidia-modprobe_570.124.06-0ubuntu1_amd64.deb ...\n",
            "Unpacking nvidia-modprobe (570.124.06-0ubuntu1) ...\n",
            "Selecting previously unselected package nvidia-kernel-common-570.\n",
            "Preparing to unpack .../15-nvidia-kernel-common-570_570.124.06-0ubuntu1_amd64.deb ...\n",
            "Unpacking nvidia-kernel-common-570 (570.124.06-0ubuntu1) ...\n",
            "Selecting previously unselected package nvidia-dkms-570.\n",
            "Preparing to unpack .../16-nvidia-dkms-570_570.124.06-0ubuntu1_amd64.deb ...\n",
            "Unpacking nvidia-dkms-570 (570.124.06-0ubuntu1) ...\n",
            "Selecting previously unselected package libnvidia-decode-570:amd64.\n",
            "Preparing to unpack .../17-libnvidia-decode-570_570.124.06-0ubuntu1_amd64.deb ...\n",
            "Unpacking libnvidia-decode-570:amd64 (570.124.06-0ubuntu1) ...\n",
            "Selecting previously unselected package libnvidia-compute-570:amd64.\n",
            "Preparing to unpack .../18-libnvidia-compute-570_570.124.06-0ubuntu1_amd64.deb ...\n",
            "Unpacking libnvidia-compute-570:amd64 (570.124.06-0ubuntu1) ...\n",
            "Selecting previously unselected package libnvidia-extra-570:amd64.\n",
            "Preparing to unpack .../19-libnvidia-extra-570_570.124.06-0ubuntu1_amd64.deb ...\n",
            "Unpacking libnvidia-extra-570:amd64 (570.124.06-0ubuntu1) ...\n",
            "Selecting previously unselected package nvidia-compute-utils-570.\n",
            "Preparing to unpack .../20-nvidia-compute-utils-570_570.124.06-0ubuntu1_amd64.deb ...\n",
            "Unpacking nvidia-compute-utils-570 (570.124.06-0ubuntu1) ...\n",
            "Selecting previously unselected package libnvidia-encode-570:amd64.\n",
            "Preparing to unpack .../21-libnvidia-encode-570_570.124.06-0ubuntu1_amd64.deb ...\n",
            "Unpacking libnvidia-encode-570:amd64 (570.124.06-0ubuntu1) ...\n",
            "Selecting previously unselected package nvidia-utils-570.\n",
            "Preparing to unpack .../22-nvidia-utils-570_570.124.06-0ubuntu1_amd64.deb ...\n",
            "Unpacking nvidia-utils-570 (570.124.06-0ubuntu1) ...\n",
            "Selecting previously unselected package libnvidia-cfg1-570:amd64.\n",
            "Preparing to unpack .../23-libnvidia-cfg1-570_570.124.06-0ubuntu1_amd64.deb ...\n",
            "Unpacking libnvidia-cfg1-570:amd64 (570.124.06-0ubuntu1) ...\n",
            "Selecting previously unselected package libxkbfile1:amd64.\n",
            "Preparing to unpack .../24-libxkbfile1_1%3a1.1.0-1build3_amd64.deb ...\n",
            "Unpacking libxkbfile1:amd64 (1:1.1.0-1build3) ...\n",
            "Selecting previously unselected package x11-xkb-utils.\n",
            "Preparing to unpack .../25-x11-xkb-utils_7.7+5build4_amd64.deb ...\n",
            "Unpacking x11-xkb-utils (7.7+5build4) ...\n",
            "Selecting previously unselected package xserver-common.\n",
            "Preparing to unpack .../26-xserver-common_2%3a21.1.4-2ubuntu1.7~22.04.13_all.deb ...\n",
            "Unpacking xserver-common (2:21.1.4-2ubuntu1.7~22.04.13) ...\n",
            "Selecting previously unselected package libxcvt0:amd64.\n",
            "Preparing to unpack .../27-libxcvt0_0.1.1-3_amd64.deb ...\n",
            "Unpacking libxcvt0:amd64 (0.1.1-3) ...\n",
            "Selecting previously unselected package libfontenc1:amd64.\n",
            "Preparing to unpack .../28-libfontenc1_1%3a1.1.4-1build3_amd64.deb ...\n",
            "Unpacking libfontenc1:amd64 (1:1.1.4-1build3) ...\n",
            "Selecting previously unselected package libxfont2:amd64.\n",
            "Preparing to unpack .../29-libxfont2_1%3a2.0.5-1build1_amd64.deb ...\n",
            "Unpacking libxfont2:amd64 (1:2.0.5-1build1) ...\n",
            "Selecting previously unselected package xserver-xorg-core.\n",
            "Preparing to unpack .../30-xserver-xorg-core_2%3a21.1.4-2ubuntu1.7~22.04.13_amd64.deb ...\n",
            "Unpacking xserver-xorg-core (2:21.1.4-2ubuntu1.7~22.04.13) ...\n",
            "Selecting previously unselected package xserver-xorg-video-nvidia-570.\n",
            "Preparing to unpack .../31-xserver-xorg-video-nvidia-570_570.124.06-0ubuntu1_amd64.deb ...\n",
            "Unpacking xserver-xorg-video-nvidia-570 (570.124.06-0ubuntu1) ...\n",
            "Selecting previously unselected package libnvidia-fbc1-570:amd64.\n",
            "Preparing to unpack .../32-libnvidia-fbc1-570_570.124.06-0ubuntu1_amd64.deb ...\n",
            "Unpacking libnvidia-fbc1-570:amd64 (570.124.06-0ubuntu1) ...\n",
            "Selecting previously unselected package nvidia-driver-570.\n",
            "Preparing to unpack .../33-nvidia-driver-570_570.124.06-0ubuntu1_amd64.deb ...\n",
            "Unpacking nvidia-driver-570 (570.124.06-0ubuntu1) ...\n",
            "Selecting previously unselected package cuda-drivers-570.\n",
            "Preparing to unpack .../34-cuda-drivers-570_570.124.06-0ubuntu1_amd64.deb ...\n",
            "Unpacking cuda-drivers-570 (570.124.06-0ubuntu1) ...\n",
            "Selecting previously unselected package cuda-drivers.\n",
            "Preparing to unpack .../35-cuda-drivers_570.124.06-0ubuntu1_amd64.deb ...\n",
            "Unpacking cuda-drivers (570.124.06-0ubuntu1) ...\n",
            "Setting up nvidia-firmware-570-570.124.06 (570.124.06-0ubuntu1) ...\n",
            "Setting up cpp-12 (12.3.0-1ubuntu1~22.04) ...\n",
            "Setting up libnvidia-extra-570:amd64 (570.124.06-0ubuntu1) ...\n",
            "Setting up nvidia-kernel-source-570 (570.124.06-0ubuntu1) ...\n",
            "Setting up nvidia-modprobe (570.124.06-0ubuntu1) ...\n",
            "Setting up libfontenc1:amd64 (1:1.1.4-1build3) ...\n",
            "Setting up libnvidia-common-570 (570.124.06-0ubuntu1) ...\n",
            "Setting up libnvidia-cfg1-570:amd64 (570.124.06-0ubuntu1) ...\n",
            "Setting up udev (249.11-0ubuntu3.12) ...\n",
            "invoke-rc.d: could not determine current runlevel\n",
            "invoke-rc.d: policy-rc.d denied execution of start.\n",
            "Setting up libasan8:amd64 (12.3.0-1ubuntu1~22.04) ...\n",
            "Setting up libxcvt0:amd64 (0.1.1-3) ...\n",
            "Setting up libxkbfile1:amd64 (1:1.1.0-1build3) ...\n",
            "Setting up libtsan2:amd64 (12.3.0-1ubuntu1~22.04) ...\n",
            "Setting up libxfont2:amd64 (1:2.0.5-1build1) ...\n",
            "Setting up liblocale-gettext-perl (1.07-4build3) ...\n",
            "Setting up libnvidia-fbc1-570:amd64 (570.124.06-0ubuntu1) ...\n",
            "Setting up dctrl-tools (2.24-3build2) ...\n",
            "Setting up nvidia-kernel-common-570 (570.124.06-0ubuntu1) ...\n",
            "Setting up libnvidia-gl-570:amd64 (570.124.06-0ubuntu1) ...\n",
            "Setting up x11-xkb-utils (7.7+5build4) ...\n",
            "Setting up libgcc-12-dev:amd64 (12.3.0-1ubuntu1~22.04) ...\n",
            "Setting up xserver-common (2:21.1.4-2ubuntu1.7~22.04.13) ...\n",
            "Setting up keyboard-configuration (1.205ubuntu3) ...\n",
            "Your console font configuration will be updated the next time your system\n",
            "boots. If you want to update it now, run 'setupcon' from a virtual console.\n",
            "Setting up xserver-xorg-core (2:21.1.4-2ubuntu1.7~22.04.13) ...\n",
            "Setting up gcc-12 (12.3.0-1ubuntu1~22.04) ...\n",
            "Setting up xserver-xorg-video-nvidia-570 (570.124.06-0ubuntu1) ...\n",
            "Setting up dkms (2.8.7-2ubuntu2.2) ...\n",
            "Setting up nvidia-dkms-570 (570.124.06-0ubuntu1) ...\n",
            "Loading new nvidia-570.124.06 DKMS files...\n",
            "It is likely that 6.1.85+ belongs to a chroot's host\n",
            "Building for 5.15.0-134-generic\n",
            "Building for architecture x86_64\n",
            "Building initial module for 5.15.0-134-generic\n",
            "Done.\n",
            "\n",
            "nvidia.ko:\n",
            "Running module version sanity check.\n",
            " - Original module\n",
            "   - No original module exists within this kernel\n",
            " - Installation\n",
            "   - Installing to /lib/modules/5.15.0-134-generic/updates/dkms/\n",
            "\n",
            "nvidia-modeset.ko:\n",
            "Running module version sanity check.\n",
            " - Original module\n",
            "   - No original module exists within this kernel\n",
            " - Installation\n",
            "   - Installing to /lib/modules/5.15.0-134-generic/updates/dkms/\n",
            "\n",
            "nvidia-drm.ko:\n",
            "Running module version sanity check.\n",
            " - Original module\n",
            "   - No original module exists within this kernel\n",
            " - Installation\n",
            "   - Installing to /lib/modules/5.15.0-134-generic/updates/dkms/\n",
            "\n",
            "nvidia-uvm.ko:\n",
            "Running module version sanity check.\n",
            " - Original module\n",
            "   - No original module exists within this kernel\n",
            " - Installation\n",
            "   - Installing to /lib/modules/5.15.0-134-generic/updates/dkms/\n",
            "\n",
            "nvidia-peermem.ko:\n",
            "Running module version sanity check.\n",
            " - Original module\n",
            "   - No original module exists within this kernel\n",
            " - Installation\n",
            "   - Installing to /lib/modules/5.15.0-134-generic/updates/dkms/\n",
            "\n",
            "depmod...\n",
            "Setting up libnvidia-decode-570:amd64 (570.124.06-0ubuntu1) ...\n",
            "Setting up libnvidia-compute-570:amd64 (570.124.06-0ubuntu1) ...\n",
            "Setting up libnvidia-encode-570:amd64 (570.124.06-0ubuntu1) ...\n",
            "Setting up nvidia-utils-570 (570.124.06-0ubuntu1) ...\n",
            "Setting up nvidia-compute-utils-570 (570.124.06-0ubuntu1) ...\n",
            "Setting up nvidia-driver-570 (570.124.06-0ubuntu1) ...\n",
            "Setting up cuda-drivers-570 (570.124.06-0ubuntu1) ...\n",
            "Setting up cuda-drivers (570.124.06-0ubuntu1) ...\n",
            "Processing triggers for libc-bin (2.35-0ubuntu3.8) ...\n",
            "/sbin/ldconfig.real: /usr/local/lib/libhwloc.so.15 is not a symbolic link\n",
            "\n",
            "/sbin/ldconfig.real: /usr/local/lib/libtcm.so.1 is not a symbolic link\n",
            "\n",
            "/sbin/ldconfig.real: /usr/local/lib/libtbbmalloc_proxy.so.2 is not a symbolic link\n",
            "\n",
            "/sbin/ldconfig.real: /usr/local/lib/libtbbbind_2_0.so.3 is not a symbolic link\n",
            "\n",
            "/sbin/ldconfig.real: /usr/local/lib/libtbbmalloc.so.2 is not a symbolic link\n",
            "\n",
            "/sbin/ldconfig.real: /usr/local/lib/libtbb.so.12 is not a symbolic link\n",
            "\n",
            "/sbin/ldconfig.real: /usr/local/lib/libur_adapter_opencl.so.0 is not a symbolic link\n",
            "\n",
            "/sbin/ldconfig.real: /usr/local/lib/libtbbbind.so.3 is not a symbolic link\n",
            "\n",
            "/sbin/ldconfig.real: /usr/local/lib/libtcm_debug.so.1 is not a symbolic link\n",
            "\n",
            "/sbin/ldconfig.real: /usr/local/lib/libur_adapter_level_zero.so.0 is not a symbolic link\n",
            "\n",
            "/sbin/ldconfig.real: /usr/local/lib/libur_loader.so.0 is not a symbolic link\n",
            "\n",
            "/sbin/ldconfig.real: /usr/local/lib/libumf.so.0 is not a symbolic link\n",
            "\n",
            "/sbin/ldconfig.real: /usr/local/lib/libtbbbind_2_5.so.3 is not a symbolic link\n",
            "\n",
            "Processing triggers for man-db (2.10.2-1) ...\n",
            "Processing triggers for dbus (1.12.20-2ubuntu4.1) ...\n",
            "NVIDIA-SMI has failed because it couldn't communicate with the NVIDIA driver. Make sure that the latest NVIDIA driver is installed and running.\n",
            "\n"
          ]
        }
      ]
    },
    {
      "cell_type": "code",
      "source": [
        "!pip install cupy-cuda11x  # Install CuPy for Colab GPU\n",
        "\n",
        "import cupy as cp\n",
        "\n",
        "def simulate_gpu(N=10_000, p_abs=0.01, max_steps=100):\n",
        "    steps = cp.random.rand(N, max_steps)\n",
        "    return (cp.any(steps < p_abs, axis=1)).sum()\n",
        "\n",
        "start = time.time()\n",
        "result = simulate_gpu().get()  # Move data from GPU to CPU\n",
        "print(f\"GPU Result: {result} | Time: {time.time() - start:.4f}s\")"
      ],
      "metadata": {
        "colab": {
          "base_uri": "https://localhost:8080/",
          "height": 495
        },
        "id": "GyJpFBOkKogN",
        "outputId": "3dae1153-c837-4520-b98b-66af769c4e3f"
      },
      "execution_count": null,
      "outputs": [
        {
          "output_type": "stream",
          "name": "stdout",
          "text": [
            "Requirement already satisfied: cupy-cuda11x in /usr/local/lib/python3.11/dist-packages (13.4.1)\n",
            "Requirement already satisfied: numpy<2.3,>=1.22 in /usr/local/lib/python3.11/dist-packages (from cupy-cuda11x) (2.0.2)\n",
            "Requirement already satisfied: fastrlock>=0.5 in /usr/local/lib/python3.11/dist-packages (from cupy-cuda11x) (0.8.3)\n"
          ]
        },
        {
          "output_type": "error",
          "ename": "CUDARuntimeError",
          "evalue": "cudaErrorInsufficientDriver: CUDA driver version is insufficient for CUDA runtime version",
          "traceback": [
            "\u001b[0;31m---------------------------------------------------------------------------\u001b[0m",
            "\u001b[0;31mCUDARuntimeError\u001b[0m                          Traceback (most recent call last)",
            "\u001b[0;32m<ipython-input-12-003887452a40>\u001b[0m in \u001b[0;36m<cell line: 0>\u001b[0;34m()\u001b[0m\n\u001b[1;32m      8\u001b[0m \u001b[0;34m\u001b[0m\u001b[0m\n\u001b[1;32m      9\u001b[0m \u001b[0mstart\u001b[0m \u001b[0;34m=\u001b[0m \u001b[0mtime\u001b[0m\u001b[0;34m.\u001b[0m\u001b[0mtime\u001b[0m\u001b[0;34m(\u001b[0m\u001b[0;34m)\u001b[0m\u001b[0;34m\u001b[0m\u001b[0;34m\u001b[0m\u001b[0m\n\u001b[0;32m---> 10\u001b[0;31m \u001b[0mresult\u001b[0m \u001b[0;34m=\u001b[0m \u001b[0msimulate_gpu\u001b[0m\u001b[0;34m(\u001b[0m\u001b[0;34m)\u001b[0m\u001b[0;34m.\u001b[0m\u001b[0mget\u001b[0m\u001b[0;34m(\u001b[0m\u001b[0;34m)\u001b[0m  \u001b[0;31m# Move data from GPU to CPU\u001b[0m\u001b[0;34m\u001b[0m\u001b[0;34m\u001b[0m\u001b[0m\n\u001b[0m\u001b[1;32m     11\u001b[0m \u001b[0mprint\u001b[0m\u001b[0;34m(\u001b[0m\u001b[0;34mf\"GPU Result: {result} | Time: {time.time() - start:.4f}s\"\u001b[0m\u001b[0;34m)\u001b[0m\u001b[0;34m\u001b[0m\u001b[0;34m\u001b[0m\u001b[0m\n",
            "\u001b[0;32m<ipython-input-12-003887452a40>\u001b[0m in \u001b[0;36msimulate_gpu\u001b[0;34m(N, p_abs, max_steps)\u001b[0m\n\u001b[1;32m      4\u001b[0m \u001b[0;34m\u001b[0m\u001b[0m\n\u001b[1;32m      5\u001b[0m \u001b[0;32mdef\u001b[0m \u001b[0msimulate_gpu\u001b[0m\u001b[0;34m(\u001b[0m\u001b[0mN\u001b[0m\u001b[0;34m=\u001b[0m\u001b[0;36m10_000\u001b[0m\u001b[0;34m,\u001b[0m \u001b[0mp_abs\u001b[0m\u001b[0;34m=\u001b[0m\u001b[0;36m0.01\u001b[0m\u001b[0;34m,\u001b[0m \u001b[0mmax_steps\u001b[0m\u001b[0;34m=\u001b[0m\u001b[0;36m100\u001b[0m\u001b[0;34m)\u001b[0m\u001b[0;34m:\u001b[0m\u001b[0;34m\u001b[0m\u001b[0;34m\u001b[0m\u001b[0m\n\u001b[0;32m----> 6\u001b[0;31m     \u001b[0msteps\u001b[0m \u001b[0;34m=\u001b[0m \u001b[0mcp\u001b[0m\u001b[0;34m.\u001b[0m\u001b[0mrandom\u001b[0m\u001b[0;34m.\u001b[0m\u001b[0mrand\u001b[0m\u001b[0;34m(\u001b[0m\u001b[0mN\u001b[0m\u001b[0;34m,\u001b[0m \u001b[0mmax_steps\u001b[0m\u001b[0;34m)\u001b[0m\u001b[0;34m\u001b[0m\u001b[0;34m\u001b[0m\u001b[0m\n\u001b[0m\u001b[1;32m      7\u001b[0m     \u001b[0;32mreturn\u001b[0m \u001b[0;34m(\u001b[0m\u001b[0mcp\u001b[0m\u001b[0;34m.\u001b[0m\u001b[0many\u001b[0m\u001b[0;34m(\u001b[0m\u001b[0msteps\u001b[0m \u001b[0;34m<\u001b[0m \u001b[0mp_abs\u001b[0m\u001b[0;34m,\u001b[0m \u001b[0maxis\u001b[0m\u001b[0;34m=\u001b[0m\u001b[0;36m1\u001b[0m\u001b[0;34m)\u001b[0m\u001b[0;34m)\u001b[0m\u001b[0;34m.\u001b[0m\u001b[0msum\u001b[0m\u001b[0;34m(\u001b[0m\u001b[0;34m)\u001b[0m\u001b[0;34m\u001b[0m\u001b[0;34m\u001b[0m\u001b[0m\n\u001b[1;32m      8\u001b[0m \u001b[0;34m\u001b[0m\u001b[0m\n",
            "\u001b[0;32m/usr/local/lib/python3.11/dist-packages/cupy/random/_sample.py\u001b[0m in \u001b[0;36mrand\u001b[0;34m(*size, **kwarg)\u001b[0m\n\u001b[1;32m     42\u001b[0m         raise TypeError('rand() got unexpected keyword arguments %s'\n\u001b[1;32m     43\u001b[0m                         % ', '.join(kwarg.keys()))\n\u001b[0;32m---> 44\u001b[0;31m     \u001b[0;32mreturn\u001b[0m \u001b[0mrandom_sample\u001b[0m\u001b[0;34m(\u001b[0m\u001b[0msize\u001b[0m\u001b[0;34m=\u001b[0m\u001b[0msize\u001b[0m\u001b[0;34m,\u001b[0m \u001b[0mdtype\u001b[0m\u001b[0;34m=\u001b[0m\u001b[0mdtype\u001b[0m\u001b[0;34m)\u001b[0m\u001b[0;34m\u001b[0m\u001b[0;34m\u001b[0m\u001b[0m\n\u001b[0m\u001b[1;32m     45\u001b[0m \u001b[0;34m\u001b[0m\u001b[0m\n\u001b[1;32m     46\u001b[0m \u001b[0;34m\u001b[0m\u001b[0m\n",
            "\u001b[0;32m/usr/local/lib/python3.11/dist-packages/cupy/random/_sample.py\u001b[0m in \u001b[0;36mrandom_sample\u001b[0;34m(size, dtype)\u001b[0m\n\u001b[1;32m    153\u001b[0m \u001b[0;34m\u001b[0m\u001b[0m\n\u001b[1;32m    154\u001b[0m     \"\"\"\n\u001b[0;32m--> 155\u001b[0;31m     \u001b[0mrs\u001b[0m \u001b[0;34m=\u001b[0m \u001b[0m_generator\u001b[0m\u001b[0;34m.\u001b[0m\u001b[0mget_random_state\u001b[0m\u001b[0;34m(\u001b[0m\u001b[0;34m)\u001b[0m\u001b[0;34m\u001b[0m\u001b[0;34m\u001b[0m\u001b[0m\n\u001b[0m\u001b[1;32m    156\u001b[0m     \u001b[0;32mreturn\u001b[0m \u001b[0mrs\u001b[0m\u001b[0;34m.\u001b[0m\u001b[0mrandom_sample\u001b[0m\u001b[0;34m(\u001b[0m\u001b[0msize\u001b[0m\u001b[0;34m=\u001b[0m\u001b[0msize\u001b[0m\u001b[0;34m,\u001b[0m \u001b[0mdtype\u001b[0m\u001b[0;34m=\u001b[0m\u001b[0mdtype\u001b[0m\u001b[0;34m)\u001b[0m\u001b[0;34m\u001b[0m\u001b[0;34m\u001b[0m\u001b[0m\n\u001b[1;32m    157\u001b[0m \u001b[0;34m\u001b[0m\u001b[0m\n",
            "\u001b[0;32m/usr/local/lib/python3.11/dist-packages/cupy/random/_generator.py\u001b[0m in \u001b[0;36mget_random_state\u001b[0;34m()\u001b[0m\n\u001b[1;32m   1298\u001b[0m \u001b[0;34m\u001b[0m\u001b[0m\n\u001b[1;32m   1299\u001b[0m     \"\"\"\n\u001b[0;32m-> 1300\u001b[0;31m     \u001b[0mdev\u001b[0m \u001b[0;34m=\u001b[0m \u001b[0mcuda\u001b[0m\u001b[0;34m.\u001b[0m\u001b[0mDevice\u001b[0m\u001b[0;34m(\u001b[0m\u001b[0;34m)\u001b[0m\u001b[0;34m\u001b[0m\u001b[0;34m\u001b[0m\u001b[0m\n\u001b[0m\u001b[1;32m   1301\u001b[0m     \u001b[0mrs\u001b[0m \u001b[0;34m=\u001b[0m \u001b[0m_random_states\u001b[0m\u001b[0;34m.\u001b[0m\u001b[0mget\u001b[0m\u001b[0;34m(\u001b[0m\u001b[0mdev\u001b[0m\u001b[0;34m.\u001b[0m\u001b[0mid\u001b[0m\u001b[0;34m,\u001b[0m \u001b[0;32mNone\u001b[0m\u001b[0;34m)\u001b[0m\u001b[0;34m\u001b[0m\u001b[0;34m\u001b[0m\u001b[0m\n\u001b[1;32m   1302\u001b[0m     \u001b[0;32mif\u001b[0m \u001b[0mrs\u001b[0m \u001b[0;32mis\u001b[0m \u001b[0;32mNone\u001b[0m\u001b[0;34m:\u001b[0m\u001b[0;34m\u001b[0m\u001b[0;34m\u001b[0m\u001b[0m\n",
            "\u001b[0;32mcupy/cuda/device.pyx\u001b[0m in \u001b[0;36mcupy.cuda.device.Device.__init__\u001b[0;34m()\u001b[0m\n",
            "\u001b[0;32mcupy_backends/cuda/api/runtime.pyx\u001b[0m in \u001b[0;36mcupy_backends.cuda.api.runtime.getDevice\u001b[0;34m()\u001b[0m\n",
            "\u001b[0;32mcupy_backends/cuda/api/runtime.pyx\u001b[0m in \u001b[0;36mcupy_backends.cuda.api.runtime.check_status\u001b[0;34m()\u001b[0m\n",
            "\u001b[0;31mCUDARuntimeError\u001b[0m: cudaErrorInsufficientDriver: CUDA driver version is insufficient for CUDA runtime version"
          ]
        }
      ]
    },
    {
      "cell_type": "markdown",
      "source": [
        "Explanation:\n",
        "\n",
        "    cp.random.rand generates random numbers on the GPU.\n",
        "\n",
        "    Operations like cp.any execute in parallel on GPU threads.\n",
        "\n",
        "Assignment:\n",
        "\n",
        "    Test with max_steps=1000 and compare GPU/CPU runtimes."
      ],
      "metadata": {
        "id": "9tEpvWPnKqvj"
      }
    },
    {
      "cell_type": "markdown",
      "source": [
        "Lecture 5: Variance Reduction Techniques\n",
        "\n",
        "Objective: Implement Russian Roulette for faster convergence."
      ],
      "metadata": {
        "id": "TAL_vWFNKtcf"
      }
    },
    {
      "cell_type": "code",
      "source": [
        "def simulate_russian_roulette(N=10_000, p_abs=0.01, survival_prob=0.5):\n",
        "    absorbed = 0\n",
        "    for _ in range(N):\n",
        "        weight = 1.0\n",
        "        while True:\n",
        "            if random.random() < p_abs:\n",
        "                absorbed += weight\n",
        "                break\n",
        "            # Russian Roulette: Kill neutron with 50% probability\n",
        "            if random.random() > survival_prob:\n",
        "                break\n",
        "            weight /= survival_prob  # Adjust weight\n",
        "    return absorbed\n",
        "\n",
        "print(\"With Variance Reduction:\", simulate_russian_roulette())"
      ],
      "metadata": {
        "id": "2bvMwj_UKvuB"
      },
      "execution_count": null,
      "outputs": []
    },
    {
      "cell_type": "markdown",
      "source": [
        "Explanation:\n",
        "\n",
        "    Low-weight neutrons are probabilistically terminated to save computation.\n",
        "\n",
        "    survival_prob balances computation and statistical bias.\n",
        "\n",
        "Assignment:\n",
        "\n",
        "    Compare convergence rates with/without Russian Roulette."
      ],
      "metadata": {
        "id": "4Jv9I2knKyWN"
      }
    },
    {
      "cell_type": "markdown",
      "source": [
        "Lecture 6: OpenMC Reactor Simulation\n",
        "\n",
        "Objective: Simulate a 3D fuel rod using OpenMC."
      ],
      "metadata": {
        "id": "nAQltdkCK1L4"
      }
    },
    {
      "cell_type": "code",
      "source": [
        "!pip install --pre openmc\n",
        "!python -m openmc.install\n",
        "\n",
        "import openmc\n",
        "\n",
        "# Define materials\n",
        "fuel = openmc.Material()\n",
        "fuel.add_element('U', 1.0, enrichment=4.25)\n",
        "fuel.set_density('g/cm3', 10.0)\n",
        "\n",
        "# Define geometry\n",
        "sphere = openmc.Sphere(r=100.0)\n",
        "cell = openmc.Cell(fill=fuel, region=-sphere)\n",
        "geometry = openmc.Geometry([cell])\n",
        "\n",
        "# Settings\n",
        "settings = openmc.Settings()\n",
        "settings.particles = 1000\n",
        "settings.batches = 10\n",
        "\n",
        "# Run simulation\n",
        "model = openmc.Model(geometry=geometry, materials=openmc.Materials([fuel]), settings=settings)\n",
        "model.run()"
      ],
      "metadata": {
        "id": "_sBrpUc_K3oz"
      },
      "execution_count": null,
      "outputs": []
    },
    {
      "cell_type": "markdown",
      "source": [
        "Explanation:\n",
        "\n",
        "    OpenMC uses real nuclear data libraries (e.g., ENDF/B-VIII).\n",
        "\n",
        "    Tallies track absorption, fission, etc., in 3D geometry.\n",
        "\n",
        "Assignment:\n",
        "\n",
        "    Add a water moderator around the fuel and compare absorption rates."
      ],
      "metadata": {
        "id": "7S3dU6D5K5tT"
      }
    },
    {
      "cell_type": "markdown",
      "source": [
        "Lecture 7: Error Analysis\n",
        "\n",
        "Objective: Compute statistical uncertainty."
      ],
      "metadata": {
        "id": "LDEZgf56K8TW"
      }
    },
    {
      "cell_type": "code",
      "source": [
        "def simulate_with_error(N=10_000, p_abs=0.01, n_batches=10):\n",
        "    results = []\n",
        "    for _ in range(n_batches):\n",
        "        absorbed = simulate_numpy(N // n_batches, p_abs)\n",
        "        results.append(absorbed)\n",
        "    mean = np.mean(results)\n",
        "    std = np.std(results) / np.sqrt(n_batches)\n",
        "    return mean, std\n",
        "\n",
        "mean, std = simulate_with_error()\n",
        "print(f\"Absorption: {mean:.1f} ± {2*std:.1f} (95% CI)\")"
      ],
      "metadata": {
        "id": "N7yWuSFbK-i4"
      },
      "execution_count": null,
      "outputs": []
    },
    {
      "cell_type": "markdown",
      "source": [
        "Explanation:\n",
        "\n",
        "    Batches reduce correlation between samples.\n",
        "\n",
        "    Standard error decreases as 1/sqrt(n_batches).\n",
        "\n",
        "Assignment:\n",
        "\n",
        "    Plot confidence intervals vs. number of batches."
      ],
      "metadata": {
        "id": "D_55CwbFLAai"
      }
    },
    {
      "cell_type": "markdown",
      "source": [
        "Lecture 8: MPI for HPC\n",
        "\n",
        "Objective: Scale simulations across nodes."
      ],
      "metadata": {
        "id": "zyNFe3JALCuy"
      }
    },
    {
      "cell_type": "code",
      "source": [
        "!pip install mpi4py\n",
        "\n",
        "from mpi4py import MPI\n",
        "\n",
        "comm = MPI.COMM_WORLD\n",
        "rank = comm.Get_rank()\n",
        "size = comm.Get_size()\n",
        "\n",
        "def simulate_mpi(N=10_000, p_abs=0.01):\n",
        "    chunk = N // size\n",
        "    local_absorbed = simulate_numpy(chunk, p_abs)\n",
        "    total = comm.reduce(local_absorbed, op=MPI.SUM)\n",
        "    if rank == 0:\n",
        "        return total\n",
        "\n",
        "print(\"MPI Result:\", simulate_mpi())"
      ],
      "metadata": {
        "id": "XleF0GO8LE5Z"
      },
      "execution_count": null,
      "outputs": []
    },
    {
      "cell_type": "markdown",
      "source": [
        "Explanation:\n",
        "\n",
        "    mpi4py splits N neutrons across MPI ranks.\n",
        "\n",
        "    comm.reduce aggregates results to rank 0.\n",
        "\n",
        "Assignment:\n",
        "\n",
        "    Run on 4 MPI processes and measure weak scaling efficiency."
      ],
      "metadata": {
        "id": "zrmIsDxWLIw5"
      }
    },
    {
      "cell_type": "markdown",
      "source": [
        "Lecture 9: ML for Variance Reduction\n",
        "\n",
        "Objective: Use a neural network to guide neutron paths."
      ],
      "metadata": {
        "id": "kjiCet2yLKBn"
      }
    },
    {
      "cell_type": "code",
      "source": [
        "import tensorflow as tf\n",
        "\n",
        "# Train a surrogate model to predict absorption probability\n",
        "model = tf.keras.Sequential([\n",
        "    tf.keras.layers.Dense(32, activation='relu', input_shape=(3,)),\n",
        "    tf.keras.layers.Dense(1, activation='sigmoid')\n",
        "])\n",
        "model.compile(optimizer='adam', loss='mse')\n",
        "\n",
        "# Hybrid simulation (pseudo-code)\n",
        "def simulate_ml(N=1000):\n",
        "    absorbed = 0\n",
        "    for _ in range(N):\n",
        "        position = np.random.rand(3)  # 3D position\n",
        "        p_abs_pred = model.predict(position.reshape(1, -1))[0][0]\n",
        "        if random.random() < p_abs_pred:\n",
        "            absorbed += 1\n",
        "    return absorbed"
      ],
      "metadata": {
        "id": "50qqczujLMVY"
      },
      "execution_count": null,
      "outputs": []
    },
    {
      "cell_type": "markdown",
      "source": [
        "Explanation:\n",
        "\n",
        "    The neural network predicts location-dependent absorption probabilities.\n",
        "\n",
        "    Simulations focus on high-probability regions.\n",
        "\n",
        "Assignment:\n",
        "\n",
        "    Train the model on OpenMC data and compare convergence rates."
      ],
      "metadata": {
        "id": "aquh8ZhOLOgb"
      }
    },
    {
      "cell_type": "markdown",
      "source": [
        "Lecture 10: Final Project\n",
        "\n",
        "Objective: Optimize a 2D reactor simulation.\n",
        "Guidelines:\n",
        "\n",
        "    Combine GPU acceleration (CuPy), variance reduction, and MPI.\n",
        "\n",
        "    Compare runtime/accuracy trade-offs.\n",
        "\n",
        "    Visualize neutron flux distribution."
      ],
      "metadata": {
        "id": "v4fJU8PwLREC"
      }
    },
    {
      "cell_type": "code",
      "source": [
        "# 2D reactor core with materials\n",
        "def simulate_2d_reactor(size=100):\n",
        "    flux = np.zeros((size, size))\n",
        "    for _ in range(N):\n",
        "        x, y = np.random.randint(0, size, 2)\n",
        "        # Track neutron path in 2D grid\n",
        "        ...\n",
        "    return flux"
      ],
      "metadata": {
        "id": "JIHHutl5LTwo"
      },
      "execution_count": null,
      "outputs": []
    },
    {
      "cell_type": "markdown",
      "source": [],
      "metadata": {
        "id": "IOAH8iyVLViC"
      }
    }
  ]
}