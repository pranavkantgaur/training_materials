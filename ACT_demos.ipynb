{
  "nbformat": 4,
  "nbformat_minor": 0,
  "metadata": {
    "colab": {
      "provenance": [],
      "gpuType": "T4",
      "authorship_tag": "ABX9TyMinvUzOKEPwUPf03fsYJiz",
      "include_colab_link": true
    },
    "kernelspec": {
      "name": "python3",
      "display_name": "Python 3"
    },
    "language_info": {
      "name": "python"
    },
    "accelerator": "GPU"
  },
  "cells": [
    {
      "cell_type": "markdown",
      "metadata": {
        "id": "view-in-github",
        "colab_type": "text"
      },
      "source": [
        "<a href=\"https://colab.research.google.com/github/pranavkantgaur/training_materials/blob/master/ACT_demos.ipynb\" target=\"_parent\"><img src=\"https://colab.research.google.com/assets/colab-badge.svg\" alt=\"Open In Colab\"/></a>"
      ]
    },
    {
      "cell_type": "code",
      "source": [
        "# Common Imports\n",
        "import numpy as np\n",
        "import matplotlib.pyplot as plt\n",
        "import time\n",
        "import random"
      ],
      "metadata": {
        "id": "Oli8pc5AKGXu"
      },
      "execution_count": null,
      "outputs": []
    },
    {
      "cell_type": "markdown",
      "source": [
        "## Context: Naive Monte Carlo Simulation\n",
        "\n",
        "Objective: Implement a serial neutron absorption simulator."
      ],
      "metadata": {
        "id": "a3CZuC_YKNFO"
      }
    },
    {
      "cell_type": "code",
      "source": [
        "def simulate_serial(N=10000, p_abs=0.01, max_steps=100):\n",
        "    absorbed = 0\n",
        "    random.seed(42)\n",
        "    for _ in range(N):\n",
        "        for _ in range(max_steps):\n",
        "            if random.random() < p_abs:\n",
        "                absorbed += 1\n",
        "                break\n",
        "    return absorbed\n",
        "\n",
        "# Runtime and accuracy test\n",
        "start = time.time()\n",
        "result = simulate_serial(10000)  # Smaller N for quick demo\n",
        "print(f\"Absorbed: {result} | Time: {time.time() - start:.2f}s\")"
      ],
      "metadata": {
        "colab": {
          "base_uri": "https://localhost:8080/"
        },
        "id": "YICFiNoKKIrk",
        "outputId": "03e9fb75-e9e5-43a2-97f6-c6f8bd66a472"
      },
      "execution_count": null,
      "outputs": [
        {
          "output_type": "stream",
          "name": "stdout",
          "text": [
            "Absorbed: 6346 | Time: 0.04s\n"
          ]
        }
      ]
    },
    {
      "cell_type": "markdown",
      "source": [
        "Explanation:\n",
        "\n",
        "    Each neutron is simulated independently with a loop-in-loop structure.\n",
        "\n",
        "    p_abs=0.01 means a 1% chance of absorption per step.\n",
        "\n"
      ],
      "metadata": {
        "id": "GC4X5djyKSrU"
      }
    },
    {
      "cell_type": "markdown",
      "source": [
        "## C++ version"
      ],
      "metadata": {
        "id": "IdRY3eX1fGV1"
      }
    },
    {
      "cell_type": "code",
      "source": [
        "%%shell\n",
        "cat << 'EOF' > neutron.cpp\n",
        "#include <iostream>\n",
        "#include <random>\n",
        "#include <chrono>\n",
        "\n",
        "int simulate_cpp(int N=10000, double p_abs=0.01, int max_steps=100) {\n",
        "    std::random_device rd;\n",
        "    std::mt19937 gen(rd());\n",
        "    std::uniform_real_distribution<> dis(0.0, 1.0);\n",
        "\n",
        "    int absorbed = 0;\n",
        "    for (int i = 0; i < N; ++i) {\n",
        "        for (int step = 0; step < max_steps; ++step) {\n",
        "            if (dis(gen) < p_abs) {\n",
        "                absorbed++;\n",
        "                break;\n",
        "            }\n",
        "        }\n",
        "    }\n",
        "    return absorbed;\n",
        "}\n",
        "\n",
        "int main() {\n",
        "    auto start = std::chrono::high_resolution_clock::now();\n",
        "    int result = simulate_cpp();\n",
        "    auto end = std::chrono::high_resolution_clock::now();\n",
        "    std::chrono::duration<double> elapsed = end - start;\n",
        "    std::cout << \"C++ Result: \" << result\n",
        "              << \" | Time: \" << elapsed.count() << \"s\\n\";\n",
        "    return 0;\n",
        "}\n",
        "EOF"
      ],
      "metadata": {
        "colab": {
          "base_uri": "https://localhost:8080/"
        },
        "id": "piP50WlRpBzK",
        "outputId": "f28b2af4-71d6-4f25-e6ab-e6e96daa90b5"
      },
      "execution_count": null,
      "outputs": [
        {
          "output_type": "execute_result",
          "data": {
            "text/plain": []
          },
          "metadata": {},
          "execution_count": 8
        }
      ]
    },
    {
      "cell_type": "code",
      "source": [
        "%%shell\n",
        "# Compile C++ code with optimizations\n",
        "g++ -O3 -o neutron_simulation neutron.cpp\n",
        "./neutron_simulation"
      ],
      "metadata": {
        "colab": {
          "base_uri": "https://localhost:8080/"
        },
        "id": "KSgxQdpKpH5u",
        "outputId": "6db9f025-fe7d-4878-8022-447b771b26e3"
      },
      "execution_count": null,
      "outputs": [
        {
          "output_type": "stream",
          "name": "stdout",
          "text": [
            "C++ Result: 6395 | Time: 0.011817s\n"
          ]
        },
        {
          "output_type": "execute_result",
          "data": {
            "text/plain": []
          },
          "metadata": {},
          "execution_count": 9
        }
      ]
    },
    {
      "cell_type": "markdown",
      "source": [
        "## Time profile serial implementation"
      ],
      "metadata": {
        "id": "HR7RFVzzfKiB"
      }
    },
    {
      "cell_type": "code",
      "source": [
        "import cProfile\n",
        "\n",
        "def simulate_serial(N=10000, p_abs=0.01, max_steps=100):\n",
        "    absorbed = 0\n",
        "    random.seed(42)\n",
        "    for _ in range(N):\n",
        "        for _ in range(max_steps):\n",
        "            if random.random() < p_abs:\n",
        "                absorbed += 1\n",
        "                break\n",
        "    return absorbed\n",
        "\n",
        "# Profile function\n",
        "cProfile.run('simulate_serial(10000)', sort='cumulative')"
      ],
      "metadata": {
        "colab": {
          "base_uri": "https://localhost:8080/"
        },
        "id": "dHQjeFAqqQUL",
        "outputId": "f5094c6e-cef7-45e6-bcb4-90834302ffd1"
      },
      "execution_count": null,
      "outputs": [
        {
          "output_type": "stream",
          "name": "stdout",
          "text": [
            "         635455 function calls in 0.196 seconds\n",
            "\n",
            "   Ordered by: cumulative time\n",
            "\n",
            "   ncalls  tottime  percall  cumtime  percall filename:lineno(function)\n",
            "        1    0.000    0.000    0.196    0.196 {built-in method builtins.exec}\n",
            "        1    0.000    0.000    0.196    0.196 <string>:1(<module>)\n",
            "        1    0.147    0.147    0.196    0.196 <ipython-input-42-ecb417cdbb4f>:3(simulate_serial)\n",
            "   635447    0.048    0.000    0.048    0.000 {method 'random' of '_random.Random' objects}\n",
            "        1    0.000    0.000    0.000    0.000 random.py:128(seed)\n",
            "        1    0.000    0.000    0.000    0.000 {function Random.seed at 0x7b4b5bb90180}\n",
            "        2    0.000    0.000    0.000    0.000 {built-in method builtins.isinstance}\n",
            "        1    0.000    0.000    0.000    0.000 {method 'disable' of '_lsprof.Profiler' objects}\n",
            "\n",
            "\n"
          ]
        }
      ]
    },
    {
      "cell_type": "markdown",
      "source": [
        "### Line by line profiling"
      ],
      "metadata": {
        "id": "IJya8MfqfWbV"
      }
    },
    {
      "cell_type": "code",
      "source": [
        "!pip install line_profiler"
      ],
      "metadata": {
        "colab": {
          "base_uri": "https://localhost:8080/"
        },
        "id": "Wvvpt-Z-sWPe",
        "outputId": "492497a8-72e3-4eef-aa6e-1dd857bb783a"
      },
      "execution_count": null,
      "outputs": [
        {
          "output_type": "stream",
          "name": "stdout",
          "text": [
            "Collecting line_profiler\n",
            "  Downloading line_profiler-4.2.0-cp311-cp311-manylinux_2_17_x86_64.manylinux2014_x86_64.whl.metadata (34 kB)\n",
            "Downloading line_profiler-4.2.0-cp311-cp311-manylinux_2_17_x86_64.manylinux2014_x86_64.whl (750 kB)\n",
            "\u001b[2K   \u001b[90m━━━━━━━━━━━━━━━━━━━━━━━━━━━━━━━━━━━━━━━━\u001b[0m \u001b[32m750.2/750.2 kB\u001b[0m \u001b[31m15.0 MB/s\u001b[0m eta \u001b[36m0:00:00\u001b[0m\n",
            "\u001b[?25hInstalling collected packages: line_profiler\n",
            "Successfully installed line_profiler-4.2.0\n"
          ]
        }
      ]
    },
    {
      "cell_type": "code",
      "source": [
        "def simulate_serial(N=10_000, p_abs=0.01, max_steps=100):\n",
        "    absorbed = 0\n",
        "    for _ in range(N):\n",
        "        for _ in range(max_steps):\n",
        "            if random.random() < p_abs:\n",
        "                absorbed += 1\n",
        "                break\n",
        "    return absorbed\n",
        "\n",
        "# Explicitly add the decorator (Colab workaround)\n",
        "from line_profiler import LineProfiler\n",
        "lp = LineProfiler()\n",
        "lp_wrapper = lp(simulate_serial)"
      ],
      "metadata": {
        "id": "UJiBogassYIL"
      },
      "execution_count": null,
      "outputs": []
    },
    {
      "cell_type": "code",
      "source": [
        "# Execute with profiling\n",
        "result = lp_wrapper()\n",
        "lp.print_stats()"
      ],
      "metadata": {
        "colab": {
          "base_uri": "https://localhost:8080/"
        },
        "id": "7Jg3xUlKsdyA",
        "outputId": "9620f6d8-2743-43bd-c939-c895e4cf4e53"
      },
      "execution_count": null,
      "outputs": [
        {
          "output_type": "stream",
          "name": "stdout",
          "text": [
            "Timer unit: 1e-09 s\n",
            "\n",
            "Total time: 1.33926 s\n",
            "File: <ipython-input-4-47fe190b5943>\n",
            "Function: simulate_serial at line 4\n",
            "\n",
            "Line #      Hits         Time  Per Hit   % Time  Line Contents\n",
            "==============================================================\n",
            "     4                                           def simulate_serial(N=10_000, p_abs=0.01, max_steps=100):\n",
            "     5         1       1384.0   1384.0      0.0      absorbed = 0\n",
            "     6     10001   12482288.0   1248.1      0.9      for _ in range(N):\n",
            "     7    639367  454249092.0    710.5     33.9          for _ in range(max_steps):\n",
            "     8    635750  865666756.0   1361.6     64.6              if random.random() < p_abs:\n",
            "     9      6383    3841695.0    601.9      0.3                  absorbed += 1\n",
            "    10      6383    3016845.0    472.6      0.2                  break\n",
            "    11         1        833.0    833.0      0.0      return absorbed\n",
            "\n"
          ]
        }
      ]
    },
    {
      "cell_type": "markdown",
      "source": [
        "Assignment:\n",
        "1. How to improve the runtime performance without resorting to parallelization/vectorization?"
      ],
      "metadata": {
        "id": "1Kdy0oktp2YM"
      }
    },
    {
      "cell_type": "markdown",
      "source": [
        "### How the above line_profiler works? (Decorators)"
      ],
      "metadata": {
        "id": "sPg0cYvPGKxO"
      }
    },
    {
      "cell_type": "code",
      "source": [
        "class SimpleDecorator:\n",
        "    def __init__(self, func):\n",
        "        self.func = func  # Store the original function\n",
        "\n",
        "    def __call__(self, *args, **kwargs):\n",
        "        \"\"\"This gets called when the decorated function is invoked\"\"\"\n",
        "        print(f\"Before calling {self.func.__name__}\")\n",
        "        result = self.func(*args, **kwargs)  # Execute original function\n",
        "        print(f\"After calling {self.func.__name__}\")\n",
        "        return result\n",
        "\n",
        "'''\n",
        "# Usage\n",
        "@SimpleDecorator\n",
        "def hello(name):\n",
        "    print(f\"Hello, {name}!\")\n",
        "# Test it\n",
        "#hello(\"Alice\")\n",
        "'''\n",
        "sd = SimpleDecorator(hello)\n",
        "sd(\"Alice\")\n",
        "#hello(\"Alice\")"
      ],
      "metadata": {
        "colab": {
          "base_uri": "https://localhost:8080/"
        },
        "id": "v-G-ui_qEXe2",
        "outputId": "d1dcccb5-daf0-4cd7-d6e1-21d215881d37"
      },
      "execution_count": null,
      "outputs": [
        {
          "output_type": "stream",
          "name": "stdout",
          "text": [
            "Hello, Alice!\n"
          ]
        }
      ]
    },
    {
      "cell_type": "markdown",
      "source": [
        "### Why line_profiler is not designed with interface like cProfile?\n",
        "\n",
        "1. To profile individual lines (not just function calls), line_profiler must instrument the function line-by-line. This requires wrapping the function explicitly.\n",
        "2. cProfile operates at the function-call level, which is simpler to implement without modifying the target code.\n"
      ],
      "metadata": {
        "id": "OcQxRQJeGpbf"
      }
    },
    {
      "cell_type": "markdown",
      "source": [
        "## Before vectorizaton, can Cython help here?"
      ],
      "metadata": {
        "id": "PJSEFqCNIqar"
      }
    },
    {
      "cell_type": "code",
      "source": [
        "# STEP 1: Install required packages\n",
        "!pip install line_profiler cython"
      ],
      "metadata": {
        "colab": {
          "base_uri": "https://localhost:8080/"
        },
        "id": "ocDbooQFIwcT",
        "outputId": "d6892c48-cccb-4c63-d036-f43be2f83e4d"
      },
      "execution_count": null,
      "outputs": [
        {
          "output_type": "stream",
          "name": "stdout",
          "text": [
            "Collecting line_profiler\n",
            "  Downloading line_profiler-4.2.0-cp311-cp311-manylinux_2_17_x86_64.manylinux2014_x86_64.whl.metadata (34 kB)\n",
            "Requirement already satisfied: cython in /usr/local/lib/python3.11/dist-packages (3.0.12)\n",
            "Downloading line_profiler-4.2.0-cp311-cp311-manylinux_2_17_x86_64.manylinux2014_x86_64.whl (750 kB)\n",
            "\u001b[2K   \u001b[90m━━━━━━━━━━━━━━━━━━━━━━━━━━━━━━━━━━━━━━━━\u001b[0m \u001b[32m750.2/750.2 kB\u001b[0m \u001b[31m11.3 MB/s\u001b[0m eta \u001b[36m0:00:00\u001b[0m\n",
            "\u001b[?25hInstalling collected packages: line_profiler\n",
            "Successfully installed line_profiler-4.2.0\n"
          ]
        }
      ]
    },
    {
      "cell_type": "markdown",
      "source": [
        "### Python code with seed control"
      ],
      "metadata": {
        "id": "Vd71U9-8Zpy6"
      }
    },
    {
      "cell_type": "code",
      "source": [
        "# Updated Python implementation with seed control\n",
        "import random\n",
        "\n",
        "def simulate_serial(N=10_000, p_abs=0.01, max_steps=100, seed=None):\n",
        "    if seed is not None:\n",
        "        random.seed(seed)\n",
        "\n",
        "    absorbed = 0\n",
        "    for _ in range(N):\n",
        "        for _ in range(max_steps):\n",
        "            if random.random() < p_abs:\n",
        "                absorbed += 1\n",
        "                break\n",
        "    return absorbed"
      ],
      "metadata": {
        "id": "I4Sw-Qe6ZoK6"
      },
      "execution_count": null,
      "outputs": []
    },
    {
      "cell_type": "code",
      "source": [
        "%%file simulate_cython.pyx\n",
        "# cython: linetrace=True\n",
        "# distutils: define_macros=CYTHON_TRACE_NOGIL=1\n",
        "\n",
        "from libc.stdlib cimport rand, srand, RAND_MAX\n",
        "\n",
        "def simulate_cython(int N=10_000, double p_abs=0.01, int max_steps=100, unsigned int seed=0):\n",
        "    cdef:\n",
        "        int absorbed = 0\n",
        "        int i, j\n",
        "        double rand_val\n",
        "\n",
        "    if seed != 0:\n",
        "        srand(seed)\n",
        "\n",
        "    for i in range(N):\n",
        "        for j in range(max_steps):\n",
        "            rand_val = <double>rand() / (RAND_MAX + 1.0)\n",
        "            if rand_val < p_abs:\n",
        "                absorbed += 1\n",
        "                break\n",
        "    return absorbed"
      ],
      "metadata": {
        "colab": {
          "base_uri": "https://localhost:8080/"
        },
        "id": "17Zk5FSWI4d8",
        "outputId": "1d7bda9f-1f27-46a7-817e-7dd9896db080"
      },
      "execution_count": null,
      "outputs": [
        {
          "output_type": "stream",
          "name": "stdout",
          "text": [
            "Writing simulate_cython.pyx\n"
          ]
        }
      ]
    },
    {
      "cell_type": "code",
      "source": [
        "!apt-get install build-essential"
      ],
      "metadata": {
        "colab": {
          "base_uri": "https://localhost:8080/"
        },
        "id": "K_rJl_2Kb3PG",
        "outputId": "926c6556-994f-4693-d0ec-6dbfc21dec7a"
      },
      "execution_count": null,
      "outputs": [
        {
          "output_type": "stream",
          "name": "stdout",
          "text": [
            "Reading package lists... Done\n",
            "Building dependency tree... Done\n",
            "Reading state information... Done\n",
            "build-essential is already the newest version (12.9ubuntu3).\n",
            "0 upgraded, 0 newly installed, 0 to remove and 29 not upgraded.\n"
          ]
        }
      ]
    },
    {
      "cell_type": "code",
      "source": [
        "!apt-get install python3-dev"
      ],
      "metadata": {
        "colab": {
          "base_uri": "https://localhost:8080/"
        },
        "id": "YThZcq_qb6rQ",
        "outputId": "d1ac9a9f-657f-4ba7-aa05-5e4af7ea71d1"
      },
      "execution_count": null,
      "outputs": [
        {
          "output_type": "stream",
          "name": "stdout",
          "text": [
            "Reading package lists... Done\n",
            "Building dependency tree... Done\n",
            "Reading state information... Done\n",
            "python3-dev is already the newest version (3.10.6-1~22.04.1).\n",
            "python3-dev set to manually installed.\n",
            "0 upgraded, 0 newly installed, 0 to remove and 29 not upgraded.\n"
          ]
        }
      ]
    },
    {
      "cell_type": "code",
      "source": [
        "!pip install --upgrade setuptools"
      ],
      "metadata": {
        "colab": {
          "base_uri": "https://localhost:8080/",
          "height": 361
        },
        "id": "20PlOqJAbvj5",
        "outputId": "c76bfb92-7103-4a28-92a5-ced078e70e0d"
      },
      "execution_count": null,
      "outputs": [
        {
          "output_type": "stream",
          "name": "stdout",
          "text": [
            "Requirement already satisfied: setuptools in /usr/local/lib/python3.11/dist-packages (75.2.0)\n",
            "Collecting setuptools\n",
            "  Downloading setuptools-78.1.0-py3-none-any.whl.metadata (6.6 kB)\n",
            "Downloading setuptools-78.1.0-py3-none-any.whl (1.3 MB)\n",
            "\u001b[2K   \u001b[90m━━━━━━━━━━━━━━━━━━━━━━━━━━━━━━━━━━━━━━━━\u001b[0m \u001b[32m1.3/1.3 MB\u001b[0m \u001b[31m42.1 MB/s\u001b[0m eta \u001b[36m0:00:00\u001b[0m\n",
            "\u001b[?25hInstalling collected packages: setuptools\n",
            "  Attempting uninstall: setuptools\n",
            "    Found existing installation: setuptools 75.2.0\n",
            "    Uninstalling setuptools-75.2.0:\n",
            "      Successfully uninstalled setuptools-75.2.0\n",
            "\u001b[31mERROR: pip's dependency resolver does not currently take into account all the packages that are installed. This behaviour is the source of the following dependency conflicts.\n",
            "ipython 7.34.0 requires jedi>=0.16, which is not installed.\u001b[0m\u001b[31m\n",
            "\u001b[0mSuccessfully installed setuptools-78.1.0\n"
          ]
        },
        {
          "output_type": "display_data",
          "data": {
            "application/vnd.colab-display-data+json": {
              "pip_warning": {
                "packages": [
                  "_distutils_hack"
                ]
              },
              "id": "3b9cdda9e12c4454818889a4a465132d"
            }
          },
          "metadata": {}
        }
      ]
    },
    {
      "cell_type": "code",
      "source": [
        "from distutils.core import setup\n",
        "from Cython.Build import cythonize\n",
        "import sys, os\n",
        "\n",
        "# Workaround for Colab's temporary filesystem\n",
        "os.chdir('/content')\n",
        "# Add script_args to ignore Jupyter's -f flag\n",
        "setup(ext_modules=cythonize('simulate_cython.pyx', compiler_directives={'linetrace': True}), script_args=['build_ext', '--inplace'])\n",
        "#setup(ext_modules=cythonize('simulate_cython.pyx'), script_args=['build_ext', '--inplace'])"
      ],
      "metadata": {
        "colab": {
          "base_uri": "https://localhost:8080/"
        },
        "id": "W5v5X4UvJXzd",
        "outputId": "27c56a13-7e52-4247-f015-5f91f8a04bc3"
      },
      "execution_count": null,
      "outputs": [
        {
          "output_type": "stream",
          "name": "stdout",
          "text": [
            "Compiling simulate_cython.pyx because it changed.\n",
            "[1/1] Cythonizing simulate_cython.pyx\n"
          ]
        },
        {
          "output_type": "stream",
          "name": "stderr",
          "text": [
            "/usr/local/lib/python3.11/dist-packages/Cython/Compiler/Main.py:381: FutureWarning: Cython directive 'language_level' not set, using '3str' for now (Py3). This has changed from earlier releases! File: /content/simulate_cython.pyx\n",
            "  tree = Parsing.p_module(s, pxd, full_module_name)\n",
            "INFO:root:running build_ext\n",
            "INFO:root:building 'simulate_cython' extension\n",
            "INFO:root:creating build/temp.linux-x86_64-cpython-311\n",
            "INFO:root:x86_64-linux-gnu-gcc -Wsign-compare -DNDEBUG -g -fwrapv -O2 -Wall -g -fstack-protector-strong -Wformat -Werror=format-security -g -fwrapv -O2 -fPIC -DCYTHON_TRACE_NOGIL=1 -I/usr/include/python3.11 -c simulate_cython.c -o build/temp.linux-x86_64-cpython-311/simulate_cython.o\n",
            "INFO:root:creating build/lib.linux-x86_64-cpython-311\n",
            "INFO:root:x86_64-linux-gnu-gcc -shared -Wl,-O1 -Wl,-Bsymbolic-functions -Wl,-Bsymbolic-functions -g -fwrapv -O2 build/temp.linux-x86_64-cpython-311/simulate_cython.o -L/usr/lib/x86_64-linux-gnu -o build/lib.linux-x86_64-cpython-311/simulate_cython.cpython-311-x86_64-linux-gnu.so\n",
            "INFO:root:copying build/lib.linux-x86_64-cpython-311/simulate_cython.cpython-311-x86_64-linux-gnu.so -> \n"
          ]
        },
        {
          "output_type": "execute_result",
          "data": {
            "text/plain": [
              "<setuptools.dist.Distribution at 0x7ebcfc218b90>"
            ]
          },
          "metadata": {},
          "execution_count": 4
        }
      ]
    },
    {
      "cell_type": "code",
      "source": [
        "import pyximport\n",
        "pyximport.install()\n",
        "\n",
        "import simulate_cython"
      ],
      "metadata": {
        "id": "GTzx8vt8Jflv"
      },
      "execution_count": null,
      "outputs": []
    },
    {
      "cell_type": "code",
      "source": [
        "from line_profiler import LineProfiler\n",
        "\n",
        "lp_cy = LineProfiler()\n",
        "lp_wrapper_cy = lp_cy(simulate_cython.simulate_cython)\n",
        "%time result_cy = lp_wrapper_cy()\n",
        "print(f\"Cython result: {result_cy}\")\n",
        "lp_cy.print_stats()"
      ],
      "metadata": {
        "colab": {
          "base_uri": "https://localhost:8080/"
        },
        "id": "1Z-Zxx1dJlW9",
        "outputId": "a13e7e7b-5f8f-4efc-bfba-1f02a9a532cc"
      },
      "execution_count": null,
      "outputs": [
        {
          "output_type": "stream",
          "name": "stdout",
          "text": [
            "CPU times: user 62.9 ms, sys: 757 µs, total: 63.7 ms\n",
            "Wall time: 63.5 ms\n",
            "Cython result: 6418\n",
            "Timer unit: 1e-09 s\n",
            "\n"
          ]
        }
      ]
    },
    {
      "cell_type": "code",
      "source": [
        "# Common parameters with fixed seed\n",
        "SEED = 42\n",
        "N = 10_000\n",
        "P_ABS = 0.01\n",
        "MAX_STEPS = 100\n",
        "\n",
        "# Python version\n",
        "%time py_result = simulate_serial(N, P_ABS, MAX_STEPS, SEED)\n",
        "\n",
        "# Cython version (requires proper compilation from Step 3)\n",
        "%time cy_result = simulate_cython.simulate_cython()#(N, P_ABS, MAX_STEPS, seed=SEED)\n",
        "\n",
        "print(f\"Python result: {py_result}\")\n",
        "print(f\"Cython result: {cy_result}\")\n",
        "#print(f\"Relative difference: {abs(py_result - cy_result)/py_result:.2%}\")"
      ],
      "metadata": {
        "colab": {
          "base_uri": "https://localhost:8080/",
          "height": 352
        },
        "id": "uVajm8GoJo4b",
        "outputId": "c60ca5dd-ec19-4882-cf6c-f4da92571396"
      },
      "execution_count": null,
      "outputs": [
        {
          "output_type": "error",
          "ename": "NameError",
          "evalue": "name 'simulate_serial' is not defined",
          "traceback": [
            "\u001b[0;31m---------------------------------------------------------------------------\u001b[0m",
            "\u001b[0;31mNameError\u001b[0m                                 Traceback (most recent call last)",
            "\u001b[0;32m<timed exec>\u001b[0m in \u001b[0;36m<module>\u001b[0;34m\u001b[0m\n",
            "\u001b[0;31mNameError\u001b[0m: name 'simulate_serial' is not defined"
          ]
        },
        {
          "output_type": "stream",
          "name": "stdout",
          "text": [
            "CPU times: user 13.4 ms, sys: 0 ns, total: 13.4 ms\n",
            "Wall time: 13.4 ms\n"
          ]
        },
        {
          "output_type": "error",
          "ename": "NameError",
          "evalue": "name 'py_result' is not defined",
          "traceback": [
            "\u001b[0;31m---------------------------------------------------------------------------\u001b[0m",
            "\u001b[0;31mNameError\u001b[0m                                 Traceback (most recent call last)",
            "\u001b[0;32m<ipython-input-7-1533971b2f1a>\u001b[0m in \u001b[0;36m<cell line: 0>\u001b[0;34m()\u001b[0m\n\u001b[1;32m     11\u001b[0m \u001b[0mget_ipython\u001b[0m\u001b[0;34m(\u001b[0m\u001b[0;34m)\u001b[0m\u001b[0;34m.\u001b[0m\u001b[0mrun_line_magic\u001b[0m\u001b[0;34m(\u001b[0m\u001b[0;34m'time'\u001b[0m\u001b[0;34m,\u001b[0m \u001b[0;34m'cy_result = simulate_cython.simulate_cython()#(N, P_ABS, MAX_STEPS, seed=SEED)'\u001b[0m\u001b[0;34m)\u001b[0m\u001b[0;34m\u001b[0m\u001b[0;34m\u001b[0m\u001b[0m\n\u001b[1;32m     12\u001b[0m \u001b[0;34m\u001b[0m\u001b[0m\n\u001b[0;32m---> 13\u001b[0;31m \u001b[0mprint\u001b[0m\u001b[0;34m(\u001b[0m\u001b[0;34mf\"Python result: {py_result}\"\u001b[0m\u001b[0;34m)\u001b[0m\u001b[0;34m\u001b[0m\u001b[0;34m\u001b[0m\u001b[0m\n\u001b[0m\u001b[1;32m     14\u001b[0m \u001b[0mprint\u001b[0m\u001b[0;34m(\u001b[0m\u001b[0;34mf\"Cython result: {cy_result}\"\u001b[0m\u001b[0;34m)\u001b[0m\u001b[0;34m\u001b[0m\u001b[0;34m\u001b[0m\u001b[0m\n\u001b[1;32m     15\u001b[0m \u001b[0;31m#print(f\"Relative difference: {abs(py_result - cy_result)/py_result:.2%}\")\u001b[0m\u001b[0;34m\u001b[0m\u001b[0;34m\u001b[0m\u001b[0m\n",
            "\u001b[0;31mNameError\u001b[0m: name 'py_result' is not defined"
          ]
        }
      ]
    },
    {
      "cell_type": "markdown",
      "source": [],
      "metadata": {
        "id": "TtmUcrc4duI-"
      }
    },
    {
      "cell_type": "code",
      "source": [
        "!rm -rf /content/build/"
      ],
      "metadata": {
        "id": "3j-_QTX4SGoM"
      },
      "execution_count": null,
      "outputs": []
    },
    {
      "cell_type": "markdown",
      "source": [],
      "metadata": {
        "id": "OqgYbklfGy9b"
      }
    },
    {
      "cell_type": "markdown",
      "source": [
        "## Vectorized Implementation\n",
        "\n",
        "Objective: Optimize using array operations."
      ],
      "metadata": {
        "id": "MMVTA1EhKXRm"
      }
    },
    {
      "cell_type": "markdown",
      "source": [
        "### With Numpy"
      ],
      "metadata": {
        "id": "t6BCxgKcuyu8"
      }
    },
    {
      "cell_type": "code",
      "source": [
        "import numpy as np\n",
        "from line_profiler import LineProfiler\n",
        "\n",
        "\n",
        "# Vectorized simulation\n",
        "def simulate_numpy(N=10_000, p_abs=0.01, max_steps=100):\n",
        "    # Generate all random numbers at once\n",
        "    steps = np.random.rand(N, max_steps)  # Shape: (N, max_steps)\n",
        "\n",
        "    # Check absorption per neutron (any step < p_abs)\n",
        "    absorbed = np.any(steps < p_abs, axis=1).sum()\n",
        "\n",
        "    return absorbed\n",
        "\n",
        "# Line-level runtime profiling\n",
        "lp = LineProfiler()\n",
        "lp.add_function(simulate_numpy) # Add the function to be profiled\n",
        "lp_wrapper = lp(simulate_numpy) # Wrap the function using lp\n",
        "\n",
        "# Execute with profiling, this will call the wrapped function\n",
        "result = lp_wrapper(N=10_000, p_abs=0.01, max_steps=100)\n",
        "\n",
        "# Print line profiling stats\n",
        "lp.print_stats()\n",
        "\n",
        "# Print memory profiling results (will be printed to the console)"
      ],
      "metadata": {
        "colab": {
          "base_uri": "https://localhost:8080/"
        },
        "id": "nLgyudVLKaFi",
        "outputId": "8e503146-4934-46a5-99ce-ed33a03665eb"
      },
      "execution_count": null,
      "outputs": [
        {
          "output_type": "stream",
          "name": "stdout",
          "text": [
            "Timer unit: 1e-09 s\n",
            "\n",
            "Total time: 0.0284459 s\n",
            "File: <ipython-input-16-1d834d1b3a2b>\n",
            "Function: simulate_numpy at line 6\n",
            "\n",
            "Line #      Hits         Time  Per Hit   % Time  Line Contents\n",
            "==============================================================\n",
            "     6                                           def simulate_numpy(N=10_000, p_abs=0.01, max_steps=100):\n",
            "     7                                               # Generate all random numbers at once\n",
            "     8         1   23770421.0    2e+07     83.6      steps = np.random.rand(N, max_steps)  # Shape: (N, max_steps)\n",
            "     9                                           \n",
            "    10                                               # Check absorption per neutron (any step < p_abs)\n",
            "    11         1    4674967.0    5e+06     16.4      absorbed = np.any(steps < p_abs, axis=1).sum()\n",
            "    12                                           \n",
            "    13         1        548.0    548.0      0.0      return absorbed\n",
            "\n"
          ]
        }
      ]
    },
    {
      "cell_type": "markdown",
      "source": [
        "### Lets investigate how the following work:\n",
        "\n",
        "```\n",
        "steps = np.random.rand(N, max_steps)\n",
        "\n",
        "absorbed = np.any(steps < p_abs, axis=1).sum()\n",
        "```\n",
        "\n"
      ],
      "metadata": {
        "id": "q_6--UVRIhXR"
      }
    },
    {
      "cell_type": "markdown",
      "source": [
        "#### Low-Level Implementation: steps = np.random.rand(N, max_steps)\n",
        "1. Memory Allocation: Creates a contiguous block of memory for N×max_steps 64-bit floats (8 bytes each)\n",
        "2. RNG Backend: Uses NumPy's optimized C-based implementation\n",
        "3. Vectorization: Generates all numbers in a single native call using SIMD instructions\n",
        "4. Memory Layout: Stores values in row-major order (C-style)"
      ],
      "metadata": {
        "id": "ceEKG1jBOtl9"
      }
    },
    {
      "cell_type": "markdown",
      "source": [
        "#### Low-Level Implementation: absorbed = np.any(steps < p_abs, axis=1).sum()\n",
        "\n",
        "1. Comparison: Creates boolean array via SIMD-accelerated comparison\n",
        "2. Reduction: np.any uses short-circuiting SIMD operations per row\n",
        "3. Summation: Branchless bit-counting optimization for boolean sum"
      ],
      "metadata": {
        "id": "jECzgfNaPBrV"
      }
    },
    {
      "cell_type": "markdown",
      "source": [
        "### Vectorization always works?"
      ],
      "metadata": {
        "id": "rj1Y_vT3Nfzj"
      }
    },
    {
      "cell_type": "code",
      "source": [
        "import numpy as np\n",
        "import timeit\n",
        "\n",
        "def loop_add(a, b):\n",
        "    return [x + y for x, y in zip(a, b)]\n",
        "\n",
        "def vec_add(a, b):\n",
        "    return np.array(a) + np.array(b)\n",
        "\n",
        "# Small data: Loop is faster\n",
        "a = list(range(100))\n",
        "b = list(range(100))\n",
        "print(\"Loop:\", timeit.timeit(lambda: loop_add(a, b), number=1000))\n",
        "print(\"Vectorized:\", timeit.timeit(lambda: vec_add(a, b), number=1000))"
      ],
      "metadata": {
        "colab": {
          "base_uri": "https://localhost:8080/"
        },
        "id": "cEKNfTVTNiqI",
        "outputId": "bf87e395-b0e7-401e-cfc9-78de9a38f1ea"
      },
      "execution_count": null,
      "outputs": [
        {
          "output_type": "stream",
          "name": "stdout",
          "text": [
            "Loop: 0.008889495999994779\n",
            "Vectorized: 0.025444593000003124\n"
          ]
        }
      ]
    },
    {
      "cell_type": "markdown",
      "source": [
        "### If Cython did the job, why to go for vectorization using numpy?"
      ],
      "metadata": {
        "id": "V7yrXvasfG9z"
      }
    },
    {
      "cell_type": "code",
      "source": [
        "def benchmark_vectorization():\n",
        "    params = [\n",
        "        (1000, 10), # very small\n",
        "        (10_000, 100),    # Small problem\n",
        "        (1_000_000, 100), # Medium problem\n",
        "        (10_000_000, 10)  # Large problem\n",
        "    ]\n",
        "\n",
        "    for N, steps in params:\n",
        "        print(f\"\\nN={N}, steps={steps}\")\n",
        "\n",
        "        # Cython\n",
        "        cy_time = timeit.timeit(lambda: simulate_cython.simulate_cython(N, 0.01, steps), number=10)\n",
        "\n",
        "        print(f\"Cython: {cy_time/10:.4f}s per run\")\n",
        "\n",
        "        # NumPy vectorized\n",
        "        np_time = timeit.timeit(lambda: simulate_numpy(N, 0.01, steps), number=10)\n",
        "        print(f\"NumPy: {np_time/10:.4f}s per run\")\n",
        "\n",
        "benchmark_vectorization()"
      ],
      "metadata": {
        "colab": {
          "base_uri": "https://localhost:8080/"
        },
        "id": "2ou2UoZWfF9q",
        "outputId": "4b78976e-20bf-4a01-c2cb-bddee21d2496"
      },
      "execution_count": null,
      "outputs": [
        {
          "output_type": "stream",
          "name": "stdout",
          "text": [
            "\n",
            "N=1000, steps=10\n",
            "Cython: 0.0002s per run\n",
            "NumPy: 0.0003s per run\n",
            "\n",
            "N=10000, steps=100\n",
            "Cython: 0.0129s per run\n",
            "NumPy: 0.0118s per run\n",
            "\n",
            "N=1000000, steps=100\n",
            "Cython: 1.4918s per run\n",
            "NumPy: 1.4204s per run\n",
            "\n",
            "N=10000000, steps=10\n",
            "Cython: 2.3517s per run\n",
            "NumPy: 1.9329s per run\n"
          ]
        }
      ]
    },
    {
      "cell_type": "markdown",
      "source": [
        "### Save the code for memory profiling"
      ],
      "metadata": {
        "id": "a5cLyul3H0MR"
      }
    },
    {
      "cell_type": "code",
      "source": [
        "%%writefile my_script.py\n",
        "import numpy as np\n",
        "\n",
        "def simulate_numpy(N=10_000, p_abs=0.01, max_steps=100):\n",
        "    # Generate all random numbers at once\n",
        "    steps = np.random.rand(N, max_steps)  # Shape: (N, max_steps)\n",
        "\n",
        "    # Check absorption per neutron (any step < p_abs)\n",
        "    absorbed = np.any(steps < p_abs, axis=1).sum()\n",
        "\n",
        "    return absorbed"
      ],
      "metadata": {
        "colab": {
          "base_uri": "https://localhost:8080/"
        },
        "id": "SeHYWJvUxNq4",
        "outputId": "fd1a0fa3-0b44-4ef2-b550-462266f32d48"
      },
      "execution_count": null,
      "outputs": [
        {
          "output_type": "stream",
          "name": "stdout",
          "text": [
            "Writing my_script.py\n"
          ]
        }
      ]
    },
    {
      "cell_type": "markdown",
      "source": [
        "## Memory profiling"
      ],
      "metadata": {
        "id": "pE9LTRRkf_3W"
      }
    },
    {
      "cell_type": "code",
      "source": [
        "!pip install memory_profiler"
      ],
      "metadata": {
        "colab": {
          "base_uri": "https://localhost:8080/"
        },
        "id": "2Mjp7TsVeIfG",
        "outputId": "1b005989-5042-4e03-ca70-2bb8b85c73f8"
      },
      "execution_count": null,
      "outputs": [
        {
          "output_type": "stream",
          "name": "stdout",
          "text": [
            "Collecting memory_profiler\n",
            "  Downloading memory_profiler-0.61.0-py3-none-any.whl.metadata (20 kB)\n",
            "Requirement already satisfied: psutil in /usr/local/lib/python3.11/dist-packages (from memory_profiler) (5.9.5)\n",
            "Downloading memory_profiler-0.61.0-py3-none-any.whl (31 kB)\n",
            "Installing collected packages: memory_profiler\n",
            "Successfully installed memory_profiler-0.61.0\n"
          ]
        }
      ]
    },
    {
      "cell_type": "code",
      "source": [
        "%load_ext memory_profiler\n",
        "from my_script import simulate_numpy\n",
        "from memory_profiler import profile\n",
        "\n",
        "# Memory profiling (run separately)\n",
        "%mprun -f simulate_numpy simulate_numpy(1000000)"
      ],
      "metadata": {
        "colab": {
          "base_uri": "https://localhost:8080/"
        },
        "id": "N6N8VGjZw80s",
        "outputId": "e590f64c-a617-4dbe-9661-4bba01198631"
      },
      "execution_count": null,
      "outputs": [
        {
          "output_type": "stream",
          "name": "stdout",
          "text": [
            "The memory_profiler extension is already loaded. To reload it, use:\n",
            "  %reload_ext memory_profiler\n",
            "\n"
          ]
        }
      ]
    },
    {
      "cell_type": "markdown",
      "source": [
        "## Lets address some queries\n",
        "0. Why `params` is a list of tuples and not list of lists?\n",
        "1. Whether `lp.add_function(func_name)` and `lp(func_name)` performing same operations? How to invoke line-profiling when the function is added using `lp.add_function` method?\n",
        "2. How broadcasting works in `np.any(steps < p_abs)`?\n",
        "3. What is `number` argument in `timeit.timeit` function call?\n",
        "4. Why `timeit.timeit` expects a lambda instead of a function call as the argument?\n",
        "5. Is there any rule of thumb on when to go for vectorization vs cython implementation to acheive optimal runtime?\n",
        "   1. Depends on memory and compute budget?\n",
        "6. How to make efficient use of memory for large N, max_steps when using vectorization?\n",
        "   1. Application specific optimizations:\n",
        "      1. Minimize the footprint of random array?\n",
        "         1. Lower precision\n",
        "         2. Simpler/Efficient random number generator with lower memory requirements?\n",
        "         3. Allocate only partial chunks of random-array (impacts runtime performance? How much?)\n",
        "         4. Switch to multiprocessing to avoid process-crash due to large memory requirement?\n",
        "            1. Vectorized operation in each process (Hybrid approach between vectorization and multi-process parallelization)\n",
        "               1. Whether resulting runtime performance outweighs communication overheads?"
      ],
      "metadata": {
        "id": "OaHmSMYMEVD-"
      }
    },
    {
      "cell_type": "markdown",
      "source": [
        "### Performance tradeoff between list of lists vs list of tuples (immutable)"
      ],
      "metadata": {
        "id": "hCKRL-a2SRgJ"
      }
    },
    {
      "cell_type": "code",
      "source": [
        "import timeit\n",
        "import sys\n",
        "\n",
        "def create_list_of_lists(n):\n",
        "    return [[i, i*2] for i in range(n)]\n",
        "\n",
        "def create_list_of_tuples(n):\n",
        "    return [(i, i*2) for i in range(n)]\n",
        "\n",
        "def access_elements_list(data):\n",
        "    for item in data:\n",
        "        a, b = item[0], item[1]\n",
        "\n",
        "def access_elements_tuple(data):\n",
        "    for item in data:\n",
        "        a, b = item[0], item[1]\n",
        "\n",
        "def benchmark():\n",
        "    sizes = [10**3, 10**4, 10**5, 10**6]  # Test different scales\n",
        "\n",
        "    for n in sizes:\n",
        "        print(f\"\\nBenchmarking for size {n}:\")\n",
        "\n",
        "        # Creation time comparison\n",
        "        list_creation = timeit.timeit(lambda: create_list_of_lists(n), number=100)\n",
        "        tuple_creation = timeit.timeit(lambda: create_list_of_tuples(n), number=100)\n",
        "        print(f\"Creation: Lists {list_creation:.5f}s vs Tuples {tuple_creation:.5f}s (Δ {list_creation - tuple_creation:+.4f}s)\")\n",
        "\n",
        "        # Access time comparison\n",
        "        list_data = create_list_of_lists(n)\n",
        "        tuple_data = create_list_of_tuples(n)\n",
        "        list_access = timeit.timeit(lambda: access_elements_list(list_data), number=100)\n",
        "        tuple_access = timeit.timeit(lambda: access_elements_tuple(tuple_data), number=100)\n",
        "        print(f\"Access:   Lists {list_access:.5f}s vs Tuples {tuple_access:.5f}s (Δ {list_access - tuple_access:+.4f}s)\")\n",
        "\n",
        "        # Memory comparison\n",
        "        list_mem = sys.getsizeof(list_data) + sum(sys.getsizeof(x) for x in list_data)\n",
        "        tuple_mem = sys.getsizeof(tuple_data) + sum(sys.getsizeof(x) for x in tuple_data)\n",
        "        print(f\"Memory:   Lists {list_mem:,}b vs Tuples {tuple_mem:,}b (Δ {list_mem - tuple_mem:,}b)\")\n",
        "\n",
        "benchmark()"
      ],
      "metadata": {
        "colab": {
          "base_uri": "https://localhost:8080/"
        },
        "id": "dVhZhh5jR9sh",
        "outputId": "64cc653b-a260-4863-e4d7-f3721a90884a"
      },
      "execution_count": null,
      "outputs": [
        {
          "output_type": "stream",
          "name": "stdout",
          "text": [
            "\n",
            "Benchmarking for size 1000:\n",
            "Creation: Lists 0.01254s vs Tuples 0.00826s (Δ +0.0043s)\n",
            "Access:   Lists 0.00346s vs Tuples 0.00281s (Δ +0.0006s)\n",
            "Memory:   Lists 80,856b vs Tuples 64,856b (Δ 16,000b)\n",
            "\n",
            "Benchmarking for size 10000:\n",
            "Creation: Lists 0.11037s vs Tuples 0.10218s (Δ +0.0082s)\n",
            "Access:   Lists 0.03922s vs Tuples 0.02720s (Δ +0.0120s)\n",
            "Memory:   Lists 805,176b vs Tuples 645,176b (Δ 160,000b)\n",
            "\n",
            "Benchmarking for size 100000:\n",
            "Creation: Lists 1.95821s vs Tuples 1.40040s (Δ +0.5578s)\n",
            "Access:   Lists 0.33466s vs Tuples 0.31238s (Δ +0.0223s)\n",
            "Memory:   Lists 8,000,984b vs Tuples 6,400,984b (Δ 1,600,000b)\n",
            "\n",
            "Benchmarking for size 1000000:\n",
            "Creation: Lists 24.33007s vs Tuples 19.90192s (Δ +4.4281s)\n",
            "Access:   Lists 3.17035s vs Tuples 3.02470s (Δ +0.1456s)\n",
            "Memory:   Lists 80,448,728b vs Tuples 64,448,728b (Δ 16,000,000b)\n"
          ]
        }
      ]
    },
    {
      "cell_type": "markdown",
      "source": [
        "### How broadcasting works in Python?"
      ],
      "metadata": {
        "id": "rNE7nPLpXxXM"
      }
    },
    {
      "cell_type": "code",
      "source": [
        "import numpy as np\n",
        "import timeit\n",
        "\n",
        "def broadcast_demo():\n",
        "    # Example 1: Basic scalar broadcasting\n",
        "    print(\"=== Level 1: Scalar Broadcasting ===\")\n",
        "    arr = np.arange(1, 6)  # Shape: (5,)\n",
        "    result = arr + 5\n",
        "    print(f\"Original: {arr}\\nAfter +5: {result}\\nShape: {result.shape}\\n\")\n",
        "\n",
        "    # Example 2: Vector + Matrix broadcasting\n",
        "    print(\"=== Level 2: Vector-Matrix Broadcasting ===\")\n",
        "    matrix = np.array([[1, 2], [3, 4], [5, 6]])  # (3,2)\n",
        "    vector = np.array([10, 20])                   # (2,)\n",
        "    result = matrix * vector\n",
        "    print(f\"Matrix:\\n{matrix}\\nVector: {vector}\\nResult:\\n{result}\\nShape: {result.shape}\\n\")\n",
        "\n",
        "    # Example 3: 3D + 1D broadcasting\n",
        "    print(\"=== Level 3: 3D/1D Broadcasting ===\")\n",
        "    tensor_3d = np.ones((2, 3, 4))  # (2,3,4)\n",
        "    vector_1d = np.array([1, 2, 3, 4])  # (4,)\n",
        "    result = tensor_3d * vector_1d\n",
        "    print(f\"3D Tensor Shape: {tensor_3d.shape}\")\n",
        "    print(f\"1D Vector Shape: {vector_1d.shape}\")\n",
        "    print(f\"Result Shape: {result.shape}\\nSlice:\\n{result[0,0]}\\n\")\n",
        "\n",
        "    # Example 4: Conditional broadcasting\n",
        "    print(\"=== Level 4: Conditional Broadcasting ===\")\n",
        "    data = np.random.rand(3, 4)  # (3,4)\n",
        "    thresholds = np.array([0.3, 0.5, 0.7])  # (3,)\n",
        "    result = np.where(data > thresholds[:, np.newaxis], 1, 0)\n",
        "    print(f\"Data:\\n{np.round(data,2)}\\nThresholds: {thresholds}\")\n",
        "    print(f\"Result:\\n{result}\\nShape: {result.shape}\\n\")\n",
        "\n",
        "    # Example 5: Complex matrix operations\n",
        "    print(\"=== Level 5: Matrix Outer Product via Broadcasting ===\")\n",
        "    A = np.array([1, 2, 3])  # (3,)\n",
        "    B = np.array([4, 5])      # (2,)\n",
        "    result = A[:, np.newaxis] * B  # Explicit broadcasting\n",
        "    print(f\"A: {A}\\nB: {B}\")\n",
        "    print(f\"Outer Product:\\n{result}\\nShape: {result.shape}\\n\")\n",
        "\n",
        "    # Performance comparison\n",
        "    print(\"=== Performance Scaling ===\")\n",
        "    sizes = [10**3, 10**4, 10**5, 10**6]\n",
        "    for size in sizes:\n",
        "        a = np.random.rand(size)\n",
        "        b = np.random.rand(1)\n",
        "\n",
        "        # Time scalar broadcasting\n",
        "        t_scalar = timeit.timeit(lambda: a + 5, number=100)\n",
        "\n",
        "        # Time array broadcasting\n",
        "        t_array = timeit.timeit(lambda: a + b, number=100)\n",
        "\n",
        "        print(f\"Size {size:>8}: Scalar {t_scalar:.5f}s | Array {t_array:.5f}s\")\n",
        "\n",
        "broadcast_demo()"
      ],
      "metadata": {
        "colab": {
          "base_uri": "https://localhost:8080/"
        },
        "id": "uHe11MIZX09N",
        "outputId": "d5c78224-5f76-4b3d-d3b9-c389cd448911"
      },
      "execution_count": null,
      "outputs": [
        {
          "output_type": "stream",
          "name": "stdout",
          "text": [
            "=== Level 1: Scalar Broadcasting ===\n",
            "Original: [1 2 3 4 5]\n",
            "After +5: [ 6  7  8  9 10]\n",
            "Shape: (5,)\n",
            "\n",
            "=== Level 2: Vector-Matrix Broadcasting ===\n",
            "Matrix:\n",
            "[[1 2]\n",
            " [3 4]\n",
            " [5 6]]\n",
            "Vector: [10 20]\n",
            "Result:\n",
            "[[ 10  40]\n",
            " [ 30  80]\n",
            " [ 50 120]]\n",
            "Shape: (3, 2)\n",
            "\n",
            "=== Level 3: 3D/1D Broadcasting ===\n",
            "3D Tensor Shape: (2, 3, 4)\n",
            "1D Vector Shape: (4,)\n",
            "Result Shape: (2, 3, 4)\n",
            "Slice:\n",
            "[1. 2. 3. 4.]\n",
            "\n",
            "=== Level 4: Conditional Broadcasting ===\n",
            "Data:\n",
            "[[0.92 0.32 0.9  0.78]\n",
            " [0.53 0.   0.66 0.88]\n",
            " [0.38 0.84 0.57 0.03]]\n",
            "Thresholds: [0.3 0.5 0.7]\n",
            "Result:\n",
            "[[1 1 1 1]\n",
            " [1 0 1 1]\n",
            " [0 1 0 0]]\n",
            "Shape: (3, 4)\n",
            "\n",
            "=== Level 5: Matrix Outer Product via Broadcasting ===\n",
            "A: [1 2 3]\n",
            "B: [4 5]\n",
            "Outer Product:\n",
            "[[ 4  5]\n",
            " [ 8 10]\n",
            " [12 15]]\n",
            "Shape: (3, 2)\n",
            "\n",
            "=== Performance Scaling ===\n",
            "Size     1000: Scalar 0.00023s | Array 0.00024s\n",
            "Size    10000: Scalar 0.00054s | Array 0.00064s\n",
            "Size   100000: Scalar 0.00679s | Array 0.00668s\n",
            "Size  1000000: Scalar 0.10825s | Array 0.10221s\n"
          ]
        }
      ]
    },
    {
      "cell_type": "markdown",
      "source": [
        "### How broadcasting fares against for loops?"
      ],
      "metadata": {
        "id": "pPkeo2NkY0BW"
      }
    },
    {
      "cell_type": "code",
      "source": [
        "import numpy as np\n",
        "import timeit\n",
        "import matplotlib.pyplot as plt\n",
        "\n",
        "def broadcast_comparison():\n",
        "    # Setup\n",
        "    sizes = [10**3, 10**4, 10**5, 10**6, 10**7]\n",
        "    broadcast_times = []\n",
        "    loop_times = []\n",
        "\n",
        "    print(\"=== Broadcasting vs. Looping Performance ===\")\n",
        "    print(f\"{'Size':>10} | {'Broadcast (ms)':<12} | {'Loop (ms)':<10} | Speedup\")\n",
        "    print(\"-\" * 50)\n",
        "\n",
        "    for size in sizes:\n",
        "        # Create test data\n",
        "        a = np.random.rand(size)\n",
        "        b = np.random.rand(size)\n",
        "        scalar = 5.0\n",
        "\n",
        "        # Benchmark 1: Broadcasting (vectorized)\n",
        "        broadcast_time = timeit.timeit(lambda: a + scalar, number=100) * 10  # Convert to ms\n",
        "        broadcast_times.append(broadcast_time)\n",
        "\n",
        "        # Benchmark 2: Explicit loop (non-vectorized)\n",
        "        def loop_operation():\n",
        "            result = np.empty_like(a)\n",
        "            for i in range(len(a)):\n",
        "                result[i] = a[i] + scalar\n",
        "            return result\n",
        "\n",
        "        loop_time = timeit.timeit(loop_operation, number=100) * 10  # Convert to ms\n",
        "        loop_times.append(loop_time)\n",
        "\n",
        "        # Print comparison\n",
        "        speedup = loop_time / broadcast_time\n",
        "        print(f\"{size:>10,} | {broadcast_time:>10.4f} | {loop_time:>10.4f} | {speedup:>5.1f}x\")\n",
        "\n",
        "    # Plot results\n",
        "    plt.figure(figsize=(10, 6))\n",
        "    plt.plot(sizes, broadcast_times, 'o-', label='Broadcasting')\n",
        "    plt.plot(sizes, loop_times, 's-', label='Explicit Loop')\n",
        "    plt.xscale('log')\n",
        "    plt.yscale('log')\n",
        "    plt.xlabel('Array Size')\n",
        "    plt.ylabel('Time (ms) for 100 operations')\n",
        "    plt.title('Broadcasting vs. Looping Performance')\n",
        "    plt.legend()\n",
        "    plt.grid(True, which=\"both\", ls=\"--\")\n",
        "    plt.show()\n",
        "\n",
        "    # Advanced comparison: Matrix operations\n",
        "    print(\"\\n=== Matrix Operation Comparison ===\")\n",
        "    matrix_sizes = [10, 100, 500, 1000]\n",
        "    for size in matrix_sizes:\n",
        "        A = np.random.rand(size, size)\n",
        "        B = np.random.rand(size, 1)\n",
        "\n",
        "        # Broadcasting approach\n",
        "        def broadcast_matmul():\n",
        "            return A * B  # Broadcasts B across all columns of A\n",
        "\n",
        "        # Loop approach\n",
        "        def loop_matmul():\n",
        "            result = np.empty_like(A)\n",
        "            for i in range(A.shape[0]):\n",
        "                for j in range(A.shape[1]):\n",
        "                    result[i,j] = A[i,j] * B[i,0]\n",
        "            return result\n",
        "\n",
        "        b_time = timeit.timeit(broadcast_matmul, number=10) * 100  # Convert to ms\n",
        "        l_time = timeit.timeit(loop_matmul, number=10) * 100\n",
        "\n",
        "        print(f\"Matrix {size}x{size}: Broadcast {b_time:.2f}ms vs Loop {l_time:.2f}ms ({l_time/b_time:.1f}x slower)\")\n",
        "\n",
        "broadcast_comparison()"
      ],
      "metadata": {
        "colab": {
          "base_uri": "https://localhost:8080/",
          "height": 443
        },
        "id": "1kB36WmSY4KA",
        "outputId": "5fee9fda-215e-4f94-b337-f5f4b5edcc46"
      },
      "execution_count": null,
      "outputs": [
        {
          "output_type": "stream",
          "name": "stdout",
          "text": [
            "=== Broadcasting vs. Looping Performance ===\n",
            "      Size | Broadcast (ms) | Loop (ms)  | Speedup\n",
            "--------------------------------------------------\n",
            "     1,000 |     0.0121 |     0.2627 |  21.8x\n",
            "    10,000 |     0.0059 |     2.4891 | 424.3x\n",
            "   100,000 |     0.0672 |    37.2000 | 553.5x\n",
            " 1,000,000 |     0.9437 |   285.9427 | 303.0x\n"
          ]
        },
        {
          "output_type": "error",
          "ename": "KeyboardInterrupt",
          "evalue": "",
          "traceback": [
            "\u001b[0;31m---------------------------------------------------------------------------\u001b[0m",
            "\u001b[0;31mKeyboardInterrupt\u001b[0m                         Traceback (most recent call last)",
            "\u001b[0;32m<ipython-input-20-642a8d3d5125>\u001b[0m in \u001b[0;36m<cell line: 0>\u001b[0;34m()\u001b[0m\n\u001b[1;32m     74\u001b[0m         \u001b[0mprint\u001b[0m\u001b[0;34m(\u001b[0m\u001b[0;34mf\"Matrix {size}x{size}: Broadcast {b_time:.2f}ms vs Loop {l_time:.2f}ms ({l_time/b_time:.1f}x slower)\"\u001b[0m\u001b[0;34m)\u001b[0m\u001b[0;34m\u001b[0m\u001b[0;34m\u001b[0m\u001b[0m\n\u001b[1;32m     75\u001b[0m \u001b[0;34m\u001b[0m\u001b[0m\n\u001b[0;32m---> 76\u001b[0;31m \u001b[0mbroadcast_comparison\u001b[0m\u001b[0;34m(\u001b[0m\u001b[0;34m)\u001b[0m\u001b[0;34m\u001b[0m\u001b[0;34m\u001b[0m\u001b[0m\n\u001b[0m",
            "\u001b[0;32m<ipython-input-20-642a8d3d5125>\u001b[0m in \u001b[0;36mbroadcast_comparison\u001b[0;34m()\u001b[0m\n\u001b[1;32m     30\u001b[0m             \u001b[0;32mreturn\u001b[0m \u001b[0mresult\u001b[0m\u001b[0;34m\u001b[0m\u001b[0;34m\u001b[0m\u001b[0m\n\u001b[1;32m     31\u001b[0m \u001b[0;34m\u001b[0m\u001b[0m\n\u001b[0;32m---> 32\u001b[0;31m         \u001b[0mloop_time\u001b[0m \u001b[0;34m=\u001b[0m \u001b[0mtimeit\u001b[0m\u001b[0;34m.\u001b[0m\u001b[0mtimeit\u001b[0m\u001b[0;34m(\u001b[0m\u001b[0mloop_operation\u001b[0m\u001b[0;34m,\u001b[0m \u001b[0mnumber\u001b[0m\u001b[0;34m=\u001b[0m\u001b[0;36m100\u001b[0m\u001b[0;34m)\u001b[0m \u001b[0;34m*\u001b[0m \u001b[0;36m10\u001b[0m  \u001b[0;31m# Convert to ms\u001b[0m\u001b[0;34m\u001b[0m\u001b[0;34m\u001b[0m\u001b[0m\n\u001b[0m\u001b[1;32m     33\u001b[0m         \u001b[0mloop_times\u001b[0m\u001b[0;34m.\u001b[0m\u001b[0mappend\u001b[0m\u001b[0;34m(\u001b[0m\u001b[0mloop_time\u001b[0m\u001b[0;34m)\u001b[0m\u001b[0;34m\u001b[0m\u001b[0;34m\u001b[0m\u001b[0m\n\u001b[1;32m     34\u001b[0m \u001b[0;34m\u001b[0m\u001b[0m\n",
            "\u001b[0;32m/usr/lib/python3.11/timeit.py\u001b[0m in \u001b[0;36mtimeit\u001b[0;34m(stmt, setup, timer, number, globals)\u001b[0m\n\u001b[1;32m    235\u001b[0m            number=default_number, globals=None):\n\u001b[1;32m    236\u001b[0m     \u001b[0;34m\"\"\"Convenience function to create Timer object and call timeit method.\"\"\"\u001b[0m\u001b[0;34m\u001b[0m\u001b[0;34m\u001b[0m\u001b[0m\n\u001b[0;32m--> 237\u001b[0;31m     \u001b[0;32mreturn\u001b[0m \u001b[0mTimer\u001b[0m\u001b[0;34m(\u001b[0m\u001b[0mstmt\u001b[0m\u001b[0;34m,\u001b[0m \u001b[0msetup\u001b[0m\u001b[0;34m,\u001b[0m \u001b[0mtimer\u001b[0m\u001b[0;34m,\u001b[0m \u001b[0mglobals\u001b[0m\u001b[0;34m)\u001b[0m\u001b[0;34m.\u001b[0m\u001b[0mtimeit\u001b[0m\u001b[0;34m(\u001b[0m\u001b[0mnumber\u001b[0m\u001b[0;34m)\u001b[0m\u001b[0;34m\u001b[0m\u001b[0;34m\u001b[0m\u001b[0m\n\u001b[0m\u001b[1;32m    238\u001b[0m \u001b[0;34m\u001b[0m\u001b[0m\n\u001b[1;32m    239\u001b[0m \u001b[0;34m\u001b[0m\u001b[0m\n",
            "\u001b[0;32m/usr/lib/python3.11/timeit.py\u001b[0m in \u001b[0;36mtimeit\u001b[0;34m(self, number)\u001b[0m\n\u001b[1;32m    178\u001b[0m         \u001b[0mgc\u001b[0m\u001b[0;34m.\u001b[0m\u001b[0mdisable\u001b[0m\u001b[0;34m(\u001b[0m\u001b[0;34m)\u001b[0m\u001b[0;34m\u001b[0m\u001b[0;34m\u001b[0m\u001b[0m\n\u001b[1;32m    179\u001b[0m         \u001b[0;32mtry\u001b[0m\u001b[0;34m:\u001b[0m\u001b[0;34m\u001b[0m\u001b[0;34m\u001b[0m\u001b[0m\n\u001b[0;32m--> 180\u001b[0;31m             \u001b[0mtiming\u001b[0m \u001b[0;34m=\u001b[0m \u001b[0mself\u001b[0m\u001b[0;34m.\u001b[0m\u001b[0minner\u001b[0m\u001b[0;34m(\u001b[0m\u001b[0mit\u001b[0m\u001b[0;34m,\u001b[0m \u001b[0mself\u001b[0m\u001b[0;34m.\u001b[0m\u001b[0mtimer\u001b[0m\u001b[0;34m)\u001b[0m\u001b[0;34m\u001b[0m\u001b[0;34m\u001b[0m\u001b[0m\n\u001b[0m\u001b[1;32m    181\u001b[0m         \u001b[0;32mfinally\u001b[0m\u001b[0;34m:\u001b[0m\u001b[0;34m\u001b[0m\u001b[0;34m\u001b[0m\u001b[0m\n\u001b[1;32m    182\u001b[0m             \u001b[0;32mif\u001b[0m \u001b[0mgcold\u001b[0m\u001b[0;34m:\u001b[0m\u001b[0;34m\u001b[0m\u001b[0;34m\u001b[0m\u001b[0m\n",
            "\u001b[0;32m/usr/lib/python3.11/timeit.py\u001b[0m in \u001b[0;36minner\u001b[0;34m(_it, _timer, _stmt)\u001b[0m\n",
            "\u001b[0;32m<ipython-input-20-642a8d3d5125>\u001b[0m in \u001b[0;36mloop_operation\u001b[0;34m()\u001b[0m\n\u001b[1;32m     27\u001b[0m             \u001b[0mresult\u001b[0m \u001b[0;34m=\u001b[0m \u001b[0mnp\u001b[0m\u001b[0;34m.\u001b[0m\u001b[0mempty_like\u001b[0m\u001b[0;34m(\u001b[0m\u001b[0ma\u001b[0m\u001b[0;34m)\u001b[0m\u001b[0;34m\u001b[0m\u001b[0;34m\u001b[0m\u001b[0m\n\u001b[1;32m     28\u001b[0m             \u001b[0;32mfor\u001b[0m \u001b[0mi\u001b[0m \u001b[0;32min\u001b[0m \u001b[0mrange\u001b[0m\u001b[0;34m(\u001b[0m\u001b[0mlen\u001b[0m\u001b[0;34m(\u001b[0m\u001b[0ma\u001b[0m\u001b[0;34m)\u001b[0m\u001b[0;34m)\u001b[0m\u001b[0;34m:\u001b[0m\u001b[0;34m\u001b[0m\u001b[0;34m\u001b[0m\u001b[0m\n\u001b[0;32m---> 29\u001b[0;31m                 \u001b[0mresult\u001b[0m\u001b[0;34m[\u001b[0m\u001b[0mi\u001b[0m\u001b[0;34m]\u001b[0m \u001b[0;34m=\u001b[0m \u001b[0ma\u001b[0m\u001b[0;34m[\u001b[0m\u001b[0mi\u001b[0m\u001b[0;34m]\u001b[0m \u001b[0;34m+\u001b[0m \u001b[0mscalar\u001b[0m\u001b[0;34m\u001b[0m\u001b[0;34m\u001b[0m\u001b[0m\n\u001b[0m\u001b[1;32m     30\u001b[0m             \u001b[0;32mreturn\u001b[0m \u001b[0mresult\u001b[0m\u001b[0;34m\u001b[0m\u001b[0;34m\u001b[0m\u001b[0m\n\u001b[1;32m     31\u001b[0m \u001b[0;34m\u001b[0m\u001b[0m\n",
            "\u001b[0;31mKeyboardInterrupt\u001b[0m: "
          ]
        }
      ]
    },
    {
      "cell_type": "markdown",
      "source": [
        "### Why `number` Argument in timeit.timeit ?\n",
        "\n",
        "1. The number parameter specifies how many times to execute the code.\n",
        "\n",
        "2. The total time is divided by number to get the average per-run time (e.g., number=10 means run 10 times, then divide total by 10).\n",
        "\n",
        "### Why Use a Lambda in timeit.timeit rather than function call?\n",
        "\n",
        "1. timeit.timeit expects a parameterless function/callable.\n",
        "\n",
        "2. The lambda lambda: simulate_numpy(...) delays execution until timeit runs it internally.\n",
        "\n",
        "3. Directly passing simulate_numpy(...) would execute it once immediately (not what you want)."
      ],
      "metadata": {
        "id": "1ndGOV5LqPN4"
      }
    },
    {
      "cell_type": "markdown",
      "source": [
        "### Why timeit.timeit and not line_profile or cprofile?Precision vs Profiling Depth\n",
        "\n",
        "    timeit.timeit (Best for microbenchmarks):\n",
        "\n",
        "        ✅ Measures wall time with minimal overhead\n",
        "\n",
        "        ✅ Excellent for comparing total execution times\n",
        "\n",
        "        ❌ Only gives total duration, no granularity\n",
        "\n",
        "        ❌ Doesn't show why something is slow\n",
        "\n",
        "    cProfile/line_profiler (Best for optimization):\n",
        "\n",
        "        ✅ Shows function call hierarchy\n",
        "\n",
        "        ✅ Line-by-line timing (line_profiler)\n",
        "\n",
        "        ❌ Adds significant instrumentation overhead\n",
        "\n",
        "        ❌ Distorts absolute timing measurements"
      ],
      "metadata": {
        "id": "4yZBjKTMp0f3"
      }
    },
    {
      "cell_type": "markdown",
      "source": [
        "## Multiprocessing Parallelization\n",
        "\n",
        "Objective: Distribute work across CPU cores."
      ],
      "metadata": {
        "id": "DvzAxbSLKfD0"
      }
    },
    {
      "cell_type": "markdown",
      "source": [
        "## Single-core vs Multicore programs"
      ],
      "metadata": {
        "id": "Ljku6rCHBMpZ"
      }
    },
    {
      "cell_type": "markdown",
      "source": [
        "### Heavy data serialization/deserialization"
      ],
      "metadata": {
        "id": "q7RKpxW6WPaX"
      }
    },
    {
      "cell_type": "code",
      "source": [
        "!pip install multiprocess\n",
        "import time\n",
        "import numpy as np\n",
        "import os\n",
        "from multiprocess import Pool\n",
        "\n",
        "def process_chunk(data):\n",
        "    return sum(1 / (1 + x**2) for x in data)  # CPU-intensive calculation\n",
        "\n",
        "def single_core(data):\n",
        "    return process_chunk(data)\n",
        "\n",
        "def multi_core(data, workers=os.cpu_count()):\n",
        "    chunk_size = len(data) // workers\n",
        "    with Pool(workers) as p:\n",
        "        chunks = [data[i*chunk_size:(i+1)*chunk_size] for i in range(workers)]\n",
        "        return sum(p.map(process_chunk, chunks))\n",
        "\n",
        "# Benchmark\n",
        "data = np.linspace(0, 100, 10_0000)\n",
        "\n",
        "%timeit single_core(data)  # ~3.2s\n",
        "%timeit multi_core(data)   # ~0.9s (3.5x faster on 4 cores)"
      ],
      "metadata": {
        "id": "LmjqNnBVBYyX"
      },
      "execution_count": null,
      "outputs": []
    },
    {
      "cell_type": "markdown",
      "source": [
        "## Why multiprocessing did not help? Lets investigate"
      ],
      "metadata": {
        "id": "i3hf8n_MaO7R"
      }
    },
    {
      "cell_type": "code",
      "source": [
        "!pip install multiprocess\n",
        "import time\n",
        "import numpy as np\n",
        "from multiprocess import Pool\n",
        "import os\n",
        "\n",
        "def process_chunk(data):\n",
        "    return sum(1 / (1 + x**2) for x in data)  # CPU-intensive calculation\n",
        "\n",
        "def single_core(data):\n",
        "    return process_chunk(data)\n",
        "\n",
        "\n",
        "def multi_core(data, workers=os.cpu_count()):\n",
        "    chunk_size = len(data) // workers\n",
        "    start_split = time.time()\n",
        "    chunks = [data[i*chunk_size:(i+1)*chunk_size] for i in range(workers)]\n",
        "\n",
        "    split_time = time.time() - start_split\n",
        "\n",
        "    start_pool = time.time()\n",
        "    with Pool(workers) as p:\n",
        "        pool_creation_time = time.time() - start_pool\n",
        "\n",
        "        start_map = time.time()\n",
        "        results = p.map(process_chunk, chunks)#process_chunk(data)#process_chunk(chunks[0])#p.map(process_chunk, chunks)\n",
        "        map_time = time.time() - start_map\n",
        "\n",
        "        start_sum = time.time()\n",
        "        total = sum(results)\n",
        "        #total = results\n",
        "        sum_time = time.time() - start_sum\n",
        "\n",
        "    print(f\"Data split time: {split_time:.2f}s\")\n",
        "    print(f\"Pool creation time: {pool_creation_time:.2f}s\")\n",
        "    print(f\"Map time (processing): {map_time:.2f}s\")\n",
        "    print(f\"Result sum time: {sum_time:.2f}s\")\n",
        "    return total\n",
        "\n",
        "\n",
        "# Benchmark\n",
        "data = np.linspace(0, 100, 10000)\n",
        "print(\"Number of CPU cores available: \", os.cpu_count())\n",
        "single_core_start_time = time.time()\n",
        "single_core_result = single_core(data)\n",
        "single_core_end_time = time.time()\n",
        "print(f\"Single-core result: {single_core_result}\")\n",
        "print(f\"Single-core execution time: {single_core_end_time - single_core_start_time:.2f}s\")\n",
        "multi_core_start_time = time.time()\n",
        "multi_core_result = multi_core(data)\n",
        "multi_core_end_time = time.time()\n",
        "print(f\"Multi-core result: {multi_core_result}\")\n",
        "print(f\"Multi-core execution time: {multi_core_end_time - multi_core_start_time:.2f}s\")"
      ],
      "metadata": {
        "colab": {
          "base_uri": "https://localhost:8080/"
        },
        "id": "MaBdgsyjaVLo",
        "outputId": "d599c523-fc71-4c26-ae46-a071d1e03354"
      },
      "execution_count": null,
      "outputs": [
        {
          "output_type": "stream",
          "name": "stdout",
          "text": [
            "Collecting multiprocess\n",
            "  Downloading multiprocess-0.70.17-py311-none-any.whl.metadata (7.2 kB)\n",
            "Collecting dill>=0.3.9 (from multiprocess)\n",
            "  Downloading dill-0.3.9-py3-none-any.whl.metadata (10 kB)\n",
            "Downloading multiprocess-0.70.17-py311-none-any.whl (144 kB)\n",
            "\u001b[2K   \u001b[90m━━━━━━━━━━━━━━━━━━━━━━━━━━━━━━━━━━━━━━━━\u001b[0m \u001b[32m144.3/144.3 kB\u001b[0m \u001b[31m3.5 MB/s\u001b[0m eta \u001b[36m0:00:00\u001b[0m\n",
            "\u001b[?25hDownloading dill-0.3.9-py3-none-any.whl (119 kB)\n",
            "\u001b[2K   \u001b[90m━━━━━━━━━━━━━━━━━━━━━━━━━━━━━━━━━━━━━━━━\u001b[0m \u001b[32m119.4/119.4 kB\u001b[0m \u001b[31m4.0 MB/s\u001b[0m eta \u001b[36m0:00:00\u001b[0m\n",
            "\u001b[?25hInstalling collected packages: dill, multiprocess\n",
            "Successfully installed dill-0.3.9 multiprocess-0.70.17\n",
            "Number of CPU cores available:  2\n",
            "Single-core result: 156.56410803755548\n",
            "Single-core execution time: 0.04s\n",
            "Data split time: 0.00s\n",
            "Pool creation time: 0.11s\n",
            "Map time (processing): 0.04s\n",
            "Result sum time: 0.00s\n",
            "Multi-core result: 156.56410803755557\n",
            "Multi-core execution time: 0.19s\n"
          ]
        }
      ]
    },
    {
      "cell_type": "markdown",
      "source": [
        "### So, the pool-time (0.02s, constant) and mapping time (dominant for large N) are the bottlenecks!!"
      ],
      "metadata": {
        "id": "MJgExsSmz1gY"
      }
    },
    {
      "cell_type": "markdown",
      "source": [
        "## Whether removing data serialization (or using shared data-structure) help? YES."
      ],
      "metadata": {
        "id": "QNnIIlG0du_f"
      }
    },
    {
      "cell_type": "code",
      "source": [
        "!pip install multiprocess\n",
        "import time\n",
        "import numpy as np\n",
        "from multiprocess import Pool\n",
        "from multiprocess.sharedctypes import RawArray\n",
        "import ctypes\n",
        "import os\n",
        "\n",
        "# Shared memory setup\n",
        "data_shared = None\n",
        "np_data = None\n",
        "\n",
        "def init_shared_data(data):\n",
        "    global data_shared, np_data\n",
        "    data_shared = RawArray(ctypes.c_double, len(data))\n",
        "    np_data = np.frombuffer(data_shared, dtype=np.float64)\n",
        "    np_data[:] = data\n",
        "\n",
        "def process_chunk(args):\n",
        "    start, end = args\n",
        "    chunk = np.frombuffer(data_shared, dtype=np.float64)[start:end]\n",
        "    #return np.sum(1 / (1 + chunk**2))\n",
        "    return sum(1 / (1 + x**2) for x in chunk)  # CPU-intensive calculation\n",
        "\n",
        "def single_core(_=None):\n",
        "    return process_chunk((0, len(np_data)))\n",
        "\n",
        "def multi_core(_=None, workers=os.cpu_count()):\n",
        "    data_length = len(np_data)\n",
        "    chunk_size = data_length // workers\n",
        "\n",
        "    # Create chunk indices\n",
        "    chunks = [(i*chunk_size, (i+1)*chunk_size) for i in range(workers)]\n",
        "    # Handle residual elements\n",
        "    if data_length % workers != 0:\n",
        "        chunks[-1] = (chunks[-1][0], data_length)\n",
        "    pool_start_time = time.time()\n",
        "    with Pool(workers) as p:\n",
        "        pool_end_time = time.time()\n",
        "        print(f\"Pool creation time: {pool_end_time - pool_start_time:.2f}s\")\n",
        "        map_start_time = time.time()\n",
        "        results = p.map(process_chunk, chunks)\n",
        "        map_end_time = time.time()\n",
        "        print(f\"Map time (processing): {map_end_time - map_start_time:.2f}s\")\n",
        "    return sum(results), map_end_time - map_start_time\n",
        "\n",
        "# Benchmark\n",
        "if __name__ == \"__main__\":\n",
        "    data = np.linspace(0, 100, 10_0000000).astype(np.float64)\n",
        "    init_shared_data(data)\n",
        "\n",
        "    print(f\"Number of CPU cores: {os.cpu_count()}\")\n",
        "\n",
        "    # Single-core benchmark\n",
        "    start = time.time()\n",
        "    sc_result = single_core()\n",
        "    sc_time = time.time() - start\n",
        "    print(f\"Single-core time: {sc_time:.2f}s, Result: {sc_result:.6f}\")\n",
        "\n",
        "    # Multi-core benchmark\n",
        "    start = time.time()\n",
        "    mc_result, mc_time = multi_core()\n",
        "    mc_time = time.time() - start\n",
        "    print(f\"Multi-core total time: {mc_time}s, Result: {mc_result:.6f}\")\n",
        "    print(f\"SC TIME: {sc_time:.4f}s, MC time: {mc_time:.4f}s\")\n",
        "    print(f\"Multicore speedup = {(sc_time / mc_time):.4f}x\")\n"
      ],
      "metadata": {
        "colab": {
          "base_uri": "https://localhost:8080/"
        },
        "id": "RPW_O-6XdG9w",
        "outputId": "8d6f54c6-423a-42cb-85b1-fdd52003c5ff"
      },
      "execution_count": null,
      "outputs": [
        {
          "output_type": "stream",
          "name": "stdout",
          "text": [
            "Requirement already satisfied: multiprocess in /usr/local/lib/python3.11/dist-packages (0.70.17)\n",
            "Requirement already satisfied: dill>=0.3.9 in /usr/local/lib/python3.11/dist-packages (from multiprocess) (0.3.9)\n",
            "Number of CPU cores: 2\n",
            "Single-core time: 2.56s, Result: 1560797.144550\n",
            "Pool creation time: 0.10s\n",
            "Map time (processing): 1.25s\n",
            "Multi-core total time: 1.3755772113800049s, Result: 1560797.144550\n",
            "SC TIME: 2.5557s, MC time: 1.3756s\n",
            "Multicore speedup = 1.8579x\n"
          ]
        }
      ]
    },
    {
      "cell_type": "markdown",
      "source": [
        "## So, the issue seems to be with how colab handles multiprocessing workloads?\n",
        "1. Parent process has better SLA wrt. child processes? (single_core does not seem to get context switched as badly as multi_core). SEE LOGS BELOW.\n",
        "2. The same code runs and shows speedup on a MeghVM."
      ],
      "metadata": {
        "id": "C3vUO5iq63g_"
      }
    },
    {
      "cell_type": "code",
      "source": [
        "!pip install multiprocess\n",
        "import time\n",
        "import numpy as np\n",
        "from multiprocess import Pool\n",
        "from multiprocess.sharedctypes import RawArray\n",
        "import ctypes\n",
        "import os\n",
        "\n",
        "# Shared memory setup\n",
        "data_shared = None\n",
        "np_data = None\n",
        "\n",
        "def init_shared_data(data):\n",
        "    global data_shared, np_data\n",
        "    data_shared = RawArray(ctypes.c_double, len(data))\n",
        "    np_data = np.frombuffer(data_shared, dtype=np.float64)\n",
        "    np_data[:] = data\n",
        "\n",
        "\n",
        "\n",
        "\n",
        "import os\n",
        "import time\n",
        "\n",
        "def get_context_switches(pid):\n",
        "    try:\n",
        "        with open(f\"/proc/{pid}/status\", \"r\") as f:\n",
        "            lines = f.readlines()\n",
        "            vol = nonvol = 0\n",
        "            for line in lines:\n",
        "                if \"voluntary_ctxt_switches\" in line:\n",
        "                    vol = int(line.split()[1])\n",
        "                if \"nonvoluntary_ctxt_switches\" in line:\n",
        "                    nonvol = int(line.split()[1])\n",
        "            return vol, nonvol\n",
        "    except Exception as e:\n",
        "        print(f\"Error reading /proc/{pid}/status: {e}\")\n",
        "        return 0, 0\n",
        "\n",
        "def process_chunk(args):\n",
        "    start, end = args\n",
        "    chunk = np_data[start:end]\n",
        "    pid = os.getpid()\n",
        "    start_time = time.time()\n",
        "    print(f\"Process {pid} starting chunk {start}-{end} at {start_time}\\n\")\n",
        "    print(f\"The size of chunk is: {len(chunk)}\\n\")\n",
        "\n",
        "    # Before the loop\n",
        "    before_vol, before_nonvol = get_context_switches(pid)\n",
        "    cpu_start = time.process_time()\n",
        "    wall_start = time.time()\n",
        "\n",
        "    # The loop\n",
        "    result = sum(1 / (1 + x**12) for x in chunk)\n",
        "\n",
        "    # After the loop\n",
        "    cpu_end = time.process_time()\n",
        "    wall_end = time.time()\n",
        "    after_vol, after_nonvol = get_context_switches(pid)\n",
        "\n",
        "    # Calculate metrics\n",
        "    cpu_time = cpu_end - cpu_start\n",
        "    wall_time = wall_end - wall_start\n",
        "    waiting_time = wall_time - cpu_time\n",
        "    voluntary_cs = after_vol - before_vol\n",
        "    involuntary_cs = after_nonvol - before_nonvol\n",
        "\n",
        "    end_time = time.time()\n",
        "    print(f\"Process {pid} finished chunk {start}-{end} at {end_time}, \"\n",
        "          f\"Loop CPU time: {cpu_time:.2f}s, Loop wall time: {wall_time:.2f}s, \"\n",
        "          f\"Waiting time: {waiting_time:.2f}s\\n\")\n",
        "    print(f\"Context switches during loop - Voluntary: {voluntary_cs}, Involuntary: {involuntary_cs}\\n\")\n",
        "    print(f\"Total execution time: {end_time - start_time:.2f}s\\n\")\n",
        "\n",
        "    return result\n",
        "\n",
        "\n",
        "\n",
        "def single_core(_=None):\n",
        "    return process_chunk((0, len(np_data)))\n",
        "\n",
        "def multi_core(_=None, workers=os.cpu_count()):\n",
        "    data_length = len(np_data)\n",
        "    chunk_size = data_length // workers\n",
        "    chunks = [(i*chunk_size, (i+1)*chunk_size) for i in range(workers)]\n",
        "    if data_length % workers != 0:\n",
        "        chunks[-1] = (chunks[-1][0], data_length)\n",
        "\n",
        "    with Pool(workers) as p:\n",
        "        map_start_time = time.time()\n",
        "        results = p.map(process_chunk, chunks)\n",
        "        #print(\"Result array after mapping: \", results)\n",
        "        map_end_time = time.time()\n",
        "        print(f\"Map time (processing): {map_end_time - map_start_time:.2f}s\\n\")\n",
        "    return sum(results), map_end_time - map_start_time\n",
        "\n",
        "if __name__ == \"__main__\":\n",
        "    data = np.linspace(0, 100, 10_00000000).astype(np.float64)\n",
        "    init_shared_data(data)\n",
        "\n",
        "    print(f\"Number of CPU cores: {os.cpu_count()}\")\n",
        "\n",
        "    # Single-core benchmark\n",
        "    start = time.time()\n",
        "    sc_result = single_core()\n",
        "    sc_time = time.time() - start\n",
        "    print(f\"Single-core time: {sc_time:.2f}s, Result: {sc_result:.6f}\")\n",
        "\n",
        "    # Multi-core benchmark\n",
        "    start = time.time()\n",
        "    mc_result, mc_time = multi_core()\n",
        "    total_mc_time = time.time() - start\n",
        "    print(f\"Multi-core total time: {total_mc_time:.2f}s, Result: {mc_result:.6f}\")\n",
        "    print(f\"SC TIME: {sc_time:.4f}s, MC time: {total_mc_time:.4f}s\")\n",
        "    print(f\"Multicore speedup = {(sc_time / total_mc_time):.4f}x\")"
      ],
      "metadata": {
        "colab": {
          "base_uri": "https://localhost:8080/"
        },
        "id": "DdNocQ9EmNav",
        "outputId": "3a63d9e2-593a-4757-a20b-3b179a23fbf1"
      },
      "execution_count": null,
      "outputs": [
        {
          "output_type": "stream",
          "name": "stdout",
          "text": [
            "Requirement already satisfied: multiprocess in /usr/local/lib/python3.11/dist-packages (0.70.17)\n",
            "Requirement already satisfied: dill>=0.3.9 in /usr/local/lib/python3.11/dist-packages (from multiprocess) (0.3.9)\n"
          ]
        }
      ]
    },
    {
      "cell_type": "markdown",
      "source": [
        "## So, with multiprocessing total runtime is is = pool-time + map-time + max. context switch time across child-process + context switch time across pool, map and sum operations!!"
      ],
      "metadata": {
        "id": "zccgTpsrB77l"
      }
    },
    {
      "cell_type": "markdown",
      "source": [
        "## Further, how to address memory limitations of that random.random 2D matrix when using vectorization?"
      ],
      "metadata": {
        "id": "-iebccQsIcP_"
      }
    },
    {
      "cell_type": "markdown",
      "source": [
        "## A batched vectorized monte-carlo for neutron absorption using multi-processing:"
      ],
      "metadata": {
        "id": "TTRK7YvbPQEA"
      }
    },
    {
      "cell_type": "code",
      "source": [
        "import time\n",
        "import numpy as np\n",
        "from multiprocess import Pool\n",
        "import os\n",
        "\n",
        "def get_context_switches(pid):\n",
        "    try:\n",
        "        with open(f\"/proc/{pid}/status\", \"r\") as f:\n",
        "            lines = f.readlines()\n",
        "            vol = nonvol = 0\n",
        "            for line in lines:\n",
        "                if \"voluntary_ctxt_switches\" in line:\n",
        "                    vol = int(line.split()[1])\n",
        "                if \"nonvoluntary_ctxt_switches\" in line:\n",
        "                    nonvol = int(line.split()[1])\n",
        "            return vol, nonvol\n",
        "    except Exception as e:\n",
        "        print(f\"Error reading /proc/{pid}/status: {e}\")\n",
        "        return 0, 0\n",
        "\n",
        "def process_chunk(args):\n",
        "    start, end, max_steps, p_abs, batch_size = args\n",
        "    pid = os.getpid()\n",
        "    start_time = time.time()\n",
        "    print(f\"Process {pid} starting chunk {start}-{end} at {start_time}\")\n",
        "\n",
        "    before_vol, before_nonvol = get_context_switches(pid)\n",
        "    cpu_start = time.process_time()\n",
        "    wall_start = time.time()\n",
        "\n",
        "    absorbed = 0\n",
        "    # Process in memory-friendly batches\n",
        "    for batch_start in range(start, end, batch_size):\n",
        "        batch_end = min(batch_start + batch_size, end)\n",
        "        num_neutrons = batch_end - batch_start\n",
        "\n",
        "        # Generate random numbers for this batch\n",
        "        steps = np.random.rand(num_neutrons, max_steps)\n",
        "        absorbed += np.any(steps < p_abs, axis=1).sum()\n",
        "\n",
        "    cpu_end = time.process_time()\n",
        "    wall_end = time.time()\n",
        "    after_vol, after_nonvol = get_context_switches(pid)\n",
        "\n",
        "    cpu_time = cpu_end - cpu_start\n",
        "    wall_time = wall_end - wall_start\n",
        "    waiting_time = wall_time - cpu_time\n",
        "    voluntary_cs = after_vol - before_vol\n",
        "    involuntary_cs = after_nonvol - before_nonvol\n",
        "\n",
        "    print(f\"Process {pid} finished chunk {start}-{end} at {time.time()}, \"\n",
        "          f\"CPU: {cpu_time:.2f}s, Wall: {wall_time:.2f}s, \"\n",
        "          f\"Waiting: {waiting_time:.2f}s\")\n",
        "    print(f\"Context switches - Voluntary: {voluntary_cs}, Involuntary: {involuntary_cs}\")\n",
        "\n",
        "    return absorbed\n",
        "\n",
        "def single_core(N, max_steps, p_abs, batch_size=10_000):\n",
        "    return process_chunk((0, N, max_steps, p_abs, batch_size))\n",
        "\n",
        "def multi_core(N, max_steps, p_abs, workers=os.cpu_count(), batch_size=10_000):\n",
        "    chunk_size = N // workers\n",
        "    chunks = []\n",
        "    for i in range(workers):\n",
        "        start = i * chunk_size\n",
        "        end = (i+1)*chunk_size if i != workers-1 else N\n",
        "        chunks.append((start, end, max_steps, p_abs, batch_size))\n",
        "\n",
        "    with Pool(workers) as p:\n",
        "        results = p.map(process_chunk, chunks)\n",
        "    return sum(results)\n",
        "\n",
        "if __name__ == \"__main__\":\n",
        "    # Configuration - adjust these as needed\n",
        "    N = 10_000_000    # Number of neutrons\n",
        "    MAX_STEPS = 100       # Maximum steps per neutron\n",
        "    P_ABS = 0.01          # Absorption probability\n",
        "    BATCH_SIZE = 50_000   # Neutrons per batch (adjust based on memory)\n",
        "    WORKERS = os.cpu_count()\n",
        "\n",
        "    print(f\"Simulating {N} neutrons with {MAX_STEPS} steps each\")\n",
        "\n",
        "    # Single-core\n",
        "    start = time.time()\n",
        "    sc_absorbed = single_core(N, MAX_STEPS, P_ABS, BATCH_SIZE)\n",
        "    sc_time = time.time() - start\n",
        "    print(f\"Single-core: {sc_time:.2f}s, Absorbed: {sc_absorbed}\")\n",
        "\n",
        "    # Multi-core\n",
        "    start = time.time()\n",
        "    mc_absorbed = multi_core(N, MAX_STEPS, P_ABS, WORKERS, BATCH_SIZE)\n",
        "    mc_time = time.time() - start\n",
        "    print(f\"Multi-core: {mc_time:.2f}s, Absorbed: {mc_absorbed}\")\n",
        "    print(f\"Speedup: {sc_time/mc_time:.2f}x\")\n"
      ],
      "metadata": {
        "colab": {
          "base_uri": "https://localhost:8080/"
        },
        "id": "RfQ2rIyfIoIw",
        "outputId": "a6fd979f-a7ec-46c2-b21a-8b71e044ec1f"
      },
      "execution_count": null,
      "outputs": [
        {
          "output_type": "stream",
          "name": "stdout",
          "text": [
            "Simulating 10000000 neutrons with 100 steps each\n",
            "Process 12964 starting chunk 0-10000000 at 1744196110.5782423\n",
            "Process 12964 finished chunk 0-10000000 at 1744196120.9541175, CPU: 10.36s, Wall: 10.38s, Waiting: 0.02s\n",
            "Context switches - Voluntary: 691, Involuntary: 691\n",
            "Single-core: 10.38s, Absorbed: 6340422\n",
            "Process 19053 starting chunk 0-5000000 at 1744196120.9856107Process 19054 starting chunk 5000000-10000000 at 1744196120.9909613\n",
            "\n",
            "Process 19054 finished chunk 5000000-10000000 at 1744196129.0359251, CPU: 7.73s, Wall: 8.03s, Waiting: 0.30s\n",
            "Context switches - Voluntary: 1029, Involuntary: 1029\n",
            "Process 19053 finished chunk 0-5000000 at 1744196129.0617988, CPU: 7.73s, Wall: 8.06s, Waiting: 0.33s\n",
            "Context switches - Voluntary: 2060, Involuntary: 2060\n",
            "Multi-core: 8.12s, Absorbed: 6340156\n",
            "Speedup: 1.28x\n"
          ]
        }
      ]
    },
    {
      "cell_type": "markdown",
      "source": [
        "## Can multi-threading speedup this thing even beyond multi-processing? YES\n",
        "1. It has considerably lower overheads than multiprocessing."
      ],
      "metadata": {
        "id": "EfVKPGX4MdSD"
      }
    },
    {
      "cell_type": "markdown",
      "source": [
        "## A batched-vectorized monte-carlo implentation for neutron absorption using multithreading"
      ],
      "metadata": {
        "id": "pdosgvliPFYr"
      }
    },
    {
      "cell_type": "code",
      "source": [
        "import time\n",
        "import numpy as np\n",
        "import os\n",
        "import threading\n",
        "from concurrent.futures import ThreadPoolExecutor\n",
        "\n",
        "# Thread-local storage for random number generators\n",
        "thread_local = threading.local()\n",
        "\n",
        "def init_worker(base_seed):\n",
        "    \"\"\"Initialize thread-local RNG with unique seed\"\"\"\n",
        "    tid = threading.get_ident()\n",
        "    thread_local.rng = np.random.default_rng(seed=base_seed + tid)\n",
        "\n",
        "def get_context_switches():\n",
        "    \"\"\"Get context switches for current thread\"\"\"\n",
        "    try:\n",
        "        tid = os.getpid()  # Get thread ID (Linux-specific)\n",
        "        with open(f\"/proc/self/task/{tid}/status\", \"r\") as f:\n",
        "            vol = nonvol = 0\n",
        "            for line in f:\n",
        "                if line.startswith('voluntary_ctxt_switches'):\n",
        "                    vol = int(line.split()[1])\n",
        "                elif line.startswith('nonvoluntary_ctxt_switches'):\n",
        "                    nonvol = int(line.split()[1])\n",
        "            return vol, nonvol\n",
        "    except Exception as e:\n",
        "        print(f\"Error reading context switches: {e}\")\n",
        "        return 0, 0\n",
        "\n",
        "\n",
        "def get_context_switches_single_core(pid):\n",
        "    try:\n",
        "        with open(f\"/proc/{pid}/status\", \"r\") as f:\n",
        "            lines = f.readlines()\n",
        "            vol = nonvol = 0\n",
        "            for line in lines:\n",
        "                if \"voluntary_ctxt_switches\" in line:\n",
        "                    vol = int(line.split()[1])\n",
        "                if \"nonvoluntary_ctxt_switches\" in line:\n",
        "                    nonvol = int(line.split()[1])\n",
        "            return vol, nonvol\n",
        "    except Exception as e:\n",
        "        print(f\"Error reading /proc/{pid}/status: {e}\")\n",
        "        return 0, 0\n",
        "\n",
        "def process_chunk_single_core(args):\n",
        "    start, end, max_steps, p_abs, batch_size = args\n",
        "    pid = os.getpid()\n",
        "    start_time = time.time()\n",
        "    print(f\"Process {pid} starting chunk {start}-{end} at {start_time}\")\n",
        "\n",
        "    before_vol, before_nonvol = get_context_switches_single_core(pid)\n",
        "    cpu_start = time.process_time()\n",
        "    wall_start = time.time()\n",
        "\n",
        "    absorbed = 0\n",
        "    # Process in memory-friendly batches\n",
        "    for batch_start in range(start, end, batch_size):\n",
        "        batch_end = min(batch_start + batch_size, end)\n",
        "        num_neutrons = batch_end - batch_start\n",
        "\n",
        "        # Generate random numbers for this batch\n",
        "        steps = np.random.rand(num_neutrons, max_steps)\n",
        "        absorbed += np.any(steps < p_abs, axis=1).sum()\n",
        "\n",
        "    cpu_end = time.process_time()\n",
        "    wall_end = time.time()\n",
        "    after_vol, after_nonvol = get_context_switches_single_core(pid)\n",
        "\n",
        "    cpu_time = cpu_end - cpu_start\n",
        "    wall_time = wall_end - wall_start\n",
        "    waiting_time = wall_time - cpu_time\n",
        "    voluntary_cs = after_vol - before_vol\n",
        "    involuntary_cs = after_nonvol - before_nonvol\n",
        "\n",
        "    print(f\"Process {pid} finished chunk {start}-{end} at {time.time()}, \"\n",
        "          f\"CPU: {cpu_time:.2f}s, Wall: {wall_time:.2f}s, \"\n",
        "          f\"Waiting: {waiting_time:.2f}s\")\n",
        "    print(f\"Context switches - Voluntary: {voluntary_cs}, Involuntary: {involuntary_cs}\")\n",
        "\n",
        "    return absorbed\n",
        "\n",
        "\n",
        "\n",
        "def process_chunk(args):\n",
        "    start, end, max_steps, p_abs, batch_size = args\n",
        "    pid = os.getpid()\n",
        "    tid = threading.get_ident()\n",
        "    start_time = time.time()\n",
        "    print(f\"Thread {tid} processing {end-start} neutrons [{start}-{end}]\")\n",
        "\n",
        "    # Get thread-local RNG\n",
        "    rng = thread_local.rng\n",
        "\n",
        "    before_vol, before_nonvol = get_context_switches()\n",
        "    cpu_start = time.process_time()\n",
        "    wall_start = time.time()\n",
        "\n",
        "    absorbed = 0\n",
        "    # Process in memory-friendly batches\n",
        "    for batch_start in range(start, end, batch_size):\n",
        "        batch_end = min(batch_start + batch_size, end)\n",
        "        num_neutrons = batch_end - batch_start\n",
        "\n",
        "        # Generate random numbers using thread-local RNG\n",
        "        steps = rng.random((num_neutrons, max_steps))\n",
        "        absorbed += np.any(steps < p_abs, axis=1).sum()\n",
        "\n",
        "    cpu_end = time.process_time()\n",
        "    wall_end = time.time()\n",
        "    after_vol, after_nonvol = get_context_switches()\n",
        "\n",
        "    # Calculate metrics\n",
        "    cpu_time = cpu_end - cpu_start\n",
        "    wall_time = wall_end - wall_start\n",
        "    waiting_time = wall_time - cpu_time\n",
        "    voluntary_cs = after_vol - before_vol\n",
        "    involuntary_cs = after_nonvol - before_nonvol\n",
        "\n",
        "    print(f\"Thread {tid} completed: \"\n",
        "          f\"{cpu_time:.2f}s CPU, {wall_time:.2f}s wall, \"\n",
        "          f\"{waiting_time:.2f}s waiting\\n\"\n",
        "          f\"Context switches: {voluntary_cs} voluntary, \"\n",
        "          f\"{involuntary_cs} involuntary\")\n",
        "\n",
        "    return absorbed\n",
        "\n",
        "def single_core(N, max_steps, p_abs, batch_size=10_000):\n",
        "    \"\"\"Single-threaded version for comparison\"\"\"\n",
        "    return process_chunk_single_core((0, N, max_steps, p_abs, batch_size))\n",
        "\n",
        "def multi_core(N, max_steps, p_abs, workers=os.cpu_count(), batch_size=10_000, base_seed=None):\n",
        "    \"\"\"Multi-threaded version using ThreadPoolExecutor\"\"\"\n",
        "    if base_seed is None:\n",
        "        base_seed = np.random.SeedSequence().entropy\n",
        "\n",
        "    chunk_size = N // workers\n",
        "    chunks = [\n",
        "        (i * chunk_size,\n",
        "         (i+1)*chunk_size if i != workers-1 else N,\n",
        "         max_steps, p_abs, batch_size)\n",
        "        for i in range(workers)\n",
        "    ]\n",
        "\n",
        "    with ThreadPoolExecutor(\n",
        "        max_workers=workers,\n",
        "        initializer=init_worker,\n",
        "        initargs=(base_seed,)\n",
        "    ) as executor:\n",
        "        results = list(executor.map(process_chunk, chunks))\n",
        "\n",
        "    return sum(results)\n",
        "\n",
        "if __name__ == \"__main__\":\n",
        "    # Configuration\n",
        "    N = 10_000_000   # 10 billion neutrons\n",
        "    MAX_STEPS = 100       # Maximum steps per neutron\n",
        "    P_ABS = 0.01          # Absorption probability\n",
        "    BATCH_SIZE = 50_000  # Neurons per batch\n",
        "    WORKERS = os.cpu_count()  # Use all available cores\n",
        "    BASE_SEED = 12345      # For reproducibility\n",
        "\n",
        "    print(f\"Simulating {N} neutrons with {MAX_STEPS} steps each\")\n",
        "    print(f\"Using {WORKERS} threads with batch size {BATCH_SIZE}\\n\")\n",
        "\n",
        "    # Initialize main thread's RNG\n",
        "    init_worker(BASE_SEED)\n",
        "\n",
        "    # Single-threaded\n",
        "    start = time.time()\n",
        "    sc_absorbed = single_core(N, MAX_STEPS, P_ABS)  # Small test\n",
        "    sc_time = time.time() - start\n",
        "    print(f\"\\nSingle-thread result: {sc_absorbed} ({(sc_time):.2f}s)\\n\")\n",
        "\n",
        "    # Multi-threaded\n",
        "    start = time.time()\n",
        "    mc_absorbed = multi_core(N, MAX_STEPS, P_ABS, WORKERS, BATCH_SIZE, BASE_SEED)\n",
        "    mc_time = time.time() - start\n",
        "    print(f\"\\nMulti-thread result: {mc_absorbed} ({(mc_time):.2f}s)\")\n",
        "    print(f\"Speedup: {(sc_time / mc_time) if sc_time else 0:.2f}x\")"
      ],
      "metadata": {
        "colab": {
          "base_uri": "https://localhost:8080/"
        },
        "id": "hOJjsn3QMlIK",
        "outputId": "3d28ebce-29cb-439f-e888-79e27df26b0b"
      },
      "execution_count": 19,
      "outputs": [
        {
          "output_type": "stream",
          "name": "stdout",
          "text": [
            "Simulating 10000000 neutrons with 100 steps each\n",
            "Using 2 threads with batch size 50000\n",
            "\n",
            "Process 769 starting chunk 0-10000000 at 1744358704.2098186\n",
            "Process 769 finished chunk 0-10000000 at 1744358712.7234864, CPU: 8.49s, Wall: 8.51s, Waiting: 0.03s\n",
            "Context switches - Voluntary: 360, Involuntary: 360\n",
            "\n",
            "Single-thread result: 6342908 (8.51s)\n",
            "\n",
            "Thread 137500889695808 processing 5000000 neutrons [0-5000000]\n",
            "Thread 137500864513600 processing 5000000 neutrons [5000000-10000000]\n",
            "Thread 137500889695808 completed: 9.35s CPU, 5.78s wall, -3.57s waiting\n",
            "Context switches: 0 voluntary, 0 involuntary\n",
            "Thread 137500864513600 completed: 9.45s CPU, 5.88s wall, -3.57s waiting\n",
            "Context switches: 3 voluntary, 0 involuntary\n",
            "\n",
            "Multi-thread result: 6340838 (5.88s)\n",
            "Speedup: 1.45x\n"
          ]
        }
      ]
    },
    {
      "cell_type": "markdown",
      "source": [
        "## Massive runtime savings (100x over multi-processing) with Multi-threading, WHY?\n",
        "1. Addressing pool-runtime"
      ],
      "metadata": {
        "id": "uynHbNHizWCp"
      }
    },
    {
      "cell_type": "markdown",
      "source": [
        "## Putting it all together: Serial vs Multithreading vs Multiprocessing"
      ],
      "metadata": {
        "id": "hM34zFqE-x_D"
      }
    },
    {
      "cell_type": "code",
      "source": [
        "import time\n",
        "import numpy as np\n",
        "import matplotlib.pyplot as plt\n",
        "from concurrent.futures import ThreadPoolExecutor\n",
        "from multiprocessing import Pool, shared_memory\n",
        "import ctypes\n",
        "\n",
        "def process_chunk(args):\n",
        "    start, end, shm_name = args\n",
        "    shm = shared_memory.SharedMemory(name=shm_name)\n",
        "    data = np.ndarray((len(np.frombuffer(shm.buf, dtype=np.float64))), dtype=np.float64, buffer=shm.buf)\n",
        "    return np.sum(1 / (1 + data[start:end]**2))\n",
        "\n",
        "def process_chunk_thread(args):\n",
        "    start, end, data = args\n",
        "    return np.sum(1 / (1 + data[start:end]**2))\n",
        "\n",
        "def serial_benchmark(data):\n",
        "    start = time.time()\n",
        "    result = np.sum(1 / (1 + data**2))\n",
        "    return result, time.time() - start\n",
        "\n",
        "def threading_benchmark(data, workers):\n",
        "    chunk_size = len(data) // workers\n",
        "    chunks = [(i*chunk_size, (i+1)*chunk_size, data) for i in range(workers)]\n",
        "    if len(data) % workers != 0:\n",
        "        chunks[-1] = (chunks[-1][0], len(data), data)\n",
        "\n",
        "    start = time.time()\n",
        "    with ThreadPoolExecutor(max_workers=workers) as executor:\n",
        "        results = list(executor.map(process_chunk_thread, chunks))\n",
        "    return sum(results), time.time() - start\n",
        "\n",
        "def multiprocessing_benchmark(data, workers):\n",
        "    shm = shared_memory.SharedMemory(create=True, size=data.nbytes)\n",
        "    shm_data = np.ndarray(data.shape, dtype=data.dtype, buffer=shm.buf)\n",
        "    shm_data[:] = data\n",
        "\n",
        "    chunk_size = len(data) // workers\n",
        "    chunks = [(i*chunk_size, (i+1)*chunk_size, shm.name) for i in range(workers)]\n",
        "    if len(data) % workers != 0:\n",
        "        chunks[-1] = (chunks[-1][0], len(data), shm.name)\n",
        "\n",
        "    start = time.time()\n",
        "    with Pool(workers) as pool:\n",
        "        results = pool.map(process_chunk, chunks)\n",
        "    end_time = time.time()\n",
        "\n",
        "    shm.close()\n",
        "    shm.unlink()  # Clean up shared memory\n",
        "\n",
        "    return sum(results), end_time - start\n",
        "\n",
        "def benchmark_suite():\n",
        "    workers = 2  # For 2-core machine\n",
        "    sizes = [10**2, 10**3, 10**4, 10**5, 10**6, 10**7, 10**8]\n",
        "    serial_times = []\n",
        "    thread_times = []\n",
        "    process_times = []\n",
        "\n",
        "    for size in sizes:\n",
        "        data = np.linspace(0, 100, size).astype(np.float64)\n",
        "\n",
        "\n",
        "        # Serial\n",
        "        _, st = serial_benchmark(data)\n",
        "        serial_times.append(st)\n",
        "\n",
        "        # Threading\n",
        "        _, tt = threading_benchmark(data, workers)\n",
        "        thread_times.append(tt)\n",
        "\n",
        "        # Multiprocessing\n",
        "        _, pt = multiprocessing_benchmark(data, workers)\n",
        "        process_times.append(pt)\n",
        "\n",
        "    return sizes, serial_times, thread_times, process_times\n",
        "\n",
        "def plot_results(sizes, serial, threads, processes):\n",
        "    plt.figure(figsize=(10, 6))\n",
        "    plt.loglog(sizes, serial, 'o-', label='Serial')\n",
        "    plt.loglog(sizes, threads, 's-', label=f'Threading (2 workers)')\n",
        "    plt.loglog(sizes, processes, 'd-', label=f'Multiprocessing (2 workers)')\n",
        "\n",
        "    plt.xlabel('Problem Size (N)')\n",
        "    plt.ylabel('Execution Time (s)')\n",
        "    plt.title('Runtime Comparison by Parallelization Approach')\n",
        "    plt.legend()\n",
        "    plt.grid(True, which='both', linestyle='--')\n",
        "    plt.show()\n",
        "\n",
        "if __name__ == \"__main__\":\n",
        "    sizes, serial, threads, processes = benchmark_suite()\n",
        "    plot_results(sizes, serial, threads, processes)\n"
      ],
      "metadata": {
        "colab": {
          "base_uri": "https://localhost:8080/",
          "height": 569
        },
        "id": "tbb75i9q1v2Q",
        "outputId": "b3656063-d959-448d-f2bf-9a13e5b4b63a"
      },
      "execution_count": 1,
      "outputs": [
        {
          "output_type": "display_data",
          "data": {
            "text/plain": [
              "<Figure size 1000x600 with 1 Axes>"
            ],
            "image/png": "[encoded data removed]"
          },
          "metadata": {}
        }
      ]
    },
    {
      "cell_type": "markdown",
      "source": [
        "## So, Multithreading is ALWAYS better than multiprocessing?"
      ],
      "metadata": {
        "id": "AoLVSxfjbA_C"
      }
    },
    {
      "cell_type": "markdown",
      "source": [
        "### 1. Handicapped multithreading in Python: GIL restriction: Why we get speedup with multithreading at all?"
      ],
      "metadata": {
        "id": "2kbUJJspbVYL"
      }
    },
    {
      "cell_type": "code",
      "source": [
        "import time\n",
        "import multiprocessing\n",
        "from concurrent.futures import ThreadPoolExecutor, ProcessPoolExecutor\n",
        "\n",
        "# Define a CPU-bound function: compute the sum of squares up to n\n",
        "def compute_sum_of_squares(n):\n",
        "    total = 0\n",
        "    for i in range(1, n + 1):\n",
        "        total += i ** 2\n",
        "    return total\n",
        "\n",
        "# Get the number of CPU cores available\n",
        "num_cores = multiprocessing.cpu_count()\n",
        "print(f\"Number of cores available: {num_cores}\")\n",
        "\n",
        "# Set the size of the computation\n",
        "n = 100000000  # 10^8, a large enough value to make the task CPU-intensive\n",
        "\n",
        "# 1. Sequential Execution\n",
        "start_time = time.perf_counter()\n",
        "results_seq = [compute_sum_of_squares(n) for _ in range(num_cores)]\n",
        "seq_time = time.perf_counter() - start_time\n",
        "print(f\"Sequential execution time: {seq_time:.2f} seconds\")\n",
        "\n",
        "# 2. Multi-threading Execution\n",
        "start_time = time.perf_counter()\n",
        "with ThreadPoolExecutor(max_workers=num_cores) as executor:\n",
        "    results_thread = list(executor.map(compute_sum_of_squares, [n // num_cores] * num_cores))\n",
        "thread_time = time.perf_counter() - start_time\n",
        "print(f\"Multi-threading execution time: {thread_time:.2f} seconds\")\n",
        "\n",
        "# 3. Multiprocessing Execution\n",
        "start_time = time.perf_counter()\n",
        "with ProcessPoolExecutor(max_workers=num_cores) as executor:\n",
        "    results_proc = list(executor.map(compute_sum_of_squares, [n // num_cores] * num_cores))\n",
        "proc_time = time.perf_counter() - start_time\n",
        "print(f\"Multiprocessing execution time: {proc_time:.2f} seconds\")"
      ],
      "metadata": {
        "colab": {
          "base_uri": "https://localhost:8080/"
        },
        "id": "9HM9LLVSEMPD",
        "outputId": "8a42d121-1cbb-4a4a-81b9-9cd28541e940"
      },
      "execution_count": 2,
      "outputs": [
        {
          "output_type": "stream",
          "name": "stdout",
          "text": [
            "Number of cores available: 2\n",
            "Sequential execution time: 17.61 seconds\n",
            "Multi-threading execution time: 10.90 seconds\n",
            "Multiprocessing execution time: 10.41 seconds\n"
          ]
        }
      ]
    },
    {
      "cell_type": "markdown",
      "source": [
        "### Lets unleash TRUE multithreading\n",
        "1. Why multiprocessing (finally) wins here over nultithreading? (**TODO...2**)"
      ],
      "metadata": {
        "id": "FpITQYsobb2H"
      }
    },
    {
      "cell_type": "code",
      "source": [
        "%%writefile demo.cpp\n",
        "#include <iostream>\n",
        "#include <thread>\n",
        "#include <vector>\n",
        "#include <chrono>\n",
        "#include <unistd.h>\n",
        "#include <sys/wait.h>\n",
        "\n",
        "// Function to increment a value a specified number of times\n",
        "void increment(double& value, long long times) {\n",
        "    for (long long i = 0; i < times; ++i) {\n",
        "        value += 1.0;\n",
        "    }\n",
        "}\n",
        "\n",
        "// Multi-threading version with false sharing\n",
        "void run_multithreading(long long times) {\n",
        "    // Array with 2 doubles, adjacent in memory (same cache line)\n",
        "    std::vector<double> arr(2, 0.0);\n",
        "\n",
        "    auto start = std::chrono::high_resolution_clock::now();\n",
        "\n",
        "    // Create two threads, each incrementing its own element\n",
        "    std::thread t1(increment, std::ref(arr[0]), times);\n",
        "    std::thread t2(increment, std::ref(arr[1]), times);\n",
        "\n",
        "    t1.join();\n",
        "    t2.join();\n",
        "\n",
        "    auto end = std::chrono::high_resolution_clock::now();\n",
        "    std::chrono::duration<double> duration = end - start;\n",
        "    std::cout << \"Multi-threading time: \" << duration.count() << \" seconds\" << std::endl;\n",
        "}\n",
        "\n",
        "// Multi-processing version with separate memory spaces\n",
        "void run_multiprocessing(long long times) {\n",
        "    auto start = std::chrono::high_resolution_clock::now();\n",
        "\n",
        "    // Fork first child process\n",
        "    pid_t pid1 = fork();\n",
        "    if (pid1 == 0) { // Child 1\n",
        "        double value = 0.0;\n",
        "        increment(value, times);\n",
        "        exit(0);\n",
        "    }\n",
        "\n",
        "    // Fork second child process\n",
        "    pid_t pid2 = fork();\n",
        "    if (pid2 == 0) { // Child 2\n",
        "        double value = 0.0;\n",
        "        increment(value, times);\n",
        "        exit(0);\n",
        "    }\n",
        "\n",
        "    // Parent waits for both children to finish\n",
        "    waitpid(pid1, NULL, 0);\n",
        "    waitpid(pid2, NULL, 0);\n",
        "\n",
        "    auto end = std::chrono::high_resolution_clock::now();\n",
        "    std::chrono::duration<double> duration = end - start;\n",
        "    std::cout << \"Multi-processing time: \" << duration.count() << \" seconds\" << std::endl;\n",
        "}\n",
        "\n",
        "int main() {\n",
        "    const long long times = 1000000000; // 100 million iterations\n",
        "    std::cout << \"Running multi-threading version...\" << std::endl;\n",
        "    run_multithreading(times);\n",
        "    std::cout << \"Running multi-processing version...\" << std::endl;\n",
        "    run_multiprocessing(times);\n",
        "    return 0;\n",
        "}"
      ],
      "metadata": {
        "colab": {
          "base_uri": "https://localhost:8080/"
        },
        "id": "yBn3qTYPcokN",
        "outputId": "390e5a95-17dc-4c4f-cbef-f3d74722a8ec"
      },
      "execution_count": 3,
      "outputs": [
        {
          "output_type": "stream",
          "name": "stdout",
          "text": [
            "Writing demo.cpp\n"
          ]
        }
      ]
    },
    {
      "cell_type": "code",
      "source": [
        "!g++ demo.cpp -o demo -std=c++11 -pthread"
      ],
      "metadata": {
        "id": "YWqXwOa9c1cO"
      },
      "execution_count": 4,
      "outputs": []
    },
    {
      "cell_type": "code",
      "source": [
        "!./demo"
      ],
      "metadata": {
        "colab": {
          "base_uri": "https://localhost:8080/"
        },
        "id": "iXGe1JZQc7Vf",
        "outputId": "79cc2bb0-e52d-4c7b-b140-411b21a9c802"
      },
      "execution_count": 5,
      "outputs": [
        {
          "output_type": "stream",
          "name": "stdout",
          "text": [
            "Running multi-threading version...\n",
            "Multi-threading time: 4.65899 seconds\n",
            "Running multi-processing version...\n",
            "Multi-processing time: 4.63633 seconds\n"
          ]
        }
      ]
    },
    {
      "cell_type": "markdown",
      "source": [
        "## So, How multithreading can go wrong?"
      ],
      "metadata": {
        "id": "C5lMVjLCl5CD"
      }
    },
    {
      "cell_type": "markdown",
      "source": [
        "### 1. GIL limitations"
      ],
      "metadata": {
        "id": "YyrXVR9r1hkL"
      }
    },
    {
      "cell_type": "markdown",
      "source": [
        "### IO-bound task"
      ],
      "metadata": {
        "id": "VZr151FC2KeK"
      }
    },
    {
      "cell_type": "code",
      "source": [
        "import threading\n",
        "import time\n",
        "import urllib.request\n",
        "\n",
        "def download(url):\n",
        "    with urllib.request.urlopen(url) as response:\n",
        "        return response.read()\n",
        "\n",
        "urls = [\"http://example.com\"] * 10\n",
        "\n",
        "# Serial implementation\n",
        "start = time.time()\n",
        "for url in urls:\n",
        "    download(url)\n",
        "print(\"Serial time:\", time.time() - start)\n",
        "\n",
        "# Multi-threaded implementation\n",
        "threads = []\n",
        "start = time.time()\n",
        "for url in urls:\n",
        "    thread = threading.Thread(target=download, args=(url,))\n",
        "    threads.append(thread)\n",
        "    thread.start()\n",
        "for thread in threads:\n",
        "    thread.join()\n",
        "print(\"Multi-threaded time:\", time.time() - start)"
      ],
      "metadata": {
        "id": "JP4b6-bG2JLk"
      },
      "execution_count": null,
      "outputs": []
    },
    {
      "cell_type": "markdown",
      "source": [
        "#### Compute-bound task"
      ],
      "metadata": {
        "id": "Nmg__svP2NTg"
      }
    },
    {
      "cell_type": "code",
      "source": [
        "import threading\n",
        "import time\n",
        "\n",
        "def compute_intensive(n):\n",
        "    sum = 0\n",
        "    for i in range(n):\n",
        "        sum += i\n",
        "    return sum\n",
        "\n",
        "n = 10000000\n",
        "\n",
        "# Serial implementation\n",
        "start = time.time()\n",
        "for _ in range(4):\n",
        "    compute_intensive(n)\n",
        "print(\"Serial time:\", time.time() - start)\n",
        "\n",
        "# Multi-threaded implementation\n",
        "threads = []\n",
        "start = time.time()\n",
        "for _ in range(4):\n",
        "    thread = threading.Thread(target=compute_intensive, args=(n,))\n",
        "    threads.append(thread)\n",
        "    thread.start()\n",
        "for thread in threads:\n",
        "    thread.join()\n",
        "print(\"Multi-threaded time:\", time.time() - start)"
      ],
      "metadata": {
        "colab": {
          "base_uri": "https://localhost:8080/"
        },
        "id": "n5mGP8P-zURH",
        "outputId": "92ca2e06-a803-4e9f-cb24-1ef386c7c4ad"
      },
      "execution_count": 9,
      "outputs": [
        {
          "output_type": "stream",
          "name": "stdout",
          "text": [
            "Serial time: 1.7647936344146729\n",
            "Multi-threaded time: 2.6450061798095703\n"
          ]
        }
      ]
    },
    {
      "cell_type": "markdown",
      "source": [
        "### Thread overhead"
      ],
      "metadata": {
        "id": "NG3Z4i4j2RSp"
      }
    },
    {
      "cell_type": "markdown",
      "source": [
        "#### Long-running tasks"
      ],
      "metadata": {
        "id": "1LSVsk5G2XEG"
      }
    },
    {
      "cell_type": "code",
      "source": [
        "import threading\n",
        "import time\n",
        "\n",
        "def long_task():\n",
        "    time.sleep(1)  # Simulate a long-running task\n",
        "\n",
        "# Serial implementation\n",
        "start = time.time()\n",
        "for _ in range(10):\n",
        "    long_task()\n",
        "print(\"Serial time:\", time.time() - start)\n",
        "\n",
        "# Multi-threaded implementation\n",
        "threads = []\n",
        "start = time.time()\n",
        "for _ in range(10):\n",
        "    thread = threading.Thread(target=long_task)\n",
        "    threads.append(thread)\n",
        "    thread.start()\n",
        "for thread in threads:\n",
        "    thread.join()\n",
        "print(\"Multi-threaded time:\", time.time() - start)"
      ],
      "metadata": {
        "colab": {
          "base_uri": "https://localhost:8080/"
        },
        "id": "au61_IKqzc5J",
        "outputId": "4d1039e6-ff69-478b-ab62-680937eacc0c"
      },
      "execution_count": 10,
      "outputs": [
        {
          "output_type": "stream",
          "name": "stdout",
          "text": [
            "Serial time: 10.001480340957642\n",
            "Multi-threaded time: 1.0016026496887207\n"
          ]
        }
      ]
    },
    {
      "cell_type": "markdown",
      "source": [
        "#### Short tasks"
      ],
      "metadata": {
        "id": "mBbTdFWh2cQ_"
      }
    },
    {
      "cell_type": "code",
      "source": [
        "import threading\n",
        "import time\n",
        "\n",
        "def short_task():\n",
        "    pass  # Very quick task\n",
        "\n",
        "# Serial implementation\n",
        "start = time.time()\n",
        "for _ in range(10000):\n",
        "    short_task()\n",
        "print(\"Serial time:\", time.time() - start)\n",
        "\n",
        "# Multi-threaded implementation\n",
        "threads = []\n",
        "start = time.time()\n",
        "for _ in range(10000):\n",
        "    thread = threading.Thread(target=short_task)\n",
        "    threads.append(thread)\n",
        "    thread.start()\n",
        "for thread in threads:\n",
        "    thread.join()\n",
        "print(\"Multi-threaded time:\", time.time() - start)"
      ],
      "metadata": {
        "colab": {
          "base_uri": "https://localhost:8080/"
        },
        "id": "juXQy2jezpjX",
        "outputId": "8e3d7b49-b974-4523-b3c5-590019d443ca"
      },
      "execution_count": 11,
      "outputs": [
        {
          "output_type": "stream",
          "name": "stdout",
          "text": [
            "Serial time: 0.0008447170257568359\n",
            "Multi-threaded time: 1.0116851329803467\n"
          ]
        }
      ]
    },
    {
      "cell_type": "markdown",
      "source": [
        "### Synchronization issues"
      ],
      "metadata": {
        "id": "J0tWo1ZG2hGZ"
      }
    },
    {
      "cell_type": "markdown",
      "source": [
        "#### Independent tasks"
      ],
      "metadata": {
        "id": "vUg6gLu02lCe"
      }
    },
    {
      "cell_type": "code",
      "source": [
        "import threading\n",
        "import time\n",
        "\n",
        "def independent_task():\n",
        "    time.sleep(1)  # Simulate work\n",
        "\n",
        "# Serial implementation\n",
        "start = time.time()\n",
        "for _ in range(10):\n",
        "    independent_task()\n",
        "serial_time = time.time() - start\n",
        "print(f\"Serial time: {serial_time:.2f} seconds\")\n",
        "\n",
        "# Multi-threaded implementation\n",
        "threads = []\n",
        "start = time.time()\n",
        "for _ in range(10):\n",
        "    thread = threading.Thread(target=independent_task)\n",
        "    threads.append(thread)\n",
        "    thread.start()\n",
        "for thread in threads:\n",
        "    thread.join()\n",
        "threaded_time = time.time() - start\n",
        "print(f\"Multi-threaded time: {threaded_time:.2f} seconds\")"
      ],
      "metadata": {
        "colab": {
          "base_uri": "https://localhost:8080/"
        },
        "id": "drFjXGCkzxNZ",
        "outputId": "7ebbe51f-81cb-4b5c-8714-faeccd63ad12"
      },
      "execution_count": 14,
      "outputs": [
        {
          "output_type": "stream",
          "name": "stdout",
          "text": [
            "Serial time: 10.00 seconds\n",
            "Multi-threaded time: 1.00 seconds\n"
          ]
        }
      ]
    },
    {
      "cell_type": "markdown",
      "source": [
        "#### Shared data, excessive locking"
      ],
      "metadata": {
        "id": "t-wjWkfh2rYk"
      }
    },
    {
      "cell_type": "code",
      "source": [
        "import threading\n",
        "import time\n",
        "\n",
        "lock = threading.Lock()\n",
        "shared_counter = 0\n",
        "\n",
        "def increment_task():\n",
        "    global shared_counter\n",
        "    for _ in range(100000):\n",
        "        with lock:\n",
        "            shared_counter += 1\n",
        "\n",
        "# Serial implementation\n",
        "start = time.time()\n",
        "for _ in range(4):\n",
        "    increment_task()\n",
        "print(\"Serial time:\", time.time() - start)\n",
        "print(\"Final counter:\", shared_counter)\n",
        "\n",
        "# Reset counter\n",
        "shared_counter = 0\n",
        "\n",
        "# Multi-threaded implementation with frequent locking\n",
        "threads = []\n",
        "start = time.time()\n",
        "for _ in range(4):\n",
        "    thread = threading.Thread(target=increment_task)\n",
        "    threads.append(thread)\n",
        "    thread.start()\n",
        "for thread in threads:\n",
        "    thread.join()\n",
        "print(\"Multi-threaded time:\", time.time() - start)\n",
        "print(\"Final counter:\", shared_counter)"
      ],
      "metadata": {
        "colab": {
          "base_uri": "https://localhost:8080/"
        },
        "id": "GCIV5llOz5zu",
        "outputId": "643d3196-bb58-4445-9a2c-cdf4c02ef9a7"
      },
      "execution_count": 15,
      "outputs": [
        {
          "output_type": "stream",
          "name": "stdout",
          "text": [
            "Serial time: 0.11532831192016602\n",
            "Final counter: 400000\n",
            "Multi-threaded time: 0.11720466613769531\n",
            "Final counter: 400000\n"
          ]
        }
      ]
    },
    {
      "cell_type": "markdown",
      "source": [
        "## Can GPU-based-multithreading help in scaling that batched vectorized monte-carlo based neutron absorption over CPU-based mult-threading?\n",
        "* 0.11 secs. for N = 10000000 vs around 5 secs. with CPU-multithreading (WOW!!)"
      ],
      "metadata": {
        "id": "vHZ8Laqj3BeZ"
      }
    },
    {
      "cell_type": "code",
      "source": [
        "\n",
        "import torch\n",
        "import time\n",
        "import math\n",
        "\n",
        "# Check for CUDA availability\n",
        "assert torch.cuda.is_available(), \"CUDA device not available!\"\n",
        "device = torch.device('cuda')\n",
        "\n",
        "def simulate_gpu(N, max_steps=100, p_abs=0.01, batch_size=10_000_000):\n",
        "    \"\"\"GPU-accelerated simulation using PyTorch/CUDA\"\"\"\n",
        "    absorbed = 0\n",
        "    total_batches = math.ceil(N / batch_size)\n",
        "\n",
        "    # Create CUDA stream for asynchronous operations\n",
        "    stream = torch.cuda.Stream()\n",
        "\n",
        "    for batch in range(total_batches):\n",
        "        # Calculate current batch size\n",
        "        start = batch * batch_size\n",
        "        end = min((batch + 1) * batch_size, N)\n",
        "        current_batch_size = end - start\n",
        "\n",
        "        with torch.cuda.stream(stream):\n",
        "            # Generate random numbers directly on GPU\n",
        "            steps = torch.rand((current_batch_size, max_steps),\n",
        "                              device=device,\n",
        "                              dtype=torch.float32,\n",
        "                              generator=torch.Generator(device=device))\n",
        "\n",
        "            # Check for absorption (entirely on GPU)\n",
        "            absorbed_mask = (steps < p_abs).any(dim=1)\n",
        "            absorbed += absorbed_mask.sum().item()\n",
        "\n",
        "        # Print progress every 10% of batches\n",
        "        if (batch + 1) % max(1, total_batches // 10) == 0:\n",
        "            print(f\"Processed {end}/{N} neutrons ({((batch+1)/total_batches)*100:.1f}%)\")\n",
        "\n",
        "    # Synchronize stream before returning\n",
        "    stream.synchronize()\n",
        "    return absorbed\n",
        "\n",
        "if __name__ == \"__main__\":\n",
        "    # Configuration (can handle up to 1e12 neutrons easily)\n",
        "    N = 10_000_000   # 10 billion neutrons\n",
        "    MAX_STEPS = 100\n",
        "    P_ABS = 0.01\n",
        "    BATCH_SIZE = 50000 # ~3.8GB GPU memory per batch\n",
        "\n",
        "    # Warm-up GPU\n",
        "    _ = torch.rand(1000, 100, device=device)\n",
        "\n",
        "    print(f\"Simulating {N} neutrons with {MAX_STEPS} steps each\")\n",
        "    print(f\"Using CUDA device: {torch.cuda.get_device_name(device)}\\n\")\n",
        "\n",
        "    # Run simulation\n",
        "    start_time = time.time()\n",
        "    absorbed = simulate_gpu(N, MAX_STEPS, P_ABS, BATCH_SIZE)\n",
        "    total_time = time.time() - start_time\n",
        "\n",
        "    print(f\"\\nTotal absorbed: {absorbed}\")\n",
        "    print(f\"Total simulation time: {total_time:.2f} seconds\")\n",
        "    print(f\"Neutrons per second: {N/total_time:.2e}\")"
      ],
      "metadata": {
        "colab": {
          "base_uri": "https://localhost:8080/"
        },
        "id": "GRWx2pZt8gkv",
        "outputId": "1af1e6d6-67d9-4c38-dab0-97872c21bcc6"
      },
      "execution_count": 20,
      "outputs": [
        {
          "output_type": "stream",
          "name": "stdout",
          "text": [
            "Simulating 10000000 neutrons with 100 steps each\n",
            "Using CUDA device: Tesla T4\n",
            "\n",
            "Processed 1000000/10000000 neutrons (10.0%)\n",
            "Processed 2000000/10000000 neutrons (20.0%)\n",
            "Processed 3000000/10000000 neutrons (30.0%)\n",
            "Processed 4000000/10000000 neutrons (40.0%)\n",
            "Processed 5000000/10000000 neutrons (50.0%)\n",
            "Processed 6000000/10000000 neutrons (60.0%)\n",
            "Processed 7000000/10000000 neutrons (70.0%)\n",
            "Processed 8000000/10000000 neutrons (80.0%)\n",
            "Processed 9000000/10000000 neutrons (90.0%)\n",
            "Processed 10000000/10000000 neutrons (100.0%)\n",
            "\n",
            "Total absorbed: 6378600\n",
            "Total simulation time: 0.11 seconds\n",
            "Neutrons per second: 9.18e+07\n"
          ]
        }
      ]
    },
    {
      "cell_type": "markdown",
      "source": [
        "## How the multi-processing on GPU look like?"
      ],
      "metadata": {
        "id": "OzqLk5wwtD6G"
      }
    },
    {
      "cell_type": "code",
      "source": [
        "import torch\n",
        "import torch.multiprocessing as mp\n",
        "import time\n",
        "\n",
        "def worker(rank, data, result_queue):\n",
        "    torch.cuda.set_device(rank % torch.cuda.device_count())\n",
        "    data_gpu = data.to(f'cuda:{rank}')  # Move data to GPU\n",
        "    partial_sum = data_gpu.sum()\n",
        "    result_queue.put(partial_sum.item())\n",
        "\n",
        "if __name__ == '__main__':\n",
        "    # Check if the context is already set\n",
        "    # and set it to 'spawn' only if it's not set yet\n",
        "    try:\n",
        "        mp.set_start_method('spawn', force=True) # This line attempts to force the start method.\n",
        "    except RuntimeError:\n",
        "        pass  # If the context is already set, ignore the error\n",
        "\n",
        "    data = torch.randn(100_000_000)  # 100M elements on CPU\n",
        "    result_queue = mp.Queue()\n",
        "    num_processes = 4\n",
        "\n",
        "    # Profile process creation and data serialization\n",
        "    start_create = time.time()\n",
        "    processes = []\n",
        "    for i in range(num_processes):\n",
        "        p = mp.Process(target=worker, args=(i, data, result_queue))\n",
        "        processes.append(p)\n",
        "    creation_time = time.time() - start_create\n",
        "    print(f\"Process creation time: {creation_time:.4f}s\")\n",
        "\n",
        "    # Start processes\n",
        "    start_run = time.time()\n",
        "    for p in processes:\n",
        "        p.start()\n",
        "\n",
        "    # Collect results\n",
        "    results = []\n",
        "    for _ in range(num_processes):\n",
        "        results.append(result_queue.get())\n",
        "\n",
        "    for p in processes:\n",
        "        p.join()\n",
        "    total = sum(results)\n",
        "    run_time = time.time() - start_run\n",
        "    print(f\"Total sum: {total}, Execution time: {run_time:.4f}s\")"
      ],
      "metadata": {
        "colab": {
          "base_uri": "https://localhost:8080/",
          "height": 374
        },
        "id": "Mgk1D9yPtHlw",
        "outputId": "f538ad51-eede-4abc-9050-d502809e128e"
      },
      "execution_count": 7,
      "outputs": [
        {
          "output_type": "stream",
          "name": "stdout",
          "text": [
            "Process creation time: 0.0001s\n"
          ]
        },
        {
          "output_type": "error",
          "ename": "KeyboardInterrupt",
          "evalue": "",
          "traceback": [
            "\u001b[0;31m---------------------------------------------------------------------------\u001b[0m",
            "\u001b[0;31mKeyboardInterrupt\u001b[0m                         Traceback (most recent call last)",
            "\u001b[0;32m<ipython-input-7-6285c3dd6749>\u001b[0m in \u001b[0;36m<cell line: 0>\u001b[0;34m()\u001b[0m\n\u001b[1;32m     38\u001b[0m     \u001b[0mresults\u001b[0m \u001b[0;34m=\u001b[0m \u001b[0;34m[\u001b[0m\u001b[0;34m]\u001b[0m\u001b[0;34m\u001b[0m\u001b[0;34m\u001b[0m\u001b[0m\n\u001b[1;32m     39\u001b[0m     \u001b[0;32mfor\u001b[0m \u001b[0m_\u001b[0m \u001b[0;32min\u001b[0m \u001b[0mrange\u001b[0m\u001b[0;34m(\u001b[0m\u001b[0mnum_processes\u001b[0m\u001b[0;34m)\u001b[0m\u001b[0;34m:\u001b[0m\u001b[0;34m\u001b[0m\u001b[0;34m\u001b[0m\u001b[0m\n\u001b[0;32m---> 40\u001b[0;31m         \u001b[0mresults\u001b[0m\u001b[0;34m.\u001b[0m\u001b[0mappend\u001b[0m\u001b[0;34m(\u001b[0m\u001b[0mresult_queue\u001b[0m\u001b[0;34m.\u001b[0m\u001b[0mget\u001b[0m\u001b[0;34m(\u001b[0m\u001b[0;34m)\u001b[0m\u001b[0;34m)\u001b[0m\u001b[0;34m\u001b[0m\u001b[0;34m\u001b[0m\u001b[0m\n\u001b[0m\u001b[1;32m     41\u001b[0m \u001b[0;34m\u001b[0m\u001b[0m\n\u001b[1;32m     42\u001b[0m     \u001b[0;32mfor\u001b[0m \u001b[0mp\u001b[0m \u001b[0;32min\u001b[0m \u001b[0mprocesses\u001b[0m\u001b[0;34m:\u001b[0m\u001b[0;34m\u001b[0m\u001b[0;34m\u001b[0m\u001b[0m\n",
            "\u001b[0;32m/usr/lib/python3.11/multiprocessing/queues.py\u001b[0m in \u001b[0;36mget\u001b[0;34m(self, block, timeout)\u001b[0m\n\u001b[1;32m    101\u001b[0m         \u001b[0;32mif\u001b[0m \u001b[0mblock\u001b[0m \u001b[0;32mand\u001b[0m \u001b[0mtimeout\u001b[0m \u001b[0;32mis\u001b[0m \u001b[0;32mNone\u001b[0m\u001b[0;34m:\u001b[0m\u001b[0;34m\u001b[0m\u001b[0;34m\u001b[0m\u001b[0m\n\u001b[1;32m    102\u001b[0m             \u001b[0;32mwith\u001b[0m \u001b[0mself\u001b[0m\u001b[0;34m.\u001b[0m\u001b[0m_rlock\u001b[0m\u001b[0;34m:\u001b[0m\u001b[0;34m\u001b[0m\u001b[0;34m\u001b[0m\u001b[0m\n\u001b[0;32m--> 103\u001b[0;31m                 \u001b[0mres\u001b[0m \u001b[0;34m=\u001b[0m \u001b[0mself\u001b[0m\u001b[0;34m.\u001b[0m\u001b[0m_recv_bytes\u001b[0m\u001b[0;34m(\u001b[0m\u001b[0;34m)\u001b[0m\u001b[0;34m\u001b[0m\u001b[0;34m\u001b[0m\u001b[0m\n\u001b[0m\u001b[1;32m    104\u001b[0m             \u001b[0mself\u001b[0m\u001b[0;34m.\u001b[0m\u001b[0m_sem\u001b[0m\u001b[0;34m.\u001b[0m\u001b[0mrelease\u001b[0m\u001b[0;34m(\u001b[0m\u001b[0;34m)\u001b[0m\u001b[0;34m\u001b[0m\u001b[0;34m\u001b[0m\u001b[0m\n\u001b[1;32m    105\u001b[0m         \u001b[0;32melse\u001b[0m\u001b[0;34m:\u001b[0m\u001b[0;34m\u001b[0m\u001b[0;34m\u001b[0m\u001b[0m\n",
            "\u001b[0;32m/usr/lib/python3.11/multiprocessing/connection.py\u001b[0m in \u001b[0;36mrecv_bytes\u001b[0;34m(self, maxlength)\u001b[0m\n\u001b[1;32m    214\u001b[0m         \u001b[0;32mif\u001b[0m \u001b[0mmaxlength\u001b[0m \u001b[0;32mis\u001b[0m \u001b[0;32mnot\u001b[0m \u001b[0;32mNone\u001b[0m \u001b[0;32mand\u001b[0m \u001b[0mmaxlength\u001b[0m \u001b[0;34m<\u001b[0m \u001b[0;36m0\u001b[0m\u001b[0;34m:\u001b[0m\u001b[0;34m\u001b[0m\u001b[0;34m\u001b[0m\u001b[0m\n\u001b[1;32m    215\u001b[0m             \u001b[0;32mraise\u001b[0m \u001b[0mValueError\u001b[0m\u001b[0;34m(\u001b[0m\u001b[0;34m\"negative maxlength\"\u001b[0m\u001b[0;34m)\u001b[0m\u001b[0;34m\u001b[0m\u001b[0;34m\u001b[0m\u001b[0m\n\u001b[0;32m--> 216\u001b[0;31m         \u001b[0mbuf\u001b[0m \u001b[0;34m=\u001b[0m \u001b[0mself\u001b[0m\u001b[0;34m.\u001b[0m\u001b[0m_recv_bytes\u001b[0m\u001b[0;34m(\u001b[0m\u001b[0mmaxlength\u001b[0m\u001b[0;34m)\u001b[0m\u001b[0;34m\u001b[0m\u001b[0;34m\u001b[0m\u001b[0m\n\u001b[0m\u001b[1;32m    217\u001b[0m         \u001b[0;32mif\u001b[0m \u001b[0mbuf\u001b[0m \u001b[0;32mis\u001b[0m \u001b[0;32mNone\u001b[0m\u001b[0;34m:\u001b[0m\u001b[0;34m\u001b[0m\u001b[0;34m\u001b[0m\u001b[0m\n\u001b[1;32m    218\u001b[0m             \u001b[0mself\u001b[0m\u001b[0;34m.\u001b[0m\u001b[0m_bad_message_length\u001b[0m\u001b[0;34m(\u001b[0m\u001b[0;34m)\u001b[0m\u001b[0;34m\u001b[0m\u001b[0;34m\u001b[0m\u001b[0m\n",
            "\u001b[0;32m/usr/lib/python3.11/multiprocessing/connection.py\u001b[0m in \u001b[0;36m_recv_bytes\u001b[0;34m(self, maxsize)\u001b[0m\n\u001b[1;32m    428\u001b[0m \u001b[0;34m\u001b[0m\u001b[0m\n\u001b[1;32m    429\u001b[0m     \u001b[0;32mdef\u001b[0m \u001b[0m_recv_bytes\u001b[0m\u001b[0;34m(\u001b[0m\u001b[0mself\u001b[0m\u001b[0;34m,\u001b[0m \u001b[0mmaxsize\u001b[0m\u001b[0;34m=\u001b[0m\u001b[0;32mNone\u001b[0m\u001b[0;34m)\u001b[0m\u001b[0;34m:\u001b[0m\u001b[0;34m\u001b[0m\u001b[0;34m\u001b[0m\u001b[0m\n\u001b[0;32m--> 430\u001b[0;31m         \u001b[0mbuf\u001b[0m \u001b[0;34m=\u001b[0m \u001b[0mself\u001b[0m\u001b[0;34m.\u001b[0m\u001b[0m_recv\u001b[0m\u001b[0;34m(\u001b[0m\u001b[0;36m4\u001b[0m\u001b[0;34m)\u001b[0m\u001b[0;34m\u001b[0m\u001b[0;34m\u001b[0m\u001b[0m\n\u001b[0m\u001b[1;32m    431\u001b[0m         \u001b[0msize\u001b[0m\u001b[0;34m,\u001b[0m \u001b[0;34m=\u001b[0m \u001b[0mstruct\u001b[0m\u001b[0;34m.\u001b[0m\u001b[0munpack\u001b[0m\u001b[0;34m(\u001b[0m\u001b[0;34m\"!i\"\u001b[0m\u001b[0;34m,\u001b[0m \u001b[0mbuf\u001b[0m\u001b[0;34m.\u001b[0m\u001b[0mgetvalue\u001b[0m\u001b[0;34m(\u001b[0m\u001b[0;34m)\u001b[0m\u001b[0;34m)\u001b[0m\u001b[0;34m\u001b[0m\u001b[0;34m\u001b[0m\u001b[0m\n\u001b[1;32m    432\u001b[0m         \u001b[0;32mif\u001b[0m \u001b[0msize\u001b[0m \u001b[0;34m==\u001b[0m \u001b[0;34m-\u001b[0m\u001b[0;36m1\u001b[0m\u001b[0;34m:\u001b[0m\u001b[0;34m\u001b[0m\u001b[0;34m\u001b[0m\u001b[0m\n",
            "\u001b[0;32m/usr/lib/python3.11/multiprocessing/connection.py\u001b[0m in \u001b[0;36m_recv\u001b[0;34m(self, size, read)\u001b[0m\n\u001b[1;32m    393\u001b[0m         \u001b[0mremaining\u001b[0m \u001b[0;34m=\u001b[0m \u001b[0msize\u001b[0m\u001b[0;34m\u001b[0m\u001b[0;34m\u001b[0m\u001b[0m\n\u001b[1;32m    394\u001b[0m         \u001b[0;32mwhile\u001b[0m \u001b[0mremaining\u001b[0m \u001b[0;34m>\u001b[0m \u001b[0;36m0\u001b[0m\u001b[0;34m:\u001b[0m\u001b[0;34m\u001b[0m\u001b[0;34m\u001b[0m\u001b[0m\n\u001b[0;32m--> 395\u001b[0;31m             \u001b[0mchunk\u001b[0m \u001b[0;34m=\u001b[0m \u001b[0mread\u001b[0m\u001b[0;34m(\u001b[0m\u001b[0mhandle\u001b[0m\u001b[0;34m,\u001b[0m \u001b[0mremaining\u001b[0m\u001b[0;34m)\u001b[0m\u001b[0;34m\u001b[0m\u001b[0;34m\u001b[0m\u001b[0m\n\u001b[0m\u001b[1;32m    396\u001b[0m             \u001b[0mn\u001b[0m \u001b[0;34m=\u001b[0m \u001b[0mlen\u001b[0m\u001b[0;34m(\u001b[0m\u001b[0mchunk\u001b[0m\u001b[0;34m)\u001b[0m\u001b[0;34m\u001b[0m\u001b[0;34m\u001b[0m\u001b[0m\n\u001b[1;32m    397\u001b[0m             \u001b[0;32mif\u001b[0m \u001b[0mn\u001b[0m \u001b[0;34m==\u001b[0m \u001b[0;36m0\u001b[0m\u001b[0;34m:\u001b[0m\u001b[0;34m\u001b[0m\u001b[0;34m\u001b[0m\u001b[0m\n",
            "\u001b[0;31mKeyboardInterrupt\u001b[0m: "
          ]
        }
      ]
    }
  ]
}